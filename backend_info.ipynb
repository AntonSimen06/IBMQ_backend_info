{
 "cells": [
  {
   "cell_type": "code",
   "execution_count": 2,
   "metadata": {},
   "outputs": [],
   "source": [
    "%matplotlib inline\n",
    "import numpy as np\n",
    "from numpy import pi\n",
    "from qiskit import QuantumCircuit, execute, BasicAer, IBMQ\n",
    "from qiskit.compiler import transpile, assemble\n",
    "from qiskit.tools.jupyter import *\n",
    "from qiskit.visualization import plot_histogram\n",
    "from qiskit.tools.monitor import job_monitor\n",
    "provider = IBMQ.load_account()"
   ]
  },
  {
   "cell_type": "markdown",
   "metadata": {},
   "source": [
    "# Extração de propriedades dos backends da IBM Quantum\n",
    "\n",
    "Esse notebook funciona melhor pelo Quantum Lab (não precisa instalar nada localmente, basta fazer login no IBM Quantum Experience e clicar em Launch Lab). Se preferirem usar o Qiskit localmente, pode usar o mesmo código, mas terão que copiar o API Token da conta de voces e colar dentro de IBMQ.load_account('colar_aqui');"
   ]
  },
  {
   "cell_type": "code",
   "execution_count": 59,
   "metadata": {},
   "outputs": [
    {
     "name": "stderr",
     "output_type": "stream",
     "text": [
      "ibmqfactory.load_account:WARNING:2021-11-26 15:33:12,784: Credentials are already in use. The existing account in the session will be replaced.\n"
     ]
    }
   ],
   "source": [
    "IBMQ.load_account();\n",
    "provider = IBMQ.get_provider(group='open')\n",
    "# caso queiram utilizar o dispositivo com a menor fila\n",
    "#from qiskit.providers.ibmq import least_busy\n",
    "#backend = least_busy(provider.backends(simulator=False, filters=lambda b: b.configuration().n_qubits >= 5))\n",
    "\n",
    "# escolhendo ibmq_belem para retirar infos\n",
    "backend = provider.backend.ibmq_belem"
   ]
  },
  {
   "cell_type": "markdown",
   "metadata": {},
   "source": [
    "## Coupling map e a função transpiler()\n",
    "\n",
    "Apenas pra mostrar como extrair o coupling map e o output do transpiler. Lembrando que cada SWAP é implementada com 3 CNOTs e em muitos casos são necessárias várias SWAPs pra \"tornar dois qubits vizinhos\". No caso do ibmq_belem, se quisermos aplicar uma CNOT entre q0 e q4, são necessárias 2 SWAPs (6 CNOTS) adicionais. \n",
    "\n",
    "## Gates de base\n",
    "\n",
    "Em geral, são as mesmas pra todos os dispositivos (['id', 'rz', 'sx', 'x', 'cx', 'reset']). A função transpile() uma operação qualquer em uma combinação dos gates de base. Um exemplo é a operação hadamard que pode ser implementada como $Rz_{\\pi/2}\\sqrt{X}Rz_{\\pi/2}$.\n"
   ]
  },
  {
   "cell_type": "code",
   "execution_count": 66,
   "metadata": {},
   "outputs": [
    {
     "name": "stdout",
     "output_type": "stream",
     "text": [
      "[[0, 1], [1, 0], [1, 2], [1, 3], [2, 1], [3, 1], [3, 4], [4, 3]]\n",
      "['id', 'rz', 'sx', 'x', 'cx', 'reset']\n"
     ]
    }
   ],
   "source": [
    "config = backend.configuration()\n",
    "params = backend.properties()\n",
    "\n",
    "print(config.coupling_map)\n",
    "print(config.basis_gates)"
   ]
  },
  {
   "cell_type": "code",
   "execution_count": 67,
   "metadata": {},
   "outputs": [],
   "source": [
    "qc = QuantumCircuit(5)\n",
    "qc.h(0)\n",
    "qc.barrier()\n",
    "qc.cx(0, 4)\n",
    "mapped_circuit = transpile(qc, backend=backend)\n",
    "job = backend.run(mapped_circuit, shots=1024)"
   ]
  },
  {
   "cell_type": "code",
   "execution_count": 68,
   "metadata": {},
   "outputs": [
    {
     "data": {
      "image/png": "[encoded data removed]",
      "text/plain": [
       "<Figure size 606.129x325.08 with 1 Axes>"
      ]
     },
     "execution_count": 68,
     "metadata": {},
     "output_type": "execute_result"
    }
   ],
   "source": [
    "mapped_circuit.draw()"
   ]
  },
  {
   "cell_type": "markdown",
   "metadata": {},
   "source": [
    "Fazendo a SWAP(0,1) e SWAP(3,4), os qubits q0 e q4 se tornaram \"vizinhos\"."
   ]
  },
  {
   "cell_type": "markdown",
   "metadata": {},
   "source": [
    "## Vizualização alto nível de algumas propriedades"
   ]
  },
  {
   "cell_type": "code",
   "execution_count": 34,
   "metadata": {},
   "outputs": [
    {
     "data": {
      "application/vnd.jupyter.widget-view+json": {
       "model_id": "a2c15e1b3fee4c818ec5acd2029957f7",
       "version_major": 2,
       "version_minor": 0
      },
      "text/plain": [
       "VBox(children=(HTML(value=\"<h1 style='color:#ffffff;background-color:#000000;padding-top: 1%;padding-bottom: 1…"
      ]
     },
     "metadata": {},
     "output_type": "display_data"
    },
    {
     "data": {
      "text/plain": [
       "<IBMQBackend('ibmq_belem') from IBMQ(hub='ibm-q', group='open', project='main')>"
      ]
     },
     "execution_count": 34,
     "metadata": {},
     "output_type": "execute_result"
    }
   ],
   "source": [
    "backend"
   ]
  },
  {
   "cell_type": "markdown",
   "metadata": {},
   "source": [
    "## Extração de propriedades e parâmetros de qubits e gates\n",
    "\n",
    "Pra conseguirmos acessar valores ou propriedades individualmente podemos utilizar backend.properties() ou backend.configuration(), que já foram definidos como params e config lá em cima. "
   ]
  },
  {
   "cell_type": "code",
   "execution_count": 10,
   "metadata": {},
   "outputs": [
    {
     "data": {
      "text/plain": [
       "'ibmq_belem'"
      ]
     },
     "execution_count": 10,
     "metadata": {},
     "output_type": "execute_result"
    }
   ],
   "source": [
    "#NOME\n",
    "backend.properties().backend_name"
   ]
  },
  {
   "cell_type": "markdown",
   "metadata": {},
   "source": [
    "## Informações dos qubits"
   ]
  },
  {
   "cell_type": "code",
   "execution_count": 75,
   "metadata": {},
   "outputs": [
    {
     "data": {
      "text/plain": [
       "[Nduv(datetime.datetime(2021, 11, 26, 5, 29, 29, tzinfo=tzlocal()), T1, us, 101.37763270227741),\n",
       " Nduv(datetime.datetime(2021, 11, 26, 5, 34, 10, tzinfo=tzlocal()), T2, us, 116.39227469806245),\n",
       " Nduv(datetime.datetime(2021, 11, 26, 6, 20, 36, tzinfo=tzlocal()), frequency, GHz, 5.090161412517565),\n",
       " Nduv(datetime.datetime(2021, 11, 26, 6, 20, 36, tzinfo=tzlocal()), anharmonicity, GHz, -0.33612300518216515),\n",
       " Nduv(datetime.datetime(2021, 11, 26, 5, 28, 55, tzinfo=tzlocal()), readout_error, , 0.07109999999999994),\n",
       " Nduv(datetime.datetime(2021, 11, 26, 5, 28, 55, tzinfo=tzlocal()), prob_meas0_prep1, , 0.122),\n",
       " Nduv(datetime.datetime(2021, 11, 26, 5, 28, 55, tzinfo=tzlocal()), prob_meas1_prep0, , 0.0202),\n",
       " Nduv(datetime.datetime(2021, 11, 26, 5, 28, 55, tzinfo=tzlocal()), readout_length, ns, 5351.11111111111)]"
      ]
     },
     "execution_count": 75,
     "metadata": {},
     "output_type": "execute_result"
    }
   ],
   "source": [
    "qubits_info = backend.properties().qubits\n",
    "#EXEMPLO: info do qubit q0\n",
    "qubits_info[0]"
   ]
  },
  {
   "cell_type": "code",
   "execution_count": 76,
   "metadata": {},
   "outputs": [
    {
     "data": {
      "text/plain": [
       "[[Nduv(datetime.datetime(2021, 11, 26, 5, 29, 29, tzinfo=tzlocal()), T1, us, 101.37763270227741),\n",
       "  Nduv(datetime.datetime(2021, 11, 26, 5, 34, 10, tzinfo=tzlocal()), T2, us, 116.39227469806245),\n",
       "  Nduv(datetime.datetime(2021, 11, 26, 6, 20, 36, tzinfo=tzlocal()), frequency, GHz, 5.090161412517565),\n",
       "  Nduv(datetime.datetime(2021, 11, 26, 6, 20, 36, tzinfo=tzlocal()), anharmonicity, GHz, -0.33612300518216515),\n",
       "  Nduv(datetime.datetime(2021, 11, 26, 5, 28, 55, tzinfo=tzlocal()), readout_error, , 0.07109999999999994),\n",
       "  Nduv(datetime.datetime(2021, 11, 26, 5, 28, 55, tzinfo=tzlocal()), prob_meas0_prep1, , 0.122),\n",
       "  Nduv(datetime.datetime(2021, 11, 26, 5, 28, 55, tzinfo=tzlocal()), prob_meas1_prep0, , 0.0202),\n",
       "  Nduv(datetime.datetime(2021, 11, 26, 5, 28, 55, tzinfo=tzlocal()), readout_length, ns, 5351.11111111111)],\n",
       " [Nduv(datetime.datetime(2021, 11, 26, 5, 29, 29, tzinfo=tzlocal()), T1, us, 100.40316747046508),\n",
       "  Nduv(datetime.datetime(2021, 11, 26, 5, 35, 16, tzinfo=tzlocal()), T2, us, 101.14532813609742),\n",
       "  Nduv(datetime.datetime(2021, 11, 26, 6, 20, 36, tzinfo=tzlocal()), frequency, GHz, 5.245573007719825),\n",
       "  Nduv(datetime.datetime(2021, 11, 26, 6, 20, 36, tzinfo=tzlocal()), anharmonicity, GHz, -0.316572131412737),\n",
       "  Nduv(datetime.datetime(2021, 11, 26, 5, 28, 55, tzinfo=tzlocal()), readout_error, , 0.021600000000000064),\n",
       "  Nduv(datetime.datetime(2021, 11, 26, 5, 28, 55, tzinfo=tzlocal()), prob_meas0_prep1, , 0.036599999999999966),\n",
       "  Nduv(datetime.datetime(2021, 11, 26, 5, 28, 55, tzinfo=tzlocal()), prob_meas1_prep0, , 0.0066),\n",
       "  Nduv(datetime.datetime(2021, 11, 26, 5, 28, 55, tzinfo=tzlocal()), readout_length, ns, 5351.11111111111)],\n",
       " [Nduv(datetime.datetime(2021, 11, 26, 5, 29, 29, tzinfo=tzlocal()), T1, us, 93.96080203549424),\n",
       "  Nduv(datetime.datetime(2021, 11, 26, 5, 34, 10, tzinfo=tzlocal()), T2, us, 53.364793707184155),\n",
       "  Nduv(datetime.datetime(2021, 11, 26, 6, 20, 36, tzinfo=tzlocal()), frequency, GHz, 5.361467104180987),\n",
       "  Nduv(datetime.datetime(2021, 11, 26, 6, 20, 36, tzinfo=tzlocal()), anharmonicity, GHz, -0.3306274884584928),\n",
       "  Nduv(datetime.datetime(2021, 11, 26, 5, 28, 55, tzinfo=tzlocal()), readout_error, , 0.023400000000000087),\n",
       "  Nduv(datetime.datetime(2021, 11, 26, 5, 28, 55, tzinfo=tzlocal()), prob_meas0_prep1, , 0.038000000000000034),\n",
       "  Nduv(datetime.datetime(2021, 11, 26, 5, 28, 55, tzinfo=tzlocal()), prob_meas1_prep0, , 0.0088),\n",
       "  Nduv(datetime.datetime(2021, 11, 26, 5, 28, 55, tzinfo=tzlocal()), readout_length, ns, 5351.11111111111)],\n",
       " [Nduv(datetime.datetime(2021, 11, 26, 5, 29, 29, tzinfo=tzlocal()), T1, us, 101.15260858663777),\n",
       "  Nduv(datetime.datetime(2021, 11, 26, 5, 34, 10, tzinfo=tzlocal()), T2, us, 152.4386899051739),\n",
       "  Nduv(datetime.datetime(2021, 11, 26, 6, 20, 36, tzinfo=tzlocal()), frequency, GHz, 5.17037964741889),\n",
       "  Nduv(datetime.datetime(2021, 11, 26, 6, 20, 36, tzinfo=tzlocal()), anharmonicity, GHz, -0.33373922611368106),\n",
       "  Nduv(datetime.datetime(2021, 11, 26, 5, 28, 55, tzinfo=tzlocal()), readout_error, , 0.01649999999999996),\n",
       "  Nduv(datetime.datetime(2021, 11, 26, 5, 28, 55, tzinfo=tzlocal()), prob_meas0_prep1, , 0.02959999999999996),\n",
       "  Nduv(datetime.datetime(2021, 11, 26, 5, 28, 55, tzinfo=tzlocal()), prob_meas1_prep0, , 0.0034),\n",
       "  Nduv(datetime.datetime(2021, 11, 26, 5, 28, 55, tzinfo=tzlocal()), readout_length, ns, 5351.11111111111)],\n",
       " [Nduv(datetime.datetime(2021, 11, 25, 5, 12, 42, tzinfo=tzlocal()), T1, us, 66.89266191392947),\n",
       "  Nduv(datetime.datetime(2021, 11, 25, 5, 14, 26, tzinfo=tzlocal()), T2, us, 102.42666080432498),\n",
       "  Nduv(datetime.datetime(2021, 11, 26, 6, 20, 36, tzinfo=tzlocal()), frequency, GHz, 5.258465750602411),\n",
       "  Nduv(datetime.datetime(2021, 11, 26, 6, 20, 36, tzinfo=tzlocal()), anharmonicity, GHz, -0.3313451432371279),\n",
       "  Nduv(datetime.datetime(2021, 11, 26, 5, 28, 55, tzinfo=tzlocal()), readout_error, , 0.024599999999999955),\n",
       "  Nduv(datetime.datetime(2021, 11, 26, 5, 28, 55, tzinfo=tzlocal()), prob_meas0_prep1, , 0.04300000000000004),\n",
       "  Nduv(datetime.datetime(2021, 11, 26, 5, 28, 55, tzinfo=tzlocal()), prob_meas1_prep0, , 0.0062),\n",
       "  Nduv(datetime.datetime(2021, 11, 26, 5, 28, 55, tzinfo=tzlocal()), readout_length, ns, 5351.11111111111)]]"
      ]
     },
     "execution_count": 76,
     "metadata": {},
     "output_type": "execute_result"
    }
   ],
   "source": [
    "#info de tosos os qubits\n",
    "qubits_info"
   ]
  },
  {
   "cell_type": "markdown",
   "metadata": {},
   "source": [
    "## Informações das single-qubit gates"
   ]
  },
  {
   "cell_type": "code",
   "execution_count": 85,
   "metadata": {},
   "outputs": [
    {
     "name": "stdout",
     "output_type": "stream",
     "text": [
      "qubit:  0 DURAÇÃO:  3.5555555555555554e-08 ERRO:  0.0007718408178957369\n",
      "qubit:  1 DURAÇÃO:  3.5555555555555554e-08 ERRO:  0.0010457516495022813\n",
      "qubit:  2 DURAÇÃO:  3.5555555555555554e-08 ERRO:  0.0002510409094420984\n",
      "qubit:  3 DURAÇÃO:  3.5555555555555554e-08 ERRO:  0.00024791955323611565\n",
      "qubit:  4 DURAÇÃO:  3.5555555555555554e-08 ERRO:  0.00023453147905543907\n"
     ]
    }
   ],
   "source": [
    "#EXEMPLO: calcular tempo de duração e erro da porta SX para cada qubit\n",
    "for qubit in range(config.n_qubits):\n",
    "    print(\"qubit: \",qubit, \"DURAÇÃO: \", params.gate_length('sx',qubit), \"ERRO: \", params.gate_error('sx',qubit))"
   ]
  },
  {
   "cell_type": "markdown",
   "metadata": {
    "tags": []
   },
   "source": [
    "## Informações da CNOT\n",
    "Apenas entre qubits interconectados"
   ]
  },
  {
   "cell_type": "code",
   "execution_count": 96,
   "metadata": {},
   "outputs": [
    {
     "name": "stdout",
     "output_type": "stream",
     "text": [
      "[0, 1] DURAÇÃO:  8.106666666666666e-07 ERRO:  0.030576268549815266\n",
      "[1, 0] DURAÇÃO:  7.751111111111111e-07 ERRO:  0.030576268549815266\n",
      "[1, 2] DURAÇÃO:  4.48e-07 ERRO:  0.007840589637344603\n",
      "[1, 3] DURAÇÃO:  4.337777777777778e-07 ERRO:  0.008789190071562397\n",
      "[2, 1] DURAÇÃO:  4.124444444444444e-07 ERRO:  0.007840589637344603\n",
      "[3, 1] DURAÇÃO:  3.9822222222222215e-07 ERRO:  0.008789190071562397\n",
      "[3, 4] DURAÇÃO:  5.902222222222222e-07 ERRO:  0.008410322263388836\n",
      "[4, 3] DURAÇÃO:  5.546666666666667e-07 ERRO:  0.008410322263388836\n"
     ]
    }
   ],
   "source": [
    "for qubits in config.coupling_map:\n",
    "    print(qubits,\"DURAÇÃO: \", params.gate_length('cx',qubits), \"ERRO: \", params.gate_error('cx',qubits))"
   ]
  },
  {
   "cell_type": "markdown",
   "metadata": {},
   "source": [
    "## Informações do canal"
   ]
  },
  {
   "cell_type": "code",
   "execution_count": 82,
   "metadata": {},
   "outputs": [
    {
     "data": {
      "text/plain": [
       "{'description': 'Qubits are modeled as Duffing oscillators. In this case, the system includes higher energy states, i.e. not just |0> and |1>. The Pauli operators are generalized via the following set of transformations:\\n\\n$(\\\\mathbb{I}-\\\\sigma_{i}^z)/2 \\\\rightarrow O_i \\\\equiv b^\\\\dagger_{i} b_{i}$,\\n\\n$\\\\sigma_{+} \\\\rightarrow b^\\\\dagger$,\\n\\n$\\\\sigma_{-} \\\\rightarrow b$,\\n\\n$\\\\sigma_{i}^X \\\\rightarrow b^\\\\dagger_{i} + b_{i}$.\\n\\nQubits are coupled through resonator buses. The provided Hamiltonian has been projected into the zero excitation subspace of the resonator buses leading to an effective qubit-qubit flip-flop interaction. The qubit resonance frequencies in the Hamiltonian are the cavity dressed frequencies and not exactly what is returned by the backend defaults, which also includes the dressing due to the qubit-qubit interactions.\\n\\nQuantities are returned in angular frequencies, with units 2*pi*GHz.\\n\\nWARNING: Currently not all system Hamiltonian information is available to the public, missing values have been replaced with 0.\\n',\n",
       " 'h_latex': '\\\\begin{align} \\\\mathcal{H}/\\\\hbar = & \\\\sum_{i=0}^{4}\\\\left(\\\\frac{\\\\omega_{q,i}}{2}(\\\\mathbb{I}-\\\\sigma_i^{z})+\\\\frac{\\\\Delta_{i}}{2}(O_i^2-O_i)+\\\\Omega_{d,i}D_i(t)\\\\sigma_i^{X}\\\\right) \\\\\\\\ & + J_{0,1}(\\\\sigma_{0}^{+}\\\\sigma_{1}^{-}+\\\\sigma_{0}^{-}\\\\sigma_{1}^{+}) + J_{1,2}(\\\\sigma_{1}^{+}\\\\sigma_{2}^{-}+\\\\sigma_{1}^{-}\\\\sigma_{2}^{+}) + J_{1,3}(\\\\sigma_{1}^{+}\\\\sigma_{3}^{-}+\\\\sigma_{1}^{-}\\\\sigma_{3}^{+}) + J_{3,4}(\\\\sigma_{3}^{+}\\\\sigma_{4}^{-}+\\\\sigma_{3}^{-}\\\\sigma_{4}^{+}) \\\\\\\\ & + \\\\Omega_{d,0}(U_{0}^{(0,1)}(t))\\\\sigma_{0}^{X} + \\\\Omega_{d,1}(U_{1}^{(1,0)}(t)+U_{3}^{(1,3)}(t)+U_{2}^{(1,2)}(t))\\\\sigma_{1}^{X} \\\\\\\\ & + \\\\Omega_{d,2}(U_{4}^{(2,1)}(t))\\\\sigma_{2}^{X} + \\\\Omega_{d,3}(U_{6}^{(3,4)}(t)+U_{5}^{(3,1)}(t))\\\\sigma_{3}^{X} \\\\\\\\ & + \\\\Omega_{d,4}(U_{7}^{(4,3)}(t))\\\\sigma_{4}^{X} \\\\\\\\ \\\\end{align}',\n",
       " 'h_str': ['_SUM[i,0,4,wq{i}/2*(I{i}-Z{i})]',\n",
       "  '_SUM[i,0,4,delta{i}/2*O{i}*O{i}]',\n",
       "  '_SUM[i,0,4,-delta{i}/2*O{i}]',\n",
       "  '_SUM[i,0,4,omegad{i}*X{i}||D{i}]',\n",
       "  'jq0q1*Sp0*Sm1',\n",
       "  'jq0q1*Sm0*Sp1',\n",
       "  'jq1q2*Sp1*Sm2',\n",
       "  'jq1q2*Sm1*Sp2',\n",
       "  'jq1q3*Sp1*Sm3',\n",
       "  'jq1q3*Sm1*Sp3',\n",
       "  'jq3q4*Sp3*Sm4',\n",
       "  'jq3q4*Sm3*Sp4',\n",
       "  'omegad1*X0||U0',\n",
       "  'omegad0*X1||U1',\n",
       "  'omegad3*X1||U3',\n",
       "  'omegad2*X1||U2',\n",
       "  'omegad1*X2||U4',\n",
       "  'omegad4*X3||U6',\n",
       "  'omegad1*X3||U5',\n",
       "  'omegad3*X4||U7'],\n",
       " 'osc': {},\n",
       " 'qub': {'0': 3, '1': 3, '2': 3, '3': 3, '4': 3},\n",
       " 'vars': {'delta0': -2111923127.5656283,\n",
       "  'delta1': -1989081364.755034,\n",
       "  'delta2': -2077393777.6320906,\n",
       "  'delta3': -2096945401.9469662,\n",
       "  'delta4': -2081902935.5928373,\n",
       "  'jq0q1': 11772262.300160972,\n",
       "  'jq1q2': 12605700.949390706,\n",
       "  'jq1q3': 12591488.65913717,\n",
       "  'jq3q4': 10516619.12410011,\n",
       "  'omegad0': 786926791.210201,\n",
       "  'omegad1': 792932259.3557246,\n",
       "  'omegad2': 1962572630.5330732,\n",
       "  'omegad3': 767439438.556237,\n",
       "  'omegad4': 608256873.773961,\n",
       "  'wq0': 31982427398.302853,\n",
       "  'wq1': 32958907249.843037,\n",
       "  'wq2': 33687091333.91666,\n",
       "  'wq3': 32486453433.202732,\n",
       "  'wq4': 33039914742.492138}}"
      ]
     },
     "execution_count": 82,
     "metadata": {},
     "output_type": "execute_result"
    }
   ],
   "source": [
    "config.hamiltonian"
   ]
  },
  {
   "cell_type": "code",
   "execution_count": null,
   "metadata": {},
   "outputs": [],
   "source": []
  }
 ],
 "metadata": {
  "kernelspec": {
   "display_name": "Qiskit v0.32.1 (ipykernel)",
   "language": "python",
   "name": "python3"
  },
  "language_info": {
   "codemirror_mode": {
    "name": "ipython",
    "version": 3
   },
   "file_extension": ".py",
   "mimetype": "text/x-python",
   "name": "python",
   "nbconvert_exporter": "python",
   "pygments_lexer": "ipython3",
   "version": "3.8.10"
  },
  "widgets": {
   "application/vnd.jupyter.widget-state+json": {
    "state": {
     "008db7c72ef040e59644bc52a5f21ab5": {
      "model_module": "@jupyter-widgets/controls",
      "model_module_version": "1.5.0",
      "model_name": "DescriptionStyleModel",
      "state": {
       "description_width": ""
      }
     },
     "00d4abcb6c0a4f02b8327fc65a8ed584": {
      "model_module": "@jupyter-widgets/controls",
      "model_module_version": "1.5.0",
      "model_name": "ButtonModel",
      "state": {
       "icon": "close",
       "layout": "IPY_MODEL_2d8acfc7439f423fb521ce29224fa7ac",
       "style": "IPY_MODEL_ad934a49b9dc4f499b763f30326becd1"
      }
     },
     "01bff34acb7a4da1bda0c129de3211c4": {
      "model_module": "@jupyter-widgets/controls",
      "model_module_version": "1.5.0",
      "model_name": "HTMLModel",
      "state": {
       "layout": "IPY_MODEL_44d8c211b75c44f98624de25c8e4ccdb",
       "style": "IPY_MODEL_188c3562832e4e65b943a63f903344e8",
       "value": "61a0ee4afd3a88ef40590144"
      }
     },
     "035621f0bd7a4fccb3c9878fd737c33e": {
      "model_module": "@jupyter-widgets/controls",
      "model_module_version": "1.5.0",
      "model_name": "HTMLModel",
      "state": {
       "layout": "IPY_MODEL_69366716bb6c4515bf76d218e2080c4e",
       "style": "IPY_MODEL_8d5d3d978acd4b43a83b2834a3828265",
       "value": "-"
      }
     },
     "03e0f03c700e47bd9eff6c91e4987143": {
      "model_module": "@jupyter-widgets/controls",
      "model_module_version": "1.5.0",
      "model_name": "HTMLModel",
      "state": {
       "layout": "IPY_MODEL_31c306ba903c4ca095db95569854d4df",
       "style": "IPY_MODEL_36817ff1ca364a25868847deaa9b2316",
       "value": "<font style='color:#34BC6E'>DONE</font>"
      }
     },
     "03fcf29a87494883bcea795c4cc93163": {
      "model_module": "@jupyter-widgets/base",
      "model_module_version": "1.2.0",
      "model_name": "LayoutModel",
      "state": {
       "grid_gap": "0px 0px",
       "grid_template_areas": "\n                               \"left right right right\"\n                               \"bottom bottom bottom bottom\"\n                               ",
       "grid_template_columns": "31% 23% 23% 23%",
       "grid_template_rows": "auto auto"
      }
     },
     "048a8d5204b345ad9e8ad5d6aed68dcb": {
      "model_module": "@jupyter-widgets/base",
      "model_module_version": "1.2.0",
      "model_name": "LayoutModel",
      "state": {
       "grid_gap": "0px 0px",
       "grid_template_areas": "\n                                                   \"top top top\"\n                                                   \"left middle right\"\n                                                   ",
       "grid_template_columns": "33% 33% 33%",
       "grid_template_rows": "auto auto"
      }
     },
     "04cf09896c6447c18eff3c0597d640ee": {
      "model_module": "@jupyter-widgets/controls",
      "model_module_version": "1.5.0",
      "model_name": "HTMLModel",
      "state": {
       "layout": "IPY_MODEL_1c57326631f44aa18f176f6bfa10386b",
       "style": "IPY_MODEL_5480e2fb61ba4d288e99e8ba3f5300d6",
       "value": "-"
      }
     },
     "060309362b934a2b928fa1e52df64982": {
      "model_module": "@jupyter-widgets/controls",
      "model_module_version": "1.5.0",
      "model_name": "HTMLMathModel",
      "state": {
       "layout": "IPY_MODEL_d5767f05e28049c18d0c5db64387077a",
       "style": "IPY_MODEL_a3cb871c657845aea50af3f1156b211f",
       "value": "<table><style>\ntable {\n    border-collapse: collapse;\n    width: auto;\n}\n\nth, td {\n    text-align: left;\n    padding: 8px;\n}\n\ntr:nth-child(even) {background-color: #f6f6f6;}\n</style><tr><th></th><th></th></tr><tr><td>rep_times</td><td>[1000.0]</td></tr><tr><td>clops</td><td>2454</td></tr><tr><td>url</td><td>None</td></tr><tr><td>pulse_num_qubits</td><td>3</td></tr><tr><td>timing_constraints</td><td>{'acquire_alignment': 16, 'granularity': 16, 'min_length': 64, 'pulse_alignment': 1}</td></tr><tr><td>meas_kernels</td><td>['hw_boxcar']</td></tr><tr><td>simulator</td><td>False</td></tr><tr><td>credits_required</td><td>True</td></tr><tr><td>qubit_lo_range</td><td>[[4.590161412517565, 5.590161412517565], [4.745573007719825, 5.745573007719825], [4.861467104180987, 5.861467104180987], [4.67037964741889, 5.67037964741889], [4.758465750602411, 5.758465750602411]]</td></tr><tr><td>dynamic_reprate_enabled</td><td>True</td></tr><tr><td>rep_delay_range</td><td>[0.0, 500.0]</td></tr><tr><td>processor_type</td><td>{'family': 'Falcon', 'revision': 4, 'segment': 'T'}</td></tr><tr><td>sample_name</td><td>family: Falcon, revision: 4, segment: T</td></tr><tr><td>n_registers</td><td>1</td></tr><tr><td>local</td><td>False</td></tr><tr><td>meas_map</td><td>[[0, 1, 2, 3, 4]]</td></tr><tr><td>parametric_pulses</td><td>['gaussian', 'gaussian_square', 'drag', 'constant']</td></tr><tr><td>input_allowed</td><td>['job', 'runtime']</td></tr><tr><td>dt</td><td>0.2222222222222222</td></tr><tr><td>open_pulse</td><td>False</td></tr><tr><td>channels</td><td>{'acquire0': {'operates': {'qubits': [0]}, 'purpose': 'acquire', 'type': 'acquire'}, 'acquire1': {'operates': {'qubits': [1]}, 'purpose': 'acquire', 'type': 'acquire'}, 'acquire2': {'operates': {'qubits': [2]}, 'purpose': 'acquire', 'type': 'acquire'}, 'acquire3': {'operates': {'qubits': [3]}, 'purpose': 'acquire', 'type': 'acquire'}, 'acquire4': {'operates': {'qubits': [4]}, 'purpose': 'acquire', 'type': 'acquire'}, 'd0': {'operates': {'qubits': [0]}, 'purpose': 'drive', 'type': 'drive'}, 'd1': {'operates': {'qubits': [1]}, 'purpose': 'drive', 'type': 'drive'}, 'd2': {'operates': {'qubits': [2]}, 'purpose': 'drive', 'type': 'drive'}, 'd3': {'operates': {'qubits': [3]}, 'purpose': 'drive', 'type': 'drive'}, 'd4': {'operates': {'qubits': [4]}, 'purpose': 'drive', 'type': 'drive'}, 'm0': {'operates': {'qubits': [0]}, 'purpose': 'measure', 'type': 'measure'}, 'm1': {'operates': {'qubits': [1]}, 'purpose': 'measure', 'type': 'measure'}, 'm2': {'operates': {'qubits': [2]}, 'purpose': 'measure', 'type': 'measure'}, 'm3': {'operates': {'qubits': [3]}, 'purpose': 'measure', 'type': 'measure'}, 'm4': {'operates': {'qubits': [4]}, 'purpose': 'measure', 'type': 'measure'}, 'u0': {'operates': {'qubits': [0, 1]}, 'purpose': 'cross-resonance', 'type': 'control'}, 'u1': {'operates': {'qubits': [1, 0]}, 'purpose': 'cross-resonance', 'type': 'control'}, 'u2': {'operates': {'qubits': [1, 2]}, 'purpose': 'cross-resonance', 'type': 'control'}, 'u3': {'operates': {'qubits': [1, 3]}, 'purpose': 'cross-resonance', 'type': 'control'}, 'u4': {'operates': {'qubits': [2, 1]}, 'purpose': 'cross-resonance', 'type': 'control'}, 'u5': {'operates': {'qubits': [3, 1]}, 'purpose': 'cross-resonance', 'type': 'control'}, 'u6': {'operates': {'qubits': [3, 4]}, 'purpose': 'cross-resonance', 'type': 'control'}, 'u7': {'operates': {'qubits': [4, 3]}, 'purpose': 'cross-resonance', 'type': 'control'}}</td></tr><tr><td>dtm</td><td>0.2222222222222222</td></tr><tr><td>meas_levels</td><td>[1, 2]</td></tr><tr><td>discriminators</td><td>['linear_discriminator', 'quadratic_discriminator', 'hw_centroid']</td></tr><tr><td>memory</td><td>True</td></tr><tr><td>allow_object_storage</td><td>True</td></tr><tr><td>acquisition_latency</td><td>[]</td></tr><tr><td>conditional_latency</td><td>[]</td></tr><tr><td>n_uchannels</td><td>8</td></tr><tr><td>uchannels_enabled</td><td>True</td></tr><tr><td>default_rep_delay</td><td>250.0</td></tr><tr><td>pulse_num_channels</td><td>9</td></tr><tr><td>conditional</td><td>False</td></tr><tr><td>multi_meas_enabled</td><td>True</td></tr><tr><td>qubit_channel_mapping</td><td>[['d0', 'm0', 'u0', 'u1'], ['m1', 'd1', 'u0', 'u1', 'u5', 'u2', 'u3', 'u4'], ['u2', 'd2', 'u4', 'm2'], ['m3', 'u6', 'u7', 'u5', 'u3', 'd3'], ['d4', 'u6', 'u7', 'm4']]</td></tr><tr><td>supported_features</td><td>['q', 'o', 'b', 'j']</td></tr><tr><td>allow_q_object</td><td>True</td></tr><tr><td>supported_instructions</td><td>['rz', 'delay', 'x', 'shiftf', 'id', 'measure', 'reset', 'sx', 'cx', 'u1', 'u2', 'u3', 'acquire', 'play', 'setf']</td></tr><tr><td>backend_name</td><td>ibmq_belem</td></tr><tr><td>coupling_map</td><td>[[0, 1], [1, 0], [1, 2], [1, 3], [2, 1], [3, 1], [3, 4], [4, 3]]</td></tr><tr><td>u_channel_lo</td><td>[[{'q': 1, 'scale': (1+0j)}], [{'q': 0, 'scale': (1+0j)}], [{'q': 2, 'scale': (1+0j)}], [{'q': 3, 'scale': (1+0j)}], [{'q': 1, 'scale': (1+0j)}], [{'q': 1, 'scale': (1+0j)}], [{'q': 4, 'scale': (1+0j)}], [{'q': 3, 'scale': (1+0j)}]]</td></tr><tr><td>hamiltonian</td><td>$$\\begin{align} \\mathcal{H}/\\hbar = & \\sum_{i=0}^{4}\\left(\\frac{\\omega_{q,i}}{2}(\\mathbb{I}-\\sigma_i^{z})+\\frac{\\Delta_{i}}{2}(O_i^2-O_i)+\\Omega_{d,i}D_i(t)\\sigma_i^{X}\\right) \\\\ & + J_{0,1}(\\sigma_{0}^{+}\\sigma_{1}^{-}+\\sigma_{0}^{-}\\sigma_{1}^{+}) + J_{1,2}(\\sigma_{1}^{+}\\sigma_{2}^{-}+\\sigma_{1}^{-}\\sigma_{2}^{+}) + J_{1,3}(\\sigma_{1}^{+}\\sigma_{3}^{-}+\\sigma_{1}^{-}\\sigma_{3}^{+}) + J_{3,4}(\\sigma_{3}^{+}\\sigma_{4}^{-}+\\sigma_{3}^{-}\\sigma_{4}^{+}) \\\\ & + \\Omega_{d,0}(U_{0}^{(0,1)}(t))\\sigma_{0}^{X} + \\Omega_{d,1}(U_{1}^{(1,0)}(t)+U_{3}^{(1,3)}(t)+U_{2}^{(1,2)}(t))\\sigma_{1}^{X} \\\\ & + \\Omega_{d,2}(U_{4}^{(2,1)}(t))\\sigma_{2}^{X} + \\Omega_{d,3}(U_{6}^{(3,4)}(t)+U_{5}^{(3,1)}(t))\\sigma_{3}^{X} \\\\ & + \\Omega_{d,4}(U_{7}^{(4,3)}(t))\\sigma_{4}^{X} \\\\ \\end{align}$$</td></tr><tr><td>measure_esp_enabled</td><td>False</td></tr><tr><td>online_date</td><td>2021-01-08 05:00:00+00:00</td></tr><tr><td>description</td><td>5 qubit device Belem</td></tr><tr><td>meas_lo_range</td><td>[[6.801661824000001, 7.801661824000001], [6.8934333720000005, 7.8934333720000005], [6.860214726000001, 7.860214726000001], [6.8033823270000005, 7.8033823270000005], [6.926310916, 7.926310916]]</td></tr></table>"
      }
     },
     "0641bb809b93476084b1d4c2727aac46": {
      "model_module": "@jupyter-widgets/controls",
      "model_module_version": "1.5.0",
      "model_name": "HTMLModel",
      "state": {
       "layout": "IPY_MODEL_5c9d2097531244808409aac2e6001333",
       "style": "IPY_MODEL_4aade98f1f3545649f6b6526ac5dd054",
       "value": "61a0e7e2398b84240bc2923f"
      }
     },
     "070ecbb7bf124e7a8b684e8faf70baf3": {
      "model_module": "@jupyter-widgets/base",
      "model_module_version": "1.2.0",
      "model_name": "LayoutModel",
      "state": {
       "width": "190px"
      }
     },
     "07380aa969e8498c85cad8772a137e88": {
      "model_module": "@jupyter-widgets/controls",
      "model_module_version": "1.5.0",
      "model_name": "ButtonStyleModel",
      "state": {
       "button_color": "white"
      }
     },
     "076e72b60a27436c9ce75e786b928d6c": {
      "model_module": "@jupyter-widgets/controls",
      "model_module_version": "1.5.0",
      "model_name": "HBoxModel",
      "state": {
       "children": [
        "IPY_MODEL_e2a57424510b43dfaf2388fbaebec8a4",
        "IPY_MODEL_542606a1f77847fcbccc24e7305a451b",
        "IPY_MODEL_388c57e74f1846c4a6e2b72f8b769c8b",
        "IPY_MODEL_549aa7d4274346db945a493b0b1804a1",
        "IPY_MODEL_a10f6066f61c4c58873021517ea31ceb",
        "IPY_MODEL_506e11c9472b46909a34c673b24aa3b0"
       ],
       "layout": "IPY_MODEL_c0303821532f4b3681124708f9952e75"
      }
     },
     "08db52bebe6441f3ad6d07a4a3b5fad1": {
      "model_module": "@jupyter-widgets/base",
      "model_module_version": "1.2.0",
      "model_name": "LayoutModel",
      "state": {
       "align_items": "center",
       "display": "flex-inline",
       "grid_area": "right",
       "max_height": "325px",
       "padding": "10px 10px 10px 10px",
       "width": "auto"
      }
     },
     "0c02030ccf4b4e3abb879bd011c729b0": {
      "model_module": "@jupyter-widgets/controls",
      "model_module_version": "1.5.0",
      "model_name": "DescriptionStyleModel",
      "state": {
       "description_width": ""
      }
     },
     "0c226a86c8974bba9fe5f4f8b59c375d": {
      "model_module": "@jupyter-widgets/base",
      "model_module_version": "1.2.0",
      "model_name": "LayoutModel",
      "state": {
       "overflow_y": "scroll"
      }
     },
     "0d8e57223e874d319b908494489bdfb1": {
      "model_module": "@jupyter-widgets/controls",
      "model_module_version": "1.5.0",
      "model_name": "DescriptionStyleModel",
      "state": {
       "description_width": ""
      }
     },
     "108676d5b6d44b5e8bdde3109392cd6c": {
      "model_module": "@jupyter-widgets/base",
      "model_module_version": "1.2.0",
      "model_name": "LayoutModel",
      "state": {
       "width": "70px"
      }
     },
     "10c1f51e0b994e9ab99a1cf199903de4": {
      "model_module": "@jupyter-widgets/controls",
      "model_module_version": "1.5.0",
      "model_name": "HTMLModel",
      "state": {
       "layout": "IPY_MODEL_b0e2adca32a64040935b9d85a627a7dc",
       "style": "IPY_MODEL_a984448c6127417a93b01127a27ea132",
       "value": "job has successfully run"
      }
     },
     "114e8219fc224694bdbdcbc9ea68c523": {
      "model_module": "@jupyter-widgets/base",
      "model_module_version": "1.2.0",
      "model_name": "LayoutModel",
      "state": {
       "width": "95px"
      }
     },
     "118e926ddb684bd09b07686d8227ad34": {
      "model_module": "@jupyter-widgets/controls",
      "model_module_version": "1.5.0",
      "model_name": "HTMLMathModel",
      "state": {
       "layout": "IPY_MODEL_8e59b11ea7324f8c8af8e094d7b2b4ed",
       "style": "IPY_MODEL_22f864e6e6394cc5bdb4d38905b7503a",
       "value": "<table><style>\ntable {\n    border-collapse: collapse;\n    width: auto;\n}\n\nth, td {\n    text-align: left;\n    padding: 8px;\n}\n\ntr:nth-child(even) {background-color: #f6f6f6;}\n</style><tr><th>Property</th><th>Value</th></tr><tr><td><font style='font-weight:bold'>n_qubits</font></td><td>5</td></tr><tr><td><font style='font-weight:bold'>quantum_volume</font></td><td>16</td></tr><tr><td><font style='font-weight:bold'>operational</font></td><td>True</td></tr><tr><td><font style='font-weight:bold'>status_msg</font></td><td>active</td></tr><tr><td><font style='font-weight:bold'>pending_jobs</font></td><td>12</td></tr><tr><td><font style='font-weight:bold'>backend_version</font></td><td>1.0.28</td></tr><tr><td><font style='font-weight:bold'>basis_gates</font></td><td>['id', 'rz', 'sx', 'x', 'cx', 'reset']</td></tr><tr><td><font style='font-weight:bold'>max_shots</font></td><td>20000</td></tr><tr><td><font style='font-weight:bold'>max_experiments</font></td><td>100</td></tr></table>"
      }
     },
     "11a804a4875e48d388cda899eecc4a81": {
      "model_module": "@jupyter-widgets/base",
      "model_module_version": "1.2.0",
      "model_name": "LayoutModel",
      "state": {
       "grid_gap": "0px 0px",
       "grid_template_areas": "\n                               \"left right right right\"\n                               \"bottom bottom bottom bottom\"\n                               ",
       "grid_template_columns": "31% 23% 23% 23%",
       "grid_template_rows": "auto auto"
      }
     },
     "11bf7adef0744e9fbac75bc7b3f7b480": {
      "model_module": "@jupyter-widgets/controls",
      "model_module_version": "1.5.0",
      "model_name": "DescriptionStyleModel",
      "state": {
       "description_width": ""
      }
     },
     "129b5a40b3e34180bbd63fffad48ca70": {
      "model_module": "@jupyter-widgets/controls",
      "model_module_version": "1.5.0",
      "model_name": "HTMLModel",
      "state": {
       "layout": "IPY_MODEL_85dd5f2023064d58b5e959d80dfc6928",
       "style": "IPY_MODEL_0d8e57223e874d319b908494489bdfb1",
       "value": "ibmq_belem"
      }
     },
     "1580c0f1ddfb4957b09e75a521b41392": {
      "model_module": "@jupyter-widgets/controls",
      "model_module_version": "1.5.0",
      "model_name": "HTMLModel",
      "state": {
       "layout": "IPY_MODEL_df0d988d55a249099ee96b5b21efeda9",
       "style": "IPY_MODEL_008db7c72ef040e59644bc52a5f21ab5",
       "value": "ibmq_belem"
      }
     },
     "15ab5b7f60ac490a863886b25e622c0f": {
      "model_module": "@jupyter-widgets/base",
      "model_module_version": "1.2.0",
      "model_name": "LayoutModel",
      "state": {
       "width": "145px"
      }
     },
     "17e2ba9461954a20a6712ba81382b6fc": {
      "model_module": "@jupyter-widgets/controls",
      "model_module_version": "1.5.0",
      "model_name": "HBoxModel",
      "state": {
       "children": [
        "IPY_MODEL_8d11cba0c2f54ad49f888aa959f281fb",
        "IPY_MODEL_ead5baf97baf4046a3a93b47266dfffe",
        "IPY_MODEL_e6f5ec84b61c4feb8db8ad6d0c568ee0",
        "IPY_MODEL_d2106a726d8442c49e358fbfa51eadd9",
        "IPY_MODEL_93c2928dd3854d97a4dfe2d19d18bd2d",
        "IPY_MODEL_fc2a5feb710847e2b3985a18c565729e"
       ],
       "layout": "IPY_MODEL_7e73ee5b5f564cd8bc9c67c3876b8cc5"
      }
     },
     "188c3562832e4e65b943a63f903344e8": {
      "model_module": "@jupyter-widgets/controls",
      "model_module_version": "1.5.0",
      "model_name": "DescriptionStyleModel",
      "state": {
       "description_width": ""
      }
     },
     "18c7a225653243f38c1f557510fb1304": {
      "model_module": "@jupyter-widgets/controls",
      "model_module_version": "1.5.0",
      "model_name": "DescriptionStyleModel",
      "state": {
       "description_width": ""
      }
     },
     "1c57326631f44aa18f176f6bfa10386b": {
      "model_module": "@jupyter-widgets/base",
      "model_module_version": "1.2.0",
      "model_name": "LayoutModel",
      "state": {
       "width": "70px"
      }
     },
     "1d68e1c959d344e18cb4e8c6ff36ae81": {
      "model_module": "@jupyter-widgets/base",
      "model_module_version": "1.2.0",
      "model_name": "LayoutModel",
      "state": {
       "width": "145px"
      }
     },
     "1d85413f38ca4d8e9660ffe3f7915497": {
      "model_module": "@jupyter-widgets/controls",
      "model_module_version": "1.5.0",
      "model_name": "HTMLModel",
      "state": {
       "layout": "IPY_MODEL_f418babcb3f2451296bd88848da16e74",
       "style": "IPY_MODEL_9018c89b88d5460cbdd7bc614e0b1899",
       "value": "61a0f56d5ddc027441e73f30"
      }
     },
     "1dac671f28ee4f7c944a763e043128b0": {
      "model_module": "@jupyter-widgets/base",
      "model_module_version": "1.2.0",
      "model_name": "LayoutModel",
      "state": {
       "overflow_x": "scroll"
      }
     },
     "1e4b6c5d8c1740f593fd597634c938e7": {
      "model_module": "@jupyter-widgets/controls",
      "model_module_version": "1.5.0",
      "model_name": "HBoxModel",
      "state": {
       "children": [
        "IPY_MODEL_72d3e2db7eda414aaa970e757d726d80",
        "IPY_MODEL_ec1eb52b79aa4ee7b36cb9186b3b13c1",
        "IPY_MODEL_8db284dbf3cd47b0aba09af4b8468dfa",
        "IPY_MODEL_af8949fd6718469c98b4c82d15a01bda",
        "IPY_MODEL_997364eb03824eefb61eb96d2bd64658",
        "IPY_MODEL_adc9683e39674b14b05a6ff90af1884e"
       ],
       "layout": "IPY_MODEL_de0065f0a1264b208545ffa089f7dfab"
      }
     },
     "1fc8a49e97ee40ff87366cb5b17b085d": {
      "model_module": "@jupyter-widgets/controls",
      "model_module_version": "1.5.0",
      "model_name": "HTMLModel",
      "state": {
       "layout": "IPY_MODEL_21edd4015bd44744b4df20b651df940b",
       "style": "IPY_MODEL_7ffac6e545064ee3aa9990a57fd23786",
       "value": "<h1 style='color:#ffffff;background-color:#000000;padding-top: 1%;padding-bottom: 1%;padding-left: 1%; margin-top: 0px'>ibmq_belem</h1>"
      }
     },
     "202dc28430144f798ea2033f47b0f1c8": {
      "model_module": "@jupyter-widgets/base",
      "model_module_version": "1.2.0",
      "model_name": "LayoutModel",
      "state": {
       "width": "190px"
      }
     },
     "21edd4015bd44744b4df20b651df940b": {
      "model_module": "@jupyter-widgets/base",
      "model_module_version": "1.2.0",
      "model_name": "LayoutModel",
      "state": {
       "margin": "0px 0px 0px 0px"
      }
     },
     "2235c4de784c49609e0596ec420fcfc3": {
      "model_module": "@jupyter-widgets/controls",
      "model_module_version": "1.5.0",
      "model_name": "HTMLModel",
      "state": {
       "layout": "IPY_MODEL_63273d18b1844c86bd04109baeeee6a7",
       "style": "IPY_MODEL_6ace67fe058145c3bdfe94d7cac3485f",
       "value": "-"
      }
     },
     "225149de32db4f8792cb843ea9c97f08": {
      "model_module": "@jupyter-widgets/base",
      "model_module_version": "1.2.0",
      "model_name": "LayoutModel",
      "state": {
       "grid_area": "left"
      }
     },
     "227cd989e6f249f49e7ff69e0c3c4cfd": {
      "model_module": "@jupyter-widgets/base",
      "model_module_version": "1.2.0",
      "model_name": "LayoutModel",
      "state": {
       "overflow_x": "scroll"
      }
     },
     "22f864e6e6394cc5bdb4d38905b7503a": {
      "model_module": "@jupyter-widgets/controls",
      "model_module_version": "1.5.0",
      "model_name": "DescriptionStyleModel",
      "state": {
       "description_width": ""
      }
     },
     "2583f9bbeead4ce798bda9874644583f": {
      "model_module": "@jupyter-widgets/base",
      "model_module_version": "1.2.0",
      "model_name": "LayoutModel",
      "state": {
       "border": "4px solid #000000",
       "max_height": "650px",
       "min_height": "650px",
       "overflow_y": "hidden"
      }
     },
     "26a73de0a418481da604ac34430510c1": {
      "model_module": "@jupyter-widgets/controls",
      "model_module_version": "1.5.0",
      "model_name": "VBoxModel",
      "state": {
       "children": [
        "IPY_MODEL_cb27f343fa4d40da908e5ec7b9221cdb",
        "IPY_MODEL_6488cd9e41e14e81a5119ad09f7319f1"
       ],
       "layout": "IPY_MODEL_29649cf3312e46aba69f533265823ccd"
      }
     },
     "26d6b7680c164d44a0c581249422cea5": {
      "model_module": "@jupyter-widgets/controls",
      "model_module_version": "1.5.0",
      "model_name": "HTMLModel",
      "state": {
       "layout": "IPY_MODEL_d5dc207e89b649e69355b55ae6275eda",
       "style": "IPY_MODEL_9468998f2e784ae5afe3581d5f386b24",
       "value": "<table><style>\ntable {\n    border-collapse: collapse;\n    width: auto;\n}\n\nth, td {\n    text-align: left;\n    padding: 8px;\n}\n\ntr:nth-child(even) {background-color: #f6f6f6;};\n</style><tr><th></th><th>Type</th><th>Gate error</th></tr><tr><td><font style='font-weight:bold'>cx1_3</font></td><td>cx</td><td>0.00879</td></tr><tr><td><font style='font-weight:bold'>cx2_1</font></td><td>cx</td><td>0.00784</td></tr><tr><td><font style='font-weight:bold'>cx1_2</font></td><td>cx</td><td>0.00784</td></tr></table>"
      }
     },
     "2738e3e80cf14788926479f1079b976a": {
      "model_module": "@jupyter-widgets/controls",
      "model_module_version": "1.5.0",
      "model_name": "HTMLModel",
      "state": {
       "layout": "IPY_MODEL_c93ce48c337c4bcf88b139617cc37e8d",
       "style": "IPY_MODEL_623c274cdf7d417fb26978fa92d51b8f",
       "value": "<table><style>\ntable {\n    border-collapse: collapse;\n    width: auto;\n}\n\nth, td {\n    text-align: left;\n    padding: 8px;\n}\n\ntr:nth-child(even) {background-color: #f6f6f6;};\n</style><tr><th></th><th>Type</th><th>Gate error</th></tr><tr><td><font style='font-weight:bold'>cx4_3</font></td><td>cx</td><td>0.01013</td></tr><tr><td><font style='font-weight:bold'>cx3_4</font></td><td>cx</td><td>0.01013</td></tr><tr><td><font style='font-weight:bold'>cx3_2</font></td><td>cx</td><td>0.01483</td></tr></table>"
      }
     },
     "277fe0eaaf09480da1137c5ff2eaa893": {
      "model_module": "@jupyter-widgets/base",
      "model_module_version": "1.2.0",
      "model_name": "LayoutModel",
      "state": {
       "margin": "0px 5px 0px 0px",
       "width": "32px"
      }
     },
     "278938e6bea24d679c5e826a4ecce825": {
      "model_module": "@jupyter-widgets/controls",
      "model_module_version": "1.5.0",
      "model_name": "HTMLModel",
      "state": {
       "layout": "IPY_MODEL_ebccc0a928074a81b392a7a892a88443",
       "style": "IPY_MODEL_fc0118e21cd24d54ae4b32795272e591",
       "value": "<font style='color:#34BC6E'>DONE</font>"
      }
     },
     "2845733e87f347a89ad593fbdae9584b": {
      "model_module": "@jupyter-widgets/base",
      "model_module_version": "1.2.0",
      "model_name": "LayoutModel",
      "state": {
       "width": "95px"
      }
     },
     "292f6c4a9b2c4078bddcf8749b71fbf5": {
      "model_module": "@jupyter-widgets/base",
      "model_module_version": "1.2.0",
      "model_name": "LayoutModel",
      "state": {
       "margin": "0px 5px 0px 0px",
       "width": "32px"
      }
     },
     "29649cf3312e46aba69f533265823ccd": {
      "model_module": "@jupyter-widgets/base",
      "model_module_version": "1.2.0",
      "model_name": "LayoutModel",
      "state": {}
     },
     "2a015340953a4c3a8c63bcc9b419ac6a": {
      "model_module": "@jupyter-widgets/base",
      "model_module_version": "1.2.0",
      "model_name": "LayoutModel",
      "state": {
       "overflow_x": "scroll"
      }
     },
     "2c233e698dc940d5bdd937c27b198728": {
      "model_module": "@jupyter-widgets/controls",
      "model_module_version": "1.5.0",
      "model_name": "HBoxModel",
      "state": {
       "children": [
        "IPY_MODEL_00d4abcb6c0a4f02b8327fc65a8ed584",
        "IPY_MODEL_01bff34acb7a4da1bda0c129de3211c4",
        "IPY_MODEL_129b5a40b3e34180bbd63fffad48ca70",
        "IPY_MODEL_b723837ee2814c8ca4eec50e00be6f41",
        "IPY_MODEL_035621f0bd7a4fccb3c9878fd737c33e",
        "IPY_MODEL_849fe8ae0e2c488bb845f8fff4e67f61"
       ],
       "layout": "IPY_MODEL_5c6ce034978747eda056f2fea188845d"
      }
     },
     "2d8acfc7439f423fb521ce29224fa7ac": {
      "model_module": "@jupyter-widgets/base",
      "model_module_version": "1.2.0",
      "model_name": "LayoutModel",
      "state": {
       "margin": "0px 5px 0px 0px",
       "width": "32px"
      }
     },
     "2db2cb0f7628444eb71cef8102bc6296": {
      "model_module": "@jupyter-widgets/controls",
      "model_module_version": "1.5.0",
      "model_name": "HTMLMathModel",
      "state": {
       "layout": "IPY_MODEL_e066af9427554e5aa27e5e6c65919970",
       "style": "IPY_MODEL_d2138972b3914718b37c800d878bf7d0",
       "value": "<table><style>\ntable {\n    border-collapse: collapse;\n    width: auto;\n}\n\nth, td {\n    text-align: left;\n    padding: 8px;\n}\n\ntr:nth-child(even) {background-color: #f6f6f6;}\n</style><tr><th></th><th></th></tr><tr><td>rep_times</td><td>[1000.0]</td></tr><tr><td>clops</td><td>2304</td></tr><tr><td>url</td><td>None</td></tr><tr><td>pulse_num_qubits</td><td>3</td></tr><tr><td>timing_constraints</td><td>{'acquire_alignment': 16, 'granularity': 16, 'min_length': 64, 'pulse_alignment': 1}</td></tr><tr><td>meas_kernels</td><td>['hw_qmfk']</td></tr><tr><td>simulator</td><td>False</td></tr><tr><td>credits_required</td><td>True</td></tr><tr><td>qubit_lo_range</td><td>[[4.500433601438694, 5.500433601438694], [4.349850576900471, 5.349850576900471], [4.282951492349605, 5.282951492349605], [4.358080131281563, 5.358080131281564], [4.478361769149117, 5.478361769149118]]</td></tr><tr><td>dynamic_reprate_enabled</td><td>True</td></tr><tr><td>rep_delay_range</td><td>[0.0, 500.0]</td></tr><tr><td>processor_type</td><td>{'family': 'Falcon', 'revision': 4, 'segment': 'L'}</td></tr><tr><td>sample_name</td><td>family: Falcon, revision: 4, segment: L</td></tr><tr><td>n_registers</td><td>1</td></tr><tr><td>local</td><td>False</td></tr><tr><td>meas_map</td><td>[[0, 1, 2, 3, 4]]</td></tr><tr><td>parametric_pulses</td><td>['gaussian', 'gaussian_square', 'drag', 'constant']</td></tr><tr><td>input_allowed</td><td>['job', 'runtime']</td></tr><tr><td>dt</td><td>0.2222222222222222</td></tr><tr><td>open_pulse</td><td>False</td></tr><tr><td>channels</td><td>{'acquire0': {'operates': {'qubits': [0]}, 'purpose': 'acquire', 'type': 'acquire'}, 'acquire1': {'operates': {'qubits': [1]}, 'purpose': 'acquire', 'type': 'acquire'}, 'acquire2': {'operates': {'qubits': [2]}, 'purpose': 'acquire', 'type': 'acquire'}, 'acquire3': {'operates': {'qubits': [3]}, 'purpose': 'acquire', 'type': 'acquire'}, 'acquire4': {'operates': {'qubits': [4]}, 'purpose': 'acquire', 'type': 'acquire'}, 'd0': {'operates': {'qubits': [0]}, 'purpose': 'drive', 'type': 'drive'}, 'd1': {'operates': {'qubits': [1]}, 'purpose': 'drive', 'type': 'drive'}, 'd2': {'operates': {'qubits': [2]}, 'purpose': 'drive', 'type': 'drive'}, 'd3': {'operates': {'qubits': [3]}, 'purpose': 'drive', 'type': 'drive'}, 'd4': {'operates': {'qubits': [4]}, 'purpose': 'drive', 'type': 'drive'}, 'm0': {'operates': {'qubits': [0]}, 'purpose': 'measure', 'type': 'measure'}, 'm1': {'operates': {'qubits': [1]}, 'purpose': 'measure', 'type': 'measure'}, 'm2': {'operates': {'qubits': [2]}, 'purpose': 'measure', 'type': 'measure'}, 'm3': {'operates': {'qubits': [3]}, 'purpose': 'measure', 'type': 'measure'}, 'm4': {'operates': {'qubits': [4]}, 'purpose': 'measure', 'type': 'measure'}, 'u0': {'operates': {'qubits': [0, 1]}, 'purpose': 'cross-resonance', 'type': 'control'}, 'u1': {'operates': {'qubits': [1, 0]}, 'purpose': 'cross-resonance', 'type': 'control'}, 'u2': {'operates': {'qubits': [1, 2]}, 'purpose': 'cross-resonance', 'type': 'control'}, 'u3': {'operates': {'qubits': [2, 1]}, 'purpose': 'cross-resonance', 'type': 'control'}, 'u4': {'operates': {'qubits': [2, 3]}, 'purpose': 'cross-resonance', 'type': 'control'}, 'u5': {'operates': {'qubits': [3, 2]}, 'purpose': 'cross-resonance', 'type': 'control'}, 'u6': {'operates': {'qubits': [3, 4]}, 'purpose': 'cross-resonance', 'type': 'control'}, 'u7': {'operates': {'qubits': [4, 3]}, 'purpose': 'cross-resonance', 'type': 'control'}}</td></tr><tr><td>dtm</td><td>0.2222222222222222</td></tr><tr><td>meas_levels</td><td>[1, 2]</td></tr><tr><td>discriminators</td><td>['quadratic_discriminator', 'hw_qmfk', 'linear_discriminator']</td></tr><tr><td>memory</td><td>True</td></tr><tr><td>allow_object_storage</td><td>True</td></tr><tr><td>acquisition_latency</td><td>[]</td></tr><tr><td>conditional_latency</td><td>[]</td></tr><tr><td>n_uchannels</td><td>8</td></tr><tr><td>uchannels_enabled</td><td>True</td></tr><tr><td>default_rep_delay</td><td>250.0</td></tr><tr><td>pulse_num_channels</td><td>9</td></tr><tr><td>conditional</td><td>False</td></tr><tr><td>multi_meas_enabled</td><td>True</td></tr><tr><td>qubit_channel_mapping</td><td>[['u0', 'd0', 'u1', 'm0'], ['u2', 'u1', 'd1', 'm1', 'u0', 'u3'], ['u4', 'd2', 'u5', 'u2', 'm2', 'u3'], ['m3', 'd3', 'u4', 'u5', 'u7', 'u6'], ['m4', 'u7', 'd4', 'u6']]</td></tr><tr><td>supported_features</td><td>['q', 'o', 'b', 'j']</td></tr><tr><td>allow_q_object</td><td>True</td></tr><tr><td>supported_instructions</td><td>['measure', 'delay', 'u1', 'acquire', 'cx', 'u3', 'x', 'reset', 'rz', 'play', 'setf', 'u2', 'sx', 'id', 'shiftf']</td></tr><tr><td>backend_name</td><td>ibmq_bogota</td></tr><tr><td>coupling_map</td><td>[[0, 1], [1, 0], [1, 2], [2, 1], [2, 3], [3, 2], [3, 4], [4, 3]]</td></tr><tr><td>u_channel_lo</td><td>[[{'q': 1, 'scale': (1+0j)}], [{'q': 0, 'scale': (1+0j)}], [{'q': 2, 'scale': (1+0j)}], [{'q': 1, 'scale': (1+0j)}], [{'q': 3, 'scale': (1+0j)}], [{'q': 2, 'scale': (1+0j)}], [{'q': 4, 'scale': (1+0j)}], [{'q': 3, 'scale': (1+0j)}]]</td></tr><tr><td>hamiltonian</td><td>$$\\begin{align} \\mathcal{H}/\\hbar = & \\sum_{i=0}^{4}\\left(\\frac{\\omega_{q,i}}{2}(\\mathbb{I}-\\sigma_i^{z})+\\frac{\\Delta_{i}}{2}(O_i^2-O_i)+\\Omega_{d,i}D_i(t)\\sigma_i^{X}\\right) \\\\ & + J_{0,1}(\\sigma_{0}^{+}\\sigma_{1}^{-}+\\sigma_{0}^{-}\\sigma_{1}^{+}) + J_{1,2}(\\sigma_{1}^{+}\\sigma_{2}^{-}+\\sigma_{1}^{-}\\sigma_{2}^{+}) + J_{2,3}(\\sigma_{2}^{+}\\sigma_{3}^{-}+\\sigma_{2}^{-}\\sigma_{3}^{+}) + J_{3,4}(\\sigma_{3}^{+}\\sigma_{4}^{-}+\\sigma_{3}^{-}\\sigma_{4}^{+}) \\\\ & + \\Omega_{d,0}(U_{0}^{(0,1)}(t))\\sigma_{0}^{X} + \\Omega_{d,1}(U_{1}^{(1,0)}(t)+U_{2}^{(1,2)}(t))\\sigma_{1}^{X} \\\\ & + \\Omega_{d,2}(U_{3}^{(2,1)}(t)+U_{4}^{(2,3)}(t))\\sigma_{2}^{X} + \\Omega_{d,3}(U_{6}^{(3,4)}(t)+U_{5}^{(3,2)}(t))\\sigma_{3}^{X} \\\\ & + \\Omega_{d,4}(U_{7}^{(4,3)}(t))\\sigma_{4}^{X} \\\\ \\end{align}$$</td></tr><tr><td>measure_esp_enabled</td><td>False</td></tr><tr><td>online_date</td><td>2020-06-03 04:00:00+00:00</td></tr><tr><td>description</td><td>5 qubit device</td></tr><tr><td>meas_lo_range</td><td>[[6.772076418, 7.772076418], [6.88810926, 7.88810926], [6.834793510000001, 7.834793510000001], [6.703996181000001, 7.703996181000001], [6.949439617, 7.949439617]]</td></tr></table>"
      }
     },
     "2deb92d893da44b1a28d18f7e9725750": {
      "model_module": "@jupyter-widgets/controls",
      "model_module_version": "1.5.0",
      "model_name": "DescriptionStyleModel",
      "state": {
       "description_width": ""
      }
     },
     "2e96d06e0b484d939e0d27573bdefbc9": {
      "model_module": "@jupyter-widgets/base",
      "model_module_version": "1.2.0",
      "model_name": "LayoutModel",
      "state": {
       "grid_area": "left",
       "width": "100%"
      }
     },
     "2ee3e18515ca44468cea9175c1873176": {
      "model_module": "@jupyter-widgets/controls",
      "model_module_version": "1.5.0",
      "model_name": "HTMLMathModel",
      "state": {
       "layout": "IPY_MODEL_4f48745432764081ba6275ab48c82962",
       "style": "IPY_MODEL_d1a4540a591a4df8a7ef5dd31ea61b68",
       "value": "<table><style>\ntable {\n    border-collapse: collapse;\n    width: auto;\n}\n\nth, td {\n    text-align: left;\n    padding: 8px;\n}\n\ntr:nth-child(even) {background-color: #f6f6f6;}\n</style><tr><th>Property</th><th>Value</th></tr><tr><td><font style='font-weight:bold'>n_qubits</font></td><td>5</td></tr><tr><td><font style='font-weight:bold'>quantum_volume</font></td><td>32</td></tr><tr><td><font style='font-weight:bold'>operational</font></td><td>True</td></tr><tr><td><font style='font-weight:bold'>status_msg</font></td><td>active</td></tr><tr><td><font style='font-weight:bold'>pending_jobs</font></td><td>11</td></tr><tr><td><font style='font-weight:bold'>backend_version</font></td><td>1.6.14</td></tr><tr><td><font style='font-weight:bold'>basis_gates</font></td><td>['id', 'rz', 'sx', 'x', 'cx', 'reset']</td></tr><tr><td><font style='font-weight:bold'>max_shots</font></td><td>20000</td></tr><tr><td><font style='font-weight:bold'>max_experiments</font></td><td>100</td></tr></table>"
      }
     },
     "2f516ae8a1ed4f2aa904e1a04b1c4356": {
      "model_module": "@jupyter-widgets/controls",
      "model_module_version": "1.5.0",
      "model_name": "DescriptionStyleModel",
      "state": {
       "description_width": ""
      }
     },
     "2fa35192f1b74045b6c2c1cb9a79bee9": {
      "model_module": "@jupyter-widgets/controls",
      "model_module_version": "1.5.0",
      "model_name": "HTMLModel",
      "state": {
       "layout": "IPY_MODEL_8ebea92814a649c1b931ce5c47b9c38d",
       "style": "IPY_MODEL_11bf7adef0744e9fbac75bc7b3f7b480",
       "value": "<table><style>\ntable {\n    border-collapse: collapse;\n    width: auto;\n}\n\nth, td {\n    text-align: left;\n    padding: 8px;\n}\n\ntr:nth-child(even) {background-color: #f6f6f6;};\n</style><tr><th></th><th>Type</th><th>Gate error</th></tr><tr><td><font style='font-weight:bold'>cx2_3</font></td><td>cx</td><td>0.01483</td></tr><tr><td><font style='font-weight:bold'>cx1_2</font></td><td>cx</td><td>0.00769</td></tr><tr><td><font style='font-weight:bold'>cx2_1</font></td><td>cx</td><td>0.00769</td></tr></table>"
      }
     },
     "303b4b4bd9db45df8df9163727ec6391": {
      "model_module": "@jupyter-widgets/base",
      "model_module_version": "1.2.0",
      "model_name": "LayoutModel",
      "state": {
       "max_width": "700px",
       "min_width": "700px"
      }
     },
     "30ef03338ff84ff099a0016b15063f21": {
      "model_module": "@jupyter-widgets/base",
      "model_module_version": "1.2.0",
      "model_name": "LayoutModel",
      "state": {
       "width": "70px"
      }
     },
     "31c306ba903c4ca095db95569854d4df": {
      "model_module": "@jupyter-widgets/base",
      "model_module_version": "1.2.0",
      "model_name": "LayoutModel",
      "state": {
       "width": "95px"
      }
     },
     "34c83255fa1a4b2ba3a55fd015d74f1e": {
      "model_module": "@jupyter-widgets/controls",
      "model_module_version": "1.5.0",
      "model_name": "VBoxModel",
      "state": {
       "children": [
        "IPY_MODEL_ccbad61db2574a06b95ff1dbb164354b",
        "IPY_MODEL_fbc056000a0a4490926a4c1eca123d90"
       ],
       "layout": "IPY_MODEL_493ac80d7a37441d9442d4bb2dfe0f03"
      }
     },
     "34df6f2413164852853bad8bbedffc78": {
      "model_module": "@jupyter-widgets/controls",
      "model_module_version": "1.5.0",
      "model_name": "HBoxModel",
      "state": {
       "children": [
        "IPY_MODEL_3aaa2bb84cb94603ad6cc8eaa5625bf6",
        "IPY_MODEL_776dc5648fdb4290bc2cd5b5c815c910",
        "IPY_MODEL_8576675acbca43e9b8c9e337f828e00d",
        "IPY_MODEL_942bd640b87248839072062e02dc9642",
        "IPY_MODEL_a37f86c9f7dc47f3b9f91a3315165ea8"
       ],
       "layout": "IPY_MODEL_72135167346046a8917fc6c0d60bac02"
      }
     },
     "3572d8a8821540fe895b02f7682603e2": {
      "model_module": "@jupyter-widgets/base",
      "model_module_version": "1.2.0",
      "model_name": "LayoutModel",
      "state": {
       "max_width": "700px",
       "min_width": "700px"
      }
     },
     "36817ff1ca364a25868847deaa9b2316": {
      "model_module": "@jupyter-widgets/controls",
      "model_module_version": "1.5.0",
      "model_name": "DescriptionStyleModel",
      "state": {
       "description_width": ""
      }
     },
     "3771c66a409a4f29a9e9328ee4ace9ed": {
      "model_module": "@jupyter-widgets/base",
      "model_module_version": "1.2.0",
      "model_name": "LayoutModel",
      "state": {
       "overflow_x": "scroll"
      }
     },
     "3872ecd55b1b4e83aab8d24624c49e18": {
      "model_module": "@jupyter-widgets/controls",
      "model_module_version": "1.5.0",
      "model_name": "DescriptionStyleModel",
      "state": {
       "description_width": ""
      }
     },
     "388c57e74f1846c4a6e2b72f8b769c8b": {
      "model_module": "@jupyter-widgets/controls",
      "model_module_version": "1.5.0",
      "model_name": "HTMLModel",
      "state": {
       "layout": "IPY_MODEL_e7b86f501b67461cbeaa1baa46b71fa0",
       "style": "IPY_MODEL_cff3326a880e48f2bef0c638044c14eb",
       "value": "ibmq_belem"
      }
     },
     "38b769a43b434c7dbf61f2dadb5b9ebb": {
      "model_module": "@jupyter-widgets/controls",
      "model_module_version": "1.5.0",
      "model_name": "DescriptionStyleModel",
      "state": {
       "description_width": ""
      }
     },
     "38f0d2296e7e4b009706316d8680bac5": {
      "model_module": "@jupyter-widgets/base",
      "model_module_version": "1.2.0",
      "model_name": "LayoutModel",
      "state": {
       "max_height": "620px"
      }
     },
     "39acb729ceff44dca51cabde405ab5f9": {
      "model_module": "@jupyter-widgets/base",
      "model_module_version": "1.2.0",
      "model_name": "LayoutModel",
      "state": {
       "margin": "0px 0px 10px 0px"
      }
     },
     "3aaa2bb84cb94603ad6cc8eaa5625bf6": {
      "model_module": "@jupyter-widgets/controls",
      "model_module_version": "1.5.0",
      "model_name": "HTMLModel",
      "state": {
       "layout": "IPY_MODEL_b6e56abb9b094acd9900ec56715ce42b",
       "style": "IPY_MODEL_a2da2bef90734628b52ef2e1d0bfae7e",
       "value": "<h5>Job ID</h5>"
      }
     },
     "3bd62b07f2844b1dba8e051fff3e694b": {
      "model_module": "@jupyter-widgets/controls",
      "model_module_version": "1.5.0",
      "model_name": "HTMLMathModel",
      "state": {
       "layout": "IPY_MODEL_2e96d06e0b484d939e0d27573bdefbc9",
       "style": "IPY_MODEL_f99e93fcb936401aa1af4f66f8d69b2f",
       "value": "<table><style>\ntable {\n    border-collapse: collapse;\n    width: auto;\n}\n\nth, td {\n    text-align: left;\n    padding: 8px;\n}\n\ntr:nth-child(even) {background-color: #f6f6f6;}\n</style><tr><th>Property</th><th>Value</th></tr><tr><td><font style='font-weight:bold'>n_qubits</font></td><td>5</td></tr><tr><td><font style='font-weight:bold'>quantum_volume</font></td><td>16</td></tr><tr><td><font style='font-weight:bold'>operational</font></td><td>True</td></tr><tr><td><font style='font-weight:bold'>status_msg</font></td><td>active</td></tr><tr><td><font style='font-weight:bold'>pending_jobs</font></td><td>9</td></tr><tr><td><font style='font-weight:bold'>backend_version</font></td><td>1.0.28</td></tr><tr><td><font style='font-weight:bold'>basis_gates</font></td><td>['id', 'rz', 'sx', 'x', 'cx', 'reset']</td></tr><tr><td><font style='font-weight:bold'>max_shots</font></td><td>20000</td></tr><tr><td><font style='font-weight:bold'>max_experiments</font></td><td>100</td></tr></table>"
      }
     },
     "3ff4b56c5b6947f1bddadcf8d21f3726": {
      "model_module": "@jupyter-widgets/controls",
      "model_module_version": "1.5.0",
      "model_name": "DescriptionStyleModel",
      "state": {
       "description_width": ""
      }
     },
     "40046626ff26482aa5fd51f392a28b9a": {
      "model_module": "@jupyter-widgets/controls",
      "model_module_version": "1.5.0",
      "model_name": "ButtonModel",
      "state": {
       "icon": "close",
       "layout": "IPY_MODEL_c35d2ffb41b240448858bbe467b7e0f8",
       "style": "IPY_MODEL_8e856392dce2454496a0e963a5d1de05"
      }
     },
     "4006ed76b9dd479bbcfb21a3f2088b37": {
      "model_module": "@jupyter-widgets/controls",
      "model_module_version": "1.5.0",
      "model_name": "HTMLModel",
      "state": {
       "layout": "IPY_MODEL_97520061ef60422aacc4ee3f65e6b1ab",
       "style": "IPY_MODEL_38b769a43b434c7dbf61f2dadb5b9ebb",
       "value": "<div><font style='font-weight:bold'>last_update_date</font>: 2021-11-26 06:20:36+00:00</div>"
      }
     },
     "4047723bec0c4484bd6b0ba2c20ef742": {
      "model_module": "@jupyter-widgets/base",
      "model_module_version": "1.2.0",
      "model_name": "LayoutModel",
      "state": {
       "margin": "0px 5px 0px 0px",
       "width": "32px"
      }
     },
     "41af4470b2c24151951a2f6d31922da6": {
      "model_module": "@jupyter-widgets/base",
      "model_module_version": "1.2.0",
      "model_name": "LayoutModel",
      "state": {}
     },
     "42ebf53ccfdb441bb0a7f18b746400e0": {
      "model_module": "@jupyter-widgets/base",
      "model_module_version": "1.2.0",
      "model_name": "LayoutModel",
      "state": {
       "max_width": "700px",
       "min_width": "700px"
      }
     },
     "44a79a36fe1046b8aa9ee49cf60b5bfb": {
      "model_module": "@jupyter-widgets/base",
      "model_module_version": "1.2.0",
      "model_name": "LayoutModel",
      "state": {}
     },
     "44d8c211b75c44f98624de25c8e4ccdb": {
      "model_module": "@jupyter-widgets/base",
      "model_module_version": "1.2.0",
      "model_name": "LayoutModel",
      "state": {
       "width": "190px"
      }
     },
     "44f748bfa7d7425ebe4e243745b55626": {
      "model_module": "@jupyter-widgets/base",
      "model_module_version": "1.2.0",
      "model_name": "LayoutModel",
      "state": {
       "width": "70px"
      }
     },
     "4525b12d9aab46ab8358f1a0a7ca1b12": {
      "model_module": "@jupyter-widgets/output",
      "model_module_version": "1.0.0",
      "model_name": "OutputModel",
      "state": {
       "layout": "IPY_MODEL_af2c0fd72330452b86ad43e72cddaf57",
       "outputs": [
        {
         "data": {
          "image/png": "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\n",
          "text/plain": "<Figure size 360x360 with 1 Axes>"
         },
         "metadata": {},
         "output_type": "display_data"
        }
       ]
      }
     },
     "458579783ef54476baa4f2da8747e304": {
      "model_module": "@jupyter-widgets/controls",
      "model_module_version": "1.5.0",
      "model_name": "DescriptionStyleModel",
      "state": {
       "description_width": ""
      }
     },
     "467ef9170de3440a9ba2497f66a37633": {
      "model_module": "@jupyter-widgets/controls",
      "model_module_version": "1.5.0",
      "model_name": "HTMLModel",
      "state": {
       "layout": "IPY_MODEL_3771c66a409a4f29a9e9328ee4ace9ed",
       "style": "IPY_MODEL_18c7a225653243f38c1f557510fb1304",
       "value": "job has successfully run"
      }
     },
     "48dd4c4c29444c1bb94f4f3b9cde0470": {
      "model_module": "@jupyter-widgets/controls",
      "model_module_version": "1.5.0",
      "model_name": "HBoxModel",
      "state": {
       "children": [
        "IPY_MODEL_7b7f01d04dc04bbd9e2d82b7cce07607",
        "IPY_MODEL_c2e0ba63a1c144cebd1a6e2c87d26ddf",
        "IPY_MODEL_8578e33199814cc1abd2630a9b5c4768",
        "IPY_MODEL_e9b88237ee154e1e8b6970fd6580280a",
        "IPY_MODEL_2235c4de784c49609e0596ec420fcfc3",
        "IPY_MODEL_467ef9170de3440a9ba2497f66a37633"
       ],
       "layout": "IPY_MODEL_6f8f77889ce34421bdba3917c7d0b4f7"
      }
     },
     "48fa511d6d174a66837bd073ad8a17e1": {
      "model_module": "@jupyter-widgets/controls",
      "model_module_version": "1.5.0",
      "model_name": "DescriptionStyleModel",
      "state": {
       "description_width": ""
      }
     },
     "493ac80d7a37441d9442d4bb2dfe0f03": {
      "model_module": "@jupyter-widgets/base",
      "model_module_version": "1.2.0",
      "model_name": "LayoutModel",
      "state": {}
     },
     "4a0ee1d8d6d04cb58e618b26691cc93b": {
      "model_module": "@jupyter-widgets/controls",
      "model_module_version": "1.5.0",
      "model_name": "HBoxModel",
      "state": {
       "children": [
        "IPY_MODEL_40046626ff26482aa5fd51f392a28b9a",
        "IPY_MODEL_1d85413f38ca4d8e9660ffe3f7915497",
        "IPY_MODEL_1580c0f1ddfb4957b09e75a521b41392",
        "IPY_MODEL_9db0b7836f0544eca5c08bd1025170b5",
        "IPY_MODEL_4edc42a802c34189a53b51d8cdb50f51",
        "IPY_MODEL_726f7d78cdcb43b7ba4b37c56f18356f"
       ],
       "layout": "IPY_MODEL_d1da91bb48e04464be59d3b75e510de3"
      }
     },
     "4aade98f1f3545649f6b6526ac5dd054": {
      "model_module": "@jupyter-widgets/controls",
      "model_module_version": "1.5.0",
      "model_name": "DescriptionStyleModel",
      "state": {
       "description_width": ""
      }
     },
     "4b444c141b4b45589b00bc1b7d6e56dc": {
      "model_module": "@jupyter-widgets/controls",
      "model_module_version": "1.5.0",
      "model_name": "HBoxModel",
      "state": {
       "children": [
        "IPY_MODEL_57d3c15144064c5fa895aa97315a7f73",
        "IPY_MODEL_8d507004361a4a0aabf54fe7ff6af7ee",
        "IPY_MODEL_8223f02a3e744233910bb7fc7d1742b3",
        "IPY_MODEL_03e0f03c700e47bd9eff6c91e4987143",
        "IPY_MODEL_04cf09896c6447c18eff3c0597d640ee",
        "IPY_MODEL_e663704c61d84dffb5e5b8d129c93732"
       ],
       "layout": "IPY_MODEL_42ebf53ccfdb441bb0a7f18b746400e0"
      }
     },
     "4e3113b1537a4c6d897418e5137dd36a": {
      "model_module": "@jupyter-widgets/controls",
      "model_module_version": "1.5.0",
      "model_name": "ButtonModel",
      "state": {
       "icon": "close",
       "layout": "IPY_MODEL_277fe0eaaf09480da1137c5ff2eaa893",
       "style": "IPY_MODEL_c936b75752a94735a7b8da9d4bc4c725"
      }
     },
     "4e47e0ae6c6d4bfd94428404065bf938": {
      "model_module": "@jupyter-widgets/controls",
      "model_module_version": "1.5.0",
      "model_name": "VBoxModel",
      "state": {
       "children": [
        "IPY_MODEL_60206c57a81046458bdb467472feb09e",
        "IPY_MODEL_577ca1c9cd714cff9ec0b43b636cfef7"
       ],
       "layout": "IPY_MODEL_f46df290fc58426d86ad78212e41f0ea"
      }
     },
     "4edc42a802c34189a53b51d8cdb50f51": {
      "model_module": "@jupyter-widgets/controls",
      "model_module_version": "1.5.0",
      "model_name": "HTMLModel",
      "state": {
       "layout": "IPY_MODEL_30ef03338ff84ff099a0016b15063f21",
       "style": "IPY_MODEL_7895b6dbd59b4f9189997552102e4ed4",
       "value": "-"
      }
     },
     "4f48745432764081ba6275ab48c82962": {
      "model_module": "@jupyter-widgets/base",
      "model_module_version": "1.2.0",
      "model_name": "LayoutModel",
      "state": {
       "grid_area": "left",
       "width": "100%"
      }
     },
     "506e11c9472b46909a34c673b24aa3b0": {
      "model_module": "@jupyter-widgets/controls",
      "model_module_version": "1.5.0",
      "model_name": "HTMLModel",
      "state": {
       "layout": "IPY_MODEL_a7f3890e72d94892af3966b816945cc2",
       "style": "IPY_MODEL_3ff4b56c5b6947f1bddadcf8d21f3726",
       "value": "job has successfully run"
      }
     },
     "5125bb640df14b38a14f657d72c5fd41": {
      "model_module": "@jupyter-widgets/controls",
      "model_module_version": "1.5.0",
      "model_name": "DescriptionStyleModel",
      "state": {
       "description_width": ""
      }
     },
     "526c8f9b430f41a3b32d58fc5d03784b": {
      "model_module": "@jupyter-widgets/controls",
      "model_module_version": "1.5.0",
      "model_name": "DescriptionStyleModel",
      "state": {
       "description_width": ""
      }
     },
     "542606a1f77847fcbccc24e7305a451b": {
      "model_module": "@jupyter-widgets/controls",
      "model_module_version": "1.5.0",
      "model_name": "HTMLModel",
      "state": {
       "layout": "IPY_MODEL_8df29029bbee463e966944b590b8c8d3",
       "style": "IPY_MODEL_e8a2c78e1c324f06a857f0f822925335",
       "value": "61a10156398b845c90c292b5"
      }
     },
     "5468f40a1a834a7eb71c4efc01982728": {
      "model_module": "@jupyter-widgets/controls",
      "model_module_version": "1.5.0",
      "model_name": "GridBoxModel",
      "state": {
       "children": [
        "IPY_MODEL_118e926ddb684bd09b07686d8227ad34",
        "IPY_MODEL_90e380dea9ed4c79a481c09eb9c808dc",
        "IPY_MODEL_6a6e66d56d9440ed802e263cd3fc2d58"
       ],
       "layout": "IPY_MODEL_03fcf29a87494883bcea795c4cc93163"
      }
     },
     "5480e2fb61ba4d288e99e8ba3f5300d6": {
      "model_module": "@jupyter-widgets/controls",
      "model_module_version": "1.5.0",
      "model_name": "DescriptionStyleModel",
      "state": {
       "description_width": ""
      }
     },
     "549aa7d4274346db945a493b0b1804a1": {
      "model_module": "@jupyter-widgets/controls",
      "model_module_version": "1.5.0",
      "model_name": "HTMLModel",
      "state": {
       "layout": "IPY_MODEL_edf59d1fd21c4e9f8753b60d8c93ab50",
       "style": "IPY_MODEL_ec3e125650eb46faa1baaee1e4aae018",
       "value": "<font style='color:#34BC6E'>DONE</font>"
      }
     },
     "56c7a574092342188e76326b5e05c3b5": {
      "model_module": "@jupyter-widgets/controls",
      "model_module_version": "1.5.0",
      "model_name": "ButtonStyleModel",
      "state": {
       "button_color": "white"
      }
     },
     "56f211306ca347b883beb462cda9d0ec": {
      "model_module": "@jupyter-widgets/controls",
      "model_module_version": "1.5.0",
      "model_name": "DescriptionStyleModel",
      "state": {
       "description_width": ""
      }
     },
     "573f7ea752274d1996778b374652433b": {
      "model_module": "@jupyter-widgets/base",
      "model_module_version": "1.2.0",
      "model_name": "LayoutModel",
      "state": {
       "align_items": "center",
       "display": "flex-inline",
       "min_height": "400px"
      }
     },
     "5773a2617aaf425f842128c3e2274050": {
      "model_module": "@jupyter-widgets/controls",
      "model_module_version": "1.5.0",
      "model_name": "HTMLModel",
      "state": {
       "layout": "IPY_MODEL_15ab5b7f60ac490a863886b25e622c0f",
       "style": "IPY_MODEL_df2cf17ba763499cba2f13b4ca25d3a6",
       "value": "ibmq_belem"
      }
     },
     "577ca1c9cd714cff9ec0b43b636cfef7": {
      "model_module": "@jupyter-widgets/controls",
      "model_module_version": "1.5.0",
      "model_name": "HTMLModel",
      "state": {
       "layout": "IPY_MODEL_9f1c2564738440d19aa8dfec78280a11",
       "style": "IPY_MODEL_becdfafe193549d380c024cea8b92258",
       "value": "<table><style>\ntable {\n    border-collapse: collapse;\n    width: auto;\n}\n\nth, td {\n    text-align: left;\n    padding: 8px;\n}\n\ntr:nth-child(even) {background-color: #f6f6f6;}\n</style><tr><th></th><th>Frequency</th><th>T1</th><th>T2</th><th>RZ</th><th>SX</th><th>X</th><th>Readout error</th></tr><tr><td><font style='font-weight:bold'>Q0</font></td><td>5.09016 GHz</td><td>101.37763 us</td><td>116.39227 us</td><td>0</td><td>0.00077</td><td>0.00077</td><td>0.0711 </td><tr><td><font style='font-weight:bold'>Q1</font></td><td>5.24557 GHz</td><td>100.40317 us</td><td>101.14533 us</td><td>0</td><td>0.00105</td><td>0.00105</td><td>0.0216 </td><tr><td><font style='font-weight:bold'>Q2</font></td><td>5.36147 GHz</td><td>93.9608 us</td><td>53.36479 us</td><td>0</td><td>0.00025</td><td>0.00025</td><td>0.0234 </td><tr><td><font style='font-weight:bold'>Q3</font></td><td>5.17038 GHz</td><td>101.15261 us</td><td>152.43869 us</td><td>0</td><td>0.00025</td><td>0.00025</td><td>0.0165 </td><tr><td><font style='font-weight:bold'>Q4</font></td><td>5.25847 GHz</td><td>66.89266 us</td><td>102.42666 us</td><td>0</td><td>0.00023</td><td>0.00023</td><td>0.0246 </td></table>"
      }
     },
     "57b82e7956314a57bc40ba9315c99fc9": {
      "model_module": "@jupyter-widgets/controls",
      "model_module_version": "1.5.0",
      "model_name": "ButtonModel",
      "state": {
       "icon": "close",
       "layout": "IPY_MODEL_e8fd79df412f4b329ca6a28d670cd75a",
       "style": "IPY_MODEL_ac15d66b047048cbba3d51c91ba2254d"
      }
     },
     "57d3c15144064c5fa895aa97315a7f73": {
      "model_module": "@jupyter-widgets/controls",
      "model_module_version": "1.5.0",
      "model_name": "ButtonModel",
      "state": {
       "icon": "close",
       "layout": "IPY_MODEL_4047723bec0c4484bd6b0ba2c20ef742",
       "style": "IPY_MODEL_da499c55c87c41faa65181118a3abc7f"
      }
     },
     "5897c27903cf4649ad7e01a1c9ad9c81": {
      "model_module": "@jupyter-widgets/base",
      "model_module_version": "1.2.0",
      "model_name": "LayoutModel",
      "state": {
       "margin": "0px 5px 0px 0px",
       "width": "32px"
      }
     },
     "59bc96ac95144a4c80349df779cb9289": {
      "model_module": "@jupyter-widgets/base",
      "model_module_version": "1.2.0",
      "model_name": "LayoutModel",
      "state": {
       "margin": "0px 5px 0px 0px",
       "width": "32px"
      }
     },
     "5a1bbe9defe8482294ad850e4b22312a": {
      "model_module": "@jupyter-widgets/base",
      "model_module_version": "1.2.0",
      "model_name": "LayoutModel",
      "state": {
       "align_items": "center",
       "display": "flex-inline",
       "min_height": "400px"
      }
     },
     "5a261012b7af4fa3b2fb99a4cbd8e238": {
      "model_module": "@jupyter-widgets/base",
      "model_module_version": "1.2.0",
      "model_name": "LayoutModel",
      "state": {
       "max_height": "620px"
      }
     },
     "5aad55173a504560976ea877e943a7d6": {
      "model_module": "@jupyter-widgets/controls",
      "model_module_version": "1.5.0",
      "model_name": "HTMLModel",
      "state": {
       "layout": "IPY_MODEL_a2c6cbaaa4674245853995301ddf4157",
       "style": "IPY_MODEL_d777eb5e14ea48e587e872b19ec80ca5",
       "value": "-"
      }
     },
     "5b3d39693300415abf4f83f61831f36b": {
      "model_module": "@jupyter-widgets/base",
      "model_module_version": "1.2.0",
      "model_name": "LayoutModel",
      "state": {
       "grid_area": "top"
      }
     },
     "5c6ce034978747eda056f2fea188845d": {
      "model_module": "@jupyter-widgets/base",
      "model_module_version": "1.2.0",
      "model_name": "LayoutModel",
      "state": {
       "max_width": "700px",
       "min_width": "700px"
      }
     },
     "5c9d2097531244808409aac2e6001333": {
      "model_module": "@jupyter-widgets/base",
      "model_module_version": "1.2.0",
      "model_name": "LayoutModel",
      "state": {
       "width": "190px"
      }
     },
     "5ccab27c26684b36a7847a29c758f6e9": {
      "model_module": "@jupyter-widgets/controls",
      "model_module_version": "1.5.0",
      "model_name": "VBoxModel",
      "state": {
       "children": [
        "IPY_MODEL_1fc8a49e97ee40ff87366cb5b17b085d",
        "IPY_MODEL_f6132128c5014633b79924e8e5c637b1"
       ],
       "layout": "IPY_MODEL_609b174e019e43188c527be0bd059707"
      }
     },
     "5ee527c4dbe141ca806851fe2f66fa00": {
      "model_module": "@jupyter-widgets/controls",
      "model_module_version": "1.5.0",
      "model_name": "DescriptionStyleModel",
      "state": {
       "description_width": ""
      }
     },
     "60206c57a81046458bdb467472feb09e": {
      "model_module": "@jupyter-widgets/controls",
      "model_module_version": "1.5.0",
      "model_name": "HTMLModel",
      "state": {
       "layout": "IPY_MODEL_692299f1310e407095ae4d26c8619444",
       "style": "IPY_MODEL_c5447a56cdaa4cd980b8c3fdcf2a5d3c",
       "value": "<div><font style='font-weight:bold'>last_update_date</font>: Fri 26 November 2021 at 06:20 UTC</div>"
      }
     },
     "609b174e019e43188c527be0bd059707": {
      "model_module": "@jupyter-widgets/base",
      "model_module_version": "1.2.0",
      "model_name": "LayoutModel",
      "state": {
       "border": "4px solid #000000",
       "max_height": "650px",
       "min_height": "650px",
       "overflow_y": "hidden"
      }
     },
     "60fc07bdc54a40b89b6f58e4d021b43e": {
      "model_module": "@jupyter-widgets/controls",
      "model_module_version": "1.5.0",
      "model_name": "DescriptionStyleModel",
      "state": {
       "description_width": ""
      }
     },
     "61a642121e604410b4c6ccfb03a0bb1d": {
      "model_module": "@jupyter-widgets/controls",
      "model_module_version": "1.5.0",
      "model_name": "DescriptionStyleModel",
      "state": {
       "description_width": ""
      }
     },
     "623c274cdf7d417fb26978fa92d51b8f": {
      "model_module": "@jupyter-widgets/controls",
      "model_module_version": "1.5.0",
      "model_name": "DescriptionStyleModel",
      "state": {
       "description_width": ""
      }
     },
     "623ff6f97b2a4f6cae6aa923bb8f5d43": {
      "model_module": "@jupyter-widgets/controls",
      "model_module_version": "1.5.0",
      "model_name": "DescriptionStyleModel",
      "state": {
       "description_width": ""
      }
     },
     "63273d18b1844c86bd04109baeeee6a7": {
      "model_module": "@jupyter-widgets/base",
      "model_module_version": "1.2.0",
      "model_name": "LayoutModel",
      "state": {
       "width": "70px"
      }
     },
     "633845a042954abf8eaac8a7eaefd2fa": {
      "model_module": "@jupyter-widgets/base",
      "model_module_version": "1.2.0",
      "model_name": "LayoutModel",
      "state": {
       "width": "95px"
      }
     },
     "6476bff5bc204a848a253291aa946a9d": {
      "model_module": "@jupyter-widgets/controls",
      "model_module_version": "1.5.0",
      "model_name": "DescriptionStyleModel",
      "state": {
       "description_width": ""
      }
     },
     "647b3a4bab3d469b9c4e7df2b5763feb": {
      "model_module": "@jupyter-widgets/controls",
      "model_module_version": "1.5.0",
      "model_name": "VBoxModel",
      "state": {
       "children": [
        "IPY_MODEL_852118066023477da2eba3245a9bbe76",
        "IPY_MODEL_64b85fbed821420bae92d77124a082b5"
       ],
       "layout": "IPY_MODEL_2583f9bbeead4ce798bda9874644583f"
      }
     },
     "6488cd9e41e14e81a5119ad09f7319f1": {
      "model_module": "@jupyter-widgets/controls",
      "model_module_version": "1.5.0",
      "model_name": "HTMLModel",
      "state": {
       "layout": "IPY_MODEL_41af4470b2c24151951a2f6d31922da6",
       "style": "IPY_MODEL_d68bca96b8eb4ba3942408cba07b9b5a",
       "value": "<table><style>\ntable {\n    border-collapse: collapse;\n    width: auto;\n}\n\nth, td {\n    text-align: left;\n    padding: 8px;\n}\n\ntr:nth-child(even) {background-color: #f6f6f6;}\n</style><tr><th></th><th>Frequency</th><th>T1</th><th>T2</th><th>RZ</th><th>SX</th><th>X</th><th>Readout error</th></tr><tr><td><font style='font-weight:bold'>Q0</font></td><td>5.09016 GHz</td><td>101.37763 us</td><td>116.39227 us</td><td>0</td><td>0.00077</td><td>0.00077</td><td>0.0711 </td><tr><td><font style='font-weight:bold'>Q1</font></td><td>5.24557 GHz</td><td>100.40317 us</td><td>101.14533 us</td><td>0</td><td>0.00105</td><td>0.00105</td><td>0.0216 </td><tr><td><font style='font-weight:bold'>Q2</font></td><td>5.36147 GHz</td><td>93.9608 us</td><td>53.36479 us</td><td>0</td><td>0.00025</td><td>0.00025</td><td>0.0234 </td><tr><td><font style='font-weight:bold'>Q3</font></td><td>5.17038 GHz</td><td>101.15261 us</td><td>152.43869 us</td><td>0</td><td>0.00025</td><td>0.00025</td><td>0.0165 </td><tr><td><font style='font-weight:bold'>Q4</font></td><td>5.25847 GHz</td><td>66.89266 us</td><td>102.42666 us</td><td>0</td><td>0.00023</td><td>0.00023</td><td>0.0246 </td></table>"
      }
     },
     "64b85fbed821420bae92d77124a082b5": {
      "model_module": "@jupyter-widgets/controls",
      "model_module_version": "1.5.0",
      "model_name": "TabModel",
      "state": {
       "_titles": {
        "0": "Configuration",
        "1": "Qubit Properties",
        "2": "Multi-Qubit Gates",
        "3": "Error Map",
        "4": "Job History"
       },
       "children": [
        "IPY_MODEL_ec90d676171b4306afe92ffead1e801c",
        "IPY_MODEL_34c83255fa1a4b2ba3a55fd015d74f1e",
        "IPY_MODEL_be6b47cf951b4567aee1bced8c04706c",
        "IPY_MODEL_747ee4e9edf3433585e2a6083aec59d9",
        "IPY_MODEL_b343ae20f09c4a199ec8b1edbd495acd"
       ],
       "layout": "IPY_MODEL_af2b7ac58b974939bf3d82439925774e"
      }
     },
     "685a1969d0d642e2a0921dc773a994f5": {
      "model_module": "@jupyter-widgets/base",
      "model_module_version": "1.2.0",
      "model_name": "LayoutModel",
      "state": {
       "align_items": "center",
       "display": "flex-inline"
      }
     },
     "69182350e215408f821eb39ff18f7091": {
      "model_module": "@jupyter-widgets/controls",
      "model_module_version": "1.5.0",
      "model_name": "DescriptionStyleModel",
      "state": {
       "description_width": ""
      }
     },
     "692299f1310e407095ae4d26c8619444": {
      "model_module": "@jupyter-widgets/base",
      "model_module_version": "1.2.0",
      "model_name": "LayoutModel",
      "state": {}
     },
     "69366716bb6c4515bf76d218e2080c4e": {
      "model_module": "@jupyter-widgets/base",
      "model_module_version": "1.2.0",
      "model_name": "LayoutModel",
      "state": {
       "width": "70px"
      }
     },
     "6a28e5b7d207413b885c096e2db4c956": {
      "model_module": "@jupyter-widgets/controls",
      "model_module_version": "1.5.0",
      "model_name": "TabModel",
      "state": {
       "layout": "IPY_MODEL_82874c2c21b8468f9b3ccbb17d2e2710"
      }
     },
     "6a6e66d56d9440ed802e263cd3fc2d58": {
      "model_module": "@jupyter-widgets/controls",
      "model_module_version": "1.5.0",
      "model_name": "HTMLMathModel",
      "state": {
       "layout": "IPY_MODEL_f6cf5854565646d6a2c2e14fdfb04b31",
       "style": "IPY_MODEL_807a1b2907d84ee7ae3de7732cb6a8dc",
       "value": "<table><style>\ntable {\n    border-collapse: collapse;\n    width: auto;\n}\n\nth, td {\n    text-align: left;\n    padding: 8px;\n}\n\ntr:nth-child(even) {background-color: #f6f6f6;}\n</style><tr><th></th><th></th></tr><tr><td>rep_times</td><td>[1000.0]</td></tr><tr><td>clops</td><td>2454</td></tr><tr><td>url</td><td>None</td></tr><tr><td>pulse_num_qubits</td><td>3</td></tr><tr><td>timing_constraints</td><td>{'acquire_alignment': 16, 'granularity': 16, 'min_length': 64, 'pulse_alignment': 1}</td></tr><tr><td>meas_kernels</td><td>['hw_boxcar']</td></tr><tr><td>simulator</td><td>False</td></tr><tr><td>credits_required</td><td>True</td></tr><tr><td>qubit_lo_range</td><td>[[4.590161412517565, 5.590161412517565], [4.745573007719825, 5.745573007719825], [4.861467104180987, 5.861467104180987], [4.67037964741889, 5.67037964741889], [4.758465750602411, 5.758465750602411]]</td></tr><tr><td>dynamic_reprate_enabled</td><td>True</td></tr><tr><td>rep_delay_range</td><td>[0.0, 500.0]</td></tr><tr><td>processor_type</td><td>{'family': 'Falcon', 'revision': 4, 'segment': 'T'}</td></tr><tr><td>sample_name</td><td>family: Falcon, revision: 4, segment: T</td></tr><tr><td>n_registers</td><td>1</td></tr><tr><td>local</td><td>False</td></tr><tr><td>meas_map</td><td>[[0, 1, 2, 3, 4]]</td></tr><tr><td>parametric_pulses</td><td>['gaussian', 'gaussian_square', 'drag', 'constant']</td></tr><tr><td>input_allowed</td><td>['job', 'runtime']</td></tr><tr><td>dt</td><td>0.2222222222222222</td></tr><tr><td>open_pulse</td><td>False</td></tr><tr><td>channels</td><td>{'acquire0': {'operates': {'qubits': [0]}, 'purpose': 'acquire', 'type': 'acquire'}, 'acquire1': {'operates': {'qubits': [1]}, 'purpose': 'acquire', 'type': 'acquire'}, 'acquire2': {'operates': {'qubits': [2]}, 'purpose': 'acquire', 'type': 'acquire'}, 'acquire3': {'operates': {'qubits': [3]}, 'purpose': 'acquire', 'type': 'acquire'}, 'acquire4': {'operates': {'qubits': [4]}, 'purpose': 'acquire', 'type': 'acquire'}, 'd0': {'operates': {'qubits': [0]}, 'purpose': 'drive', 'type': 'drive'}, 'd1': {'operates': {'qubits': [1]}, 'purpose': 'drive', 'type': 'drive'}, 'd2': {'operates': {'qubits': [2]}, 'purpose': 'drive', 'type': 'drive'}, 'd3': {'operates': {'qubits': [3]}, 'purpose': 'drive', 'type': 'drive'}, 'd4': {'operates': {'qubits': [4]}, 'purpose': 'drive', 'type': 'drive'}, 'm0': {'operates': {'qubits': [0]}, 'purpose': 'measure', 'type': 'measure'}, 'm1': {'operates': {'qubits': [1]}, 'purpose': 'measure', 'type': 'measure'}, 'm2': {'operates': {'qubits': [2]}, 'purpose': 'measure', 'type': 'measure'}, 'm3': {'operates': {'qubits': [3]}, 'purpose': 'measure', 'type': 'measure'}, 'm4': {'operates': {'qubits': [4]}, 'purpose': 'measure', 'type': 'measure'}, 'u0': {'operates': {'qubits': [0, 1]}, 'purpose': 'cross-resonance', 'type': 'control'}, 'u1': {'operates': {'qubits': [1, 0]}, 'purpose': 'cross-resonance', 'type': 'control'}, 'u2': {'operates': {'qubits': [1, 2]}, 'purpose': 'cross-resonance', 'type': 'control'}, 'u3': {'operates': {'qubits': [1, 3]}, 'purpose': 'cross-resonance', 'type': 'control'}, 'u4': {'operates': {'qubits': [2, 1]}, 'purpose': 'cross-resonance', 'type': 'control'}, 'u5': {'operates': {'qubits': [3, 1]}, 'purpose': 'cross-resonance', 'type': 'control'}, 'u6': {'operates': {'qubits': [3, 4]}, 'purpose': 'cross-resonance', 'type': 'control'}, 'u7': {'operates': {'qubits': [4, 3]}, 'purpose': 'cross-resonance', 'type': 'control'}}</td></tr><tr><td>dtm</td><td>0.2222222222222222</td></tr><tr><td>meas_levels</td><td>[1, 2]</td></tr><tr><td>discriminators</td><td>['linear_discriminator', 'quadratic_discriminator', 'hw_centroid']</td></tr><tr><td>memory</td><td>True</td></tr><tr><td>allow_object_storage</td><td>True</td></tr><tr><td>acquisition_latency</td><td>[]</td></tr><tr><td>conditional_latency</td><td>[]</td></tr><tr><td>n_uchannels</td><td>8</td></tr><tr><td>uchannels_enabled</td><td>True</td></tr><tr><td>default_rep_delay</td><td>250.0</td></tr><tr><td>pulse_num_channels</td><td>9</td></tr><tr><td>conditional</td><td>False</td></tr><tr><td>multi_meas_enabled</td><td>True</td></tr><tr><td>qubit_channel_mapping</td><td>[['d0', 'm0', 'u0', 'u1'], ['m1', 'd1', 'u0', 'u1', 'u5', 'u2', 'u3', 'u4'], ['u2', 'd2', 'u4', 'm2'], ['m3', 'u6', 'u7', 'u5', 'u3', 'd3'], ['d4', 'u6', 'u7', 'm4']]</td></tr><tr><td>supported_features</td><td>['q', 'o', 'b', 'j']</td></tr><tr><td>allow_q_object</td><td>True</td></tr><tr><td>supported_instructions</td><td>['rz', 'delay', 'x', 'shiftf', 'id', 'measure', 'reset', 'sx', 'cx', 'u1', 'u2', 'u3', 'acquire', 'play', 'setf']</td></tr><tr><td>backend_name</td><td>ibmq_belem</td></tr><tr><td>coupling_map</td><td>[[0, 1], [1, 0], [1, 2], [1, 3], [2, 1], [3, 1], [3, 4], [4, 3]]</td></tr><tr><td>u_channel_lo</td><td>[[{'q': 1, 'scale': (1+0j)}], [{'q': 0, 'scale': (1+0j)}], [{'q': 2, 'scale': (1+0j)}], [{'q': 3, 'scale': (1+0j)}], [{'q': 1, 'scale': (1+0j)}], [{'q': 1, 'scale': (1+0j)}], [{'q': 4, 'scale': (1+0j)}], [{'q': 3, 'scale': (1+0j)}]]</td></tr><tr><td>hamiltonian</td><td>$$\\begin{align} \\mathcal{H}/\\hbar = & \\sum_{i=0}^{4}\\left(\\frac{\\omega_{q,i}}{2}(\\mathbb{I}-\\sigma_i^{z})+\\frac{\\Delta_{i}}{2}(O_i^2-O_i)+\\Omega_{d,i}D_i(t)\\sigma_i^{X}\\right) \\\\ & + J_{0,1}(\\sigma_{0}^{+}\\sigma_{1}^{-}+\\sigma_{0}^{-}\\sigma_{1}^{+}) + J_{1,2}(\\sigma_{1}^{+}\\sigma_{2}^{-}+\\sigma_{1}^{-}\\sigma_{2}^{+}) + J_{1,3}(\\sigma_{1}^{+}\\sigma_{3}^{-}+\\sigma_{1}^{-}\\sigma_{3}^{+}) + J_{3,4}(\\sigma_{3}^{+}\\sigma_{4}^{-}+\\sigma_{3}^{-}\\sigma_{4}^{+}) \\\\ & + \\Omega_{d,0}(U_{0}^{(0,1)}(t))\\sigma_{0}^{X} + \\Omega_{d,1}(U_{1}^{(1,0)}(t)+U_{3}^{(1,3)}(t)+U_{2}^{(1,2)}(t))\\sigma_{1}^{X} \\\\ & + \\Omega_{d,2}(U_{4}^{(2,1)}(t))\\sigma_{2}^{X} + \\Omega_{d,3}(U_{6}^{(3,4)}(t)+U_{5}^{(3,1)}(t))\\sigma_{3}^{X} \\\\ & + \\Omega_{d,4}(U_{7}^{(4,3)}(t))\\sigma_{4}^{X} \\\\ \\end{align}$$</td></tr><tr><td>measure_esp_enabled</td><td>False</td></tr><tr><td>online_date</td><td>2021-01-08 05:00:00+00:00</td></tr><tr><td>description</td><td>5 qubit device Belem</td></tr><tr><td>meas_lo_range</td><td>[[6.801661824000001, 7.801661824000001], [6.8934333720000005, 7.8934333720000005], [6.860214726000001, 7.860214726000001], [6.8033823270000005, 7.8033823270000005], [6.926310916, 7.926310916]]</td></tr></table>"
      }
     },
     "6ace67fe058145c3bdfe94d7cac3485f": {
      "model_module": "@jupyter-widgets/controls",
      "model_module_version": "1.5.0",
      "model_name": "DescriptionStyleModel",
      "state": {
       "description_width": ""
      }
     },
     "6bf5ba08e83c4773a753f5e7b807b4dc": {
      "model_module": "@jupyter-widgets/controls",
      "model_module_version": "1.5.0",
      "model_name": "HTMLModel",
      "state": {
       "layout": "IPY_MODEL_7bc1567c37c346fda472146c46443daa",
       "style": "IPY_MODEL_e18489956c6c490299048a398278f6e0",
       "value": "<table><style>\ntable {\n    border-collapse: collapse;\n    width: auto;\n}\n\nth, td {\n    text-align: left;\n    padding: 8px;\n}\n\ntr:nth-child(even) {background-color: #f6f6f6;};\n</style><tr><th></th><th>Type</th><th>Gate error</th></tr><tr><td><font style='font-weight:bold'>cx4_3</font></td><td>cx</td><td>0.00841</td></tr><tr><td><font style='font-weight:bold'>cx3_4</font></td><td>cx</td><td>0.00841</td></tr><tr><td><font style='font-weight:bold'>cx3_1</font></td><td>cx</td><td>0.00879</td></tr></table>"
      }
     },
     "6c4285d0f7fb47b7ae70584e86f9e60f": {
      "model_module": "@jupyter-widgets/controls",
      "model_module_version": "1.5.0",
      "model_name": "ButtonStyleModel",
      "state": {}
     },
     "6eb4106f915a4e0abab33d8282f4ec08": {
      "model_module": "@jupyter-widgets/base",
      "model_module_version": "1.2.0",
      "model_name": "LayoutModel",
      "state": {
       "grid_area": "right"
      }
     },
     "6f05bf0d5b494bee81fe09c7cc624572": {
      "model_module": "@jupyter-widgets/controls",
      "model_module_version": "1.5.0",
      "model_name": "DescriptionStyleModel",
      "state": {
       "description_width": ""
      }
     },
     "6f0d7ebb71f4436292fe059abdd480ef": {
      "model_module": "@jupyter-widgets/output",
      "model_module_version": "1.0.0",
      "model_name": "OutputModel",
      "state": {
       "layout": "IPY_MODEL_08db52bebe6441f3ad6d07a4a3b5fad1",
       "outputs": [
        {
         "data": {
          "image/png": "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\n",
          "text/plain": "<Figure size 360x360 with 1 Axes>"
         },
         "metadata": {},
         "output_type": "display_data"
        }
       ]
      }
     },
     "6f30765326ae489da40057f4d2db08d2": {
      "model_module": "@jupyter-widgets/controls",
      "model_module_version": "1.5.0",
      "model_name": "DescriptionStyleModel",
      "state": {
       "description_width": ""
      }
     },
     "6f8f77889ce34421bdba3917c7d0b4f7": {
      "model_module": "@jupyter-widgets/base",
      "model_module_version": "1.2.0",
      "model_name": "LayoutModel",
      "state": {
       "max_width": "700px",
       "min_width": "700px"
      }
     },
     "704596911db04eceba57a1945557c9db": {
      "model_module": "@jupyter-widgets/controls",
      "model_module_version": "1.5.0",
      "model_name": "ButtonStyleModel",
      "state": {
       "button_color": "white"
      }
     },
     "72135167346046a8917fc6c0d60bac02": {
      "model_module": "@jupyter-widgets/base",
      "model_module_version": "1.2.0",
      "model_name": "LayoutModel",
      "state": {
       "margin": "0px 0px 0px 37px",
       "width": "600px"
      }
     },
     "726f7d78cdcb43b7ba4b37c56f18356f": {
      "model_module": "@jupyter-widgets/controls",
      "model_module_version": "1.5.0",
      "model_name": "HTMLModel",
      "state": {
       "layout": "IPY_MODEL_227cd989e6f249f49e7ff69e0c3c4cfd",
       "style": "IPY_MODEL_f8d85bcc2d1a42548e4057ddf3659f86",
       "value": "job has successfully run"
      }
     },
     "72d3e2db7eda414aaa970e757d726d80": {
      "model_module": "@jupyter-widgets/controls",
      "model_module_version": "1.5.0",
      "model_name": "ButtonModel",
      "state": {
       "icon": "close",
       "layout": "IPY_MODEL_84eed61491fd46d3a718848c26758c2e",
       "style": "IPY_MODEL_704596911db04eceba57a1945557c9db"
      }
     },
     "747ee4e9edf3433585e2a6083aec59d9": {
      "model_module": "@jupyter-widgets/output",
      "model_module_version": "1.0.0",
      "model_name": "OutputModel",
      "state": {
       "layout": "IPY_MODEL_8959117e473a48f6ad70d056a97c495a",
       "outputs": [
        {
         "data": {
          "image/png": "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\n",
          "text/plain": "<Figure size 792x648 with 5 Axes>"
         },
         "metadata": {},
         "output_type": "display_data"
        }
       ]
      }
     },
     "776dc5648fdb4290bc2cd5b5c815c910": {
      "model_module": "@jupyter-widgets/controls",
      "model_module_version": "1.5.0",
      "model_name": "HTMLModel",
      "state": {
       "layout": "IPY_MODEL_e54e384901434bd5a9db88c5c35428f0",
       "style": "IPY_MODEL_56f211306ca347b883beb462cda9d0ec",
       "value": "<h5>Backend</h5>"
      }
     },
     "7895b6dbd59b4f9189997552102e4ed4": {
      "model_module": "@jupyter-widgets/controls",
      "model_module_version": "1.5.0",
      "model_name": "DescriptionStyleModel",
      "state": {
       "description_width": ""
      }
     },
     "7a2aa3e56b6f4f7fad83e29234efe8f8": {
      "model_module": "@jupyter-widgets/output",
      "model_module_version": "1.0.0",
      "model_name": "OutputModel",
      "state": {
       "layout": "IPY_MODEL_5a1bbe9defe8482294ad850e4b22312a",
       "outputs": [
        {
         "data": {
          "image/png": "iVBORw0KGgoAAAANSUhEUgAAAVwAAAE5CAYAAADcL5jFAAAAOXRFWHRTb2Z0d2FyZQBNYXRwbG90bGliIHZlcnNpb24zLjQuMywgaHR0cHM6Ly9tYXRwbG90bGliLm9yZy/MnkTPAAAACXBIWXMAAAsTAAALEwEAmpwYAAAooklEQVR4nO3dd5xcVeH//9eZma0ppBAgoSUgBOkkIASN3hSaNCmilLHw+4BKCZ+figgi0pSA+FFAUfEjoAMqnVAUpGT4hC4JCDFIJ5BCII2U3en3+8edxXXdZGd3Z+85d+b9fDzmAZtMkncyc9575tx7zzW+7yMiIgMvZjuAiEi9UOGKiIREhSsiEhIVrohISFS4IiIhUeGKiIREhSsiEhIVrohISFS4IiIhUeGKiIREhSsiEhIVrohISFS4IiIhUeGKiIREhSsiEhIVrohISFS4IiIhUeGKiIREhSsiEhIVrohISFS4IiIhUeGKiIREhSsiEhIVrohISFS4IiIhUeGKiIREhSsiEhIVrohISFS4IiIhUeGKiIREhSsiEhIVrohISFS4IiIhUeGKiIREhSsiEpKE7QAiA8l4ySZgNDAMaCg/Ep0eAIVOj3z5sRpY6qdT2VADS00zvu/bziDSa8ZLtgJjCMq049H169HAiH7+USuBpV0eS7p+7adTbf38c6QOqHDFecZLDgUmABM7PXYAjMVYnfnAa8DcTo95fjq1xmoqcY4KV5xivOQwgnLtXLAfw51yrZQPvE6nAiYo4dU2Q4ldKlyxqrw0cABwOOAB2xG9cq2UD7wJPAbcC/xVSxH1RYUroTNecgxBwR4OTAOarQayJwM8QlC+9/rp1BLLeWSAqXAlFMZL7gkcUX5MoHZnsX3lEyw93Avc46dTL9iNIwNBhSsDwnhJQ7BEcCxwGLCNzTwR9A5wH3A7kPbTKQ3UGqDClaoyXnIL4CvAfwHbWw1TO14Hfgvc4KdTy2yHkb5T4Uq/lWezBwGnEqzL6oKagVEgWHK4DnhQs97oUeFKnxkvOYRgNnsmwXmxEp7XgGuAG/10aq3tMFIZFa70mvGS2xGU7MnAULtp6t4a4HrgGj+detN2GNk4Fa5UzHjJjwGXAMehjY9cUwJuA87306nXbYeR7qlwpUflA2E/IDgQpvVZtxWA/wUu8tOp92yHkX+nwpUNMl5yE+A7wH8DrVbDSG+1AT8DrvDTqQ8tZ5EyFa78B+Mlm4EzgHPp/25bYtdK4DLg5346lbEdpt6pcOUjxkvGgS8DFwJbWw0j1fYuwev6Oz+dKlrOUrdUuAKA8ZKHAZcDO1uOIgNrAXCOn07dZztIPVLh1jnjJUcAPweOtxxFwvUH4Ew/nVppO0g9UeHWMeMlPwf8CtjcbhKx5D3g6346Nct2kHqhwq1D5VntNcAJlqOIG24GZmi2O/BUuHXGeMkjCWa1W1iOIm55D/ian07dYztILVPh1onyrPZq4ETLUcRtNxHMdlfZDlKLVLh1wHjJI4Bfo1mtVGYpwWz3XttBao0Kt4YZL9lAsFb7NctRJJp+RTDbzdsOUitUuDXKeMlRwB3AZMtRJNr+DzjGT6eW2w5SC1S4Nch4yT2AWcC2lqNIbXgbONJPp160HSTqtMVejTFe8mjgCVS2Uj1jgSfL7y3pB81wa0T5NjcXEGyjqDviykDwgYuAi3V7n75R4dYA4yVbgd8R3CFXZKDdDnzZT6fabAeJGhVuxBkvuQ3Beu2edpNInXmBYF33HdtBokRruBFmvOQk4G+obCV8ewJ/K78HpUKa4UaU8ZJTCG6ZPchyFKlv64HD/XRqtu0gUaAZbgQZL3kQcD8qW7FvEHB/+T0pPVDhRkz5Mt1ZQIvlKCIdWoBZ5fembIQKN0KMlzyG4Ahxk+UoIl01AbcbL6kzZTZCa7gRUd4s/DZ0m/INSsTjbD5iKGNGDmf0yGGMHjmMLTcdznZjNmPbzTdl9IhNaG1uIh6LEY/HSMSC+UahVKJYLFEslWjLZFm68kMWLlvOm0veZ8ny1SxZsYqlK4L/Llu5hkJRtwTbiALweT+dutt2EBepcCPAeMlDgLuBRrtJ3NHU2MBu47Zi4vhxTN59PPvtvD3bbLYpuUKBfKGIARoScZobG4nF+nYdSKnkk8nlyBeK+OXfrzGR4J33l/P0gjeY8+IrzH3lLV56axHZnPZ36SQHfM5Pp/5iO4hrVLiOM15yGnAf0Gw5ilVbjhrOZ/fdk8/suRP77bw9W282kvZsjkQszqAWOyss69uzFEpFWpoaeff9FTy94A0ee+Gf/PmZF1j8Qd1vJ5sBDvXTqUdtB3GJCtdhxktOBh4AWi1HsWKvHbblqMl788Wpk9hq1HCKpRKDW9z+vrOuPUMiHuPd91fxp0ef4q45z/H8awttx7KlDTjYT6fm2A7iChWuo4yXHA88DQyzmyQ8jQ0Jpuz1cY7z9uXIT02kMZGgsSFOU0OD7Wh9ks3nyeWL5AoFZj0+l1vTzzD7+ZfJ5Qu2o4VpNbCvn069ajuIC1S4DjJechjwDLCj3STh2GGrLZhxzIF85eDJH81i47HaOoGmWCqxri1DPB7jxgfmcPUdf+W1Re/ZjhWWVwhK90PbQWxT4TrGeMk4wZrtwZajDKh4PMZhk/binOMPZc+PbUs8FqOxoT5OwMjlCxRLJZ5/bSFX/Ol+7nvqeYrFku1YA+0BgjXdmv+LbowK1zHGS/4E+KbtHANl8xGb8LXDpzDjmINoiMcZOqi+r99Ys76dfLHI1Xc8yK/vnc2ylTU9CfyJn05923YIm1S4DjFe8svAjZZjDIjRI4fxo1M+zxem7IfvQ2uzznDrrC2Twxi4ZfbTnPeb21i6YrXtSAPly3469XvbIWxR4TrCeMn9gDQ1dhXZsMGtfC95JKcdOY14LEZTYzQPgIUlm8tTLJW4dtYjXJqaxYfram7L2SzwGT+desZ2EBtUuA4wXnJL4Dlq6DbmzY0N/PexB3HeSUeSiMVo0Yy2V9ozOQqlEj+6aRY/u/1BMrV1YcVSYB8/nVpsO0jYVLiWGS/ZAswBJlqOUhXxeIyTD/kMM089jqaGBIMcP2/WdevbM2TzBb573a1c/5fHaung2nPAp/10qt12kDCpcC0zXvKPwBdt56iG3bffhtsuPIPRI4czpFVFW03r2jIsWbGKz1/4c158o2ZusvBHP506wXaIMKlwLTJe8mvAr2zn6K9EPM73v3Qk3/7CZ2lubCBWY+fQuqJUKpHJ5bnylj9zye9n1comOl/306lf2w4RFhWuJcZLjgVeAgbbTdI/HbPaLTcdruWDkKxrz7Bkec3MdtcCu/npVF1c/6zCtaB8S/OHgamWo/TZv2a1h9LcmNCsNmTBbLfAlbfcXwuz3UeAA+rh1usaJXZ8nQiX7fhtRvOPGy/jm8cdQmtzo8rWglgsRmtzI9887hD+ceNljN9mtO1I/TEN+JrtEGHQDDdkUV9K+Ox+e3DLD86gtUlF64pg4/QcX7jo5/zlmb/bjtNX6wiWFt62HWQgqXBDVF5KeASYYjlKn5x74uGcnzyS1uaaujajZrRlslyamsVlN99rO0pfPQpMr+WlBU1RwvUNIli2zY0N3H7RmZx30hEqW4e1Njdx3klHcPtFZ9IczSv6phIst9UszXBDYrzkOIKlhEjd2nzMpsN56MpzGLvFpirbiGjLZHlr6QccePYVLFkeuTtP1PTSggo3BOWlhEcBz26S3tlnp+144IqzGdLaTEOiPrZOrBX5QoG1bRkOOedKnn35Ddtxems2MK0Wlxa0pBCObxCxsp06YWce/em5jBg6WGUbQQ2JBCOGDuaR//kuU/ba2Xac3ppCjS4taIY7wMp3b3gTGG43SeUO/sTu3H7xDAZpCaEmrM9kOeaCq3jw2ZdsR+mNlcB2tXaXCM1wB945RKhsj/jkBO5Q2daUQc1N3HnxWRzxyQm2o/TGCIKxU1M0wx1AxkuOBl4nInfd/ex+e3DbhWfq4FiNastkOfYH10TpXN024GN+OrXUdpBq0Qx3YP2AiJTttIm7cKvKtqa1Njdx20VnMm3iLrajVKqVYAzVDM1wB4jxkjsC/wCcP+L0qd125IErztbmM3VifSbLwWdfweMvReLO5QVgZz+des12kGrQDHfgXEoEynbc6FHcN/NbKts6Mqi5iftmfptxo0fZjlKJBMFYqgma4Q4A4yX3Bp4FjOUoGzW4pZkXr/8hW282kkQ8bjuOhKhQLPLu+yvY/eTvsa49YztOT3yCW/LMtR2kvzTDHRiX4XjZGmO485IZbDFimMq2DiXicbYYMYw7L5mBMU6/VSEYSzNth6gGFW6VGS85HZhuO0dPZp56HJN22YGWJt3csV61NDUyaZcdmHnqcbajVGJ6eWxFmgq3isqX8Dr/nfi4Kfty+lEHMFjrtnVvcEszpx91AMdN2dd2lErMLI+xyFLhVtehOH733b122JbrzzlFFzbIRwY1N3H9Oaew1w7b2o7Sk4kEYyyyVLjV9d+2A2zM4JZm/nL52bREc+s+GUAtjQ385fKzo/Cp5yzbAfpDhVslxkvuSnCrEGddc1aSoYNadKcG+Q+xWIyhg1q45qyk7Sg9mW68ZGSu3OhKI696ZtgOsDHTJu7C5719dZBMNqilqZHPe/tG4Uo0p8faxug83CowXnIk8C7QYjlKtwa3NPPGH37CZsOH2o4iEfD+qjVsf8K3XD4/tx3Yyk+nVtoO0lua4VbHf+Fo2UKwlDDE/bU5ccSQ1mbXlxZaCMZc5Khw+6l8msqptnNsyEdLCc1aSpDKRGRp4dQoniKmwu2/qcB2tkN0Z3BLM384/zSdAia9Nqi5iT+cf5rLZy1sTwRvyKrC7b9TbAfYkItPPobBrSpb6Zshrc1cdPLRtmNsjLNjb0N00KwfjJfcFFgMOPd5fctRw3k19WPtbyv90pbJssNJZ7t6998ssKWfTq2wHaRSmuH2z5dwsGwBLjvlOOJxvbzSP/FYjMtOcXavhSbgy7ZD9IZGZP8cbztAd8ZvM5pjPvMJmhp0RZn0T1NjA8d6n2DHrbewHWVDTrAdoDdUuH1kvOQYHN034X9OP5FGbbkoVdIYj/PTM06yHWNDJpTHYiSocPvucBzc83bv8eP4zB47kUiocKU6Eok43h47sff4cbajdMcQjMVIUOH23RG2A3TnmrO+pM1ppOqaGxu45qwv2Y6xIU6Oxe6ocPvAeMlWgvNvnfLpPXZi13FbaXMaqbpYLMau47Zi8u7jbUfpztTymHSeRmbfHAg4d0b4d754KK3anEYGSGtTI9853sntaJsJxqTzVLh949xHmNEjhzFt4s6a3cqAicViTJ+4C1uM2MR2lO44Nya7o9HZS8ZLxnBw1/mvHTEVXcMiA833g/eagw4tj02nOR/QQfsCm9kO0VkiHufMow7QXrcy4FqaGplx9IEuXlSzGcHYdJpz/2oR4NwpKIfvv5dudS6hScTjHD5pL9sxuuPc2OxKhdt7zq0VnXP8YQwd5Ox2vFJjhg5q4ZwTDrMdozvOjc2uVLi9UL6ixalNQnfcegt2224r2zGkzuy+3dYuXu67i+tXnalwe2dv2wG6OnH6/sS1nCAhi8fjnDh9f9sxuuPcGO1Mhds7zu2dcPy0STQ1JGzHkDrT1JDg+GmTbMfojnNjtDMVbu849WJuOWo4W282wnYMqVNbbzaCLUcNtx2jqwm2A2yMCrd3nCrcwydNoFgs2Y4hdapQLHGYe2crODVGu1LhVqi8GO/UUYITD9ifQe7ec0pq3OCWZk46wLl13NHGS462HWJDVLiVc+o756CWJle3y5M6svf47RjU4txtnJwaq52pcCvn1It44N67kc3nbceQOpfN5zlw791sx+jKqbHamQq3ck69iF+Yuh9DtJwglg1paeYLU5y7otapsdqZCrdyTr2In959vHYGE+tisRif3mMn2zG6cmqsdqYRWwHjJbcAnFmIHzqohZFDB9uOIQLAyKGDXbu0fEx5zDpHhVsZp87tm7DDWNqyOdsxRABoy+aYsMNY2zG6cmrMdlDhVsap0wEmjh9Hs+5bJo5oaWxgontnzIy1HaA7KtzKOLOcAODtuZMKV5zR1NjAZ9xbx3VqzHZQ4VbGqRdv4o7OzSakzjk4w3Vy1zAVbmWcefF0wExctKl7B86cmiR1UOFWxpkXTwfMxEVt2Rx77bCt7RidOTNmO1PhVsaZF2/7LTcj4d79pCLB931efvllfve733H66aezzz770NTUhDGG5mZdRNIfiXiM7cdsbjtGZ86M2c60kWoPjJdMAKNs5+gwZuRwWhp1s8i+WLhwITvvvLPtGDWppbGRMSOH2Y7R2SjjJRN+OlWwHaQzTZV6tjlgbIfoMG70KBfvmBo5W221FUcddRSTJ0+2HaUmxOMxxo126mbWMYKx6xSN3J459dFk2y02tR0hskaOHMndd9/N0qVLeffdd7nzzjuZOnWq7Vg1Y+xo596bTo1d0JJCJZw5QwFgy5HO7bAfGUOGDOHII4+0HaNmObakAA4Wrma4PXPqRRs1bIjtCCLdGjVsqO0IXTk1WQIVbiWcOWBmjGHooFbbMUS6tcmgVoxx5nAHgFOLyqDCrYQz29lvuskQ8gWnDrqKfCRfKLh2UY5zp/OocHvmzDr38CGt5AtF2zFEupUvFBkxdJDtGJ05M3Y7qHB75syL1pBI4OPbjiHSLR+fRDxuO0ZnzozdDircnjmzLVciHkN9K87yca1wnRm7HVS4PXPmu2QiHlffirN8cO2yc2fGbgen/nUc5cy/UVz3MBPHOfYedSoMOBjIQc6cFlAo6oCZuM2x96gzY7dDj4VrjDnXGPM3Y8waY8wHxph7jTG7dnnO0caYB8s/7xtjvEr+8PJzc8aY7br8+I3GmPt68xcZQM68aPlC0Z1NHUS6MEChWLIdozNnxm6HSma4HnAtsD8wleAv8bAxZkSn5wwCngS+2YcMReCHffh1YXHmRSsUi66dWC7yEWOMZrg96LFwfd8/yPf9G3zfn+/7/ktAkuDqq092ek7K9/2LgL/0IcM1wHHGmA3eS94YEzPGfN8Y864xJmuMeckYc2Snn3/SGPOTLr9mqDGm3RhzdB8ydebMi5bNF1S44ixjDNm8M8MFHBq7HfpyFG8IQVGvqlKGZ4E7gCuAaRt4zlnA2cDXgeeAk4A7jTETfd9/AbgJ+J4x5mzf9zs+0xwDZID7+5kv389fXzXLVn2om0f204IFC1izZs1HXy9atAgINid/+umn/+25e+21F01Nzlxo6LzmxgaWrfrQdozOnBm7HfpSuFcBLwBPVTHHecACY8zBvu8/0M3Pfxu40vf9P5S/vsAY8+nyj58E3AL8DJgCPFJ+zonAbb7vZ/uZbX0/f33VrG/PUiyVaMCpcx0j5bTTTuOxxx77jx/P5XJMmjTp337srbfeYuzYsSEli75iqcT69v4Ot6pyZux26NVZCsaY/wE+BRzj+37FizXGmF8ZY9Z1PLr+vO/7rwO/AWYaY2Jdfu1Qgl1/nujyyx4Hdi7/+hXAAwQlizFmDEH53lRpxo1YWoXfo2pWrvmPfz4RJzj43nRq7EIvCtcY81PgeGCq7/tv9vLPuQDYs9OjOxcD21MuzQp1vg7gJuAYY0wz8EXgXWBOL3N2x6kXbdmqNT0/STYonU7j+35FD81ue8ex5QRwbOxChYVrjLmKf5XtP3v7h/i+/77v+693PDbwnGXAlcAldNqhy/f9NcASOh2kK/sUsKDT1/eU/3sYQWn/wff9alyY5dSLtviDlbYjiHRrkXvvTafGLlSwhmuM+QXBmQmfA1YZY7Yo/9Q63/fXlZ8zAtgGGFb+uY8ZY1YD7/m+/14v8vwE+Eb5z3qk04//GLjYGPMaMJdg3XYyMKHjCb7vZ4wxdwDnA3uUM3f8HX5ffs6XepGlg1Mv2ptLP7AdQaRbDr43l9gO0FUlM9zTCM5MeISgfDoe3+70nCOA54HZ5a9/U/76670JUy7wi4Cu96y+mqB0rwDmA0cRrCP/vcvzbiIo2+d93+88+92m/Og1P51aCThzJOCd91e4duqNCNl8gXeWrbAdo7OMn05V60yqqulxhuv7fo8nfvq+fyNwY2//8O5+b9/3fwn8ssuPlQiWGi7p4fd7lG7usOv7vtfbbF0sBcb28/eoiiXLV5HN5WlqcG5fDqlj2VyeJcud6rfefLIOjfZSqIwzywrz31rk0E3bRcpM+b3pDmfGbGcq3Mo48+ItWLiY5gZd/CBuaW5o4OV3nFoydSpMBxVuZZwp3GKxxOuLl9mOIfJvXl+8jKJbG9c4M2Y7U+FWxqkX74n5r9qOIPJvHHxPOjVmO6hwK+PUx5Mn57/G2rZ22zFEAFjb1s6T81+zHaMrFW6EvWw7QGdzX32bqlzSIVIFvh+8Jx2zoOenhE+FW5m/E+zb64QFCxdr1zBxRnNjAwsWLrYdo7MCwZh1jgq3An461Y5D3zGLxRKv6cCZOMLBA2YL/HQqYztEd1S4lZtrO0Bnsx6fS05XnIlluXyBux5/znaMrubZDrAhKtzKOVW4d815jkzeuf2Vpc5k8nnumuPU0ADHxmpnKtzKOfUizn31bdc+xkkdKhZLzHPvgJlTY7UzFW7lnDpw5vs+9zwxj1JJpSt2lEolZj0xj+rsglo1RRw9YAYq3Ir56VQbjp0edmv6Gda2OXlsQOrA2rYMt6WfsR2jq5fLY9VJKtzeceqjyqPzFmjXMLGmqSHBo/OcOXmng1NjtCsVbu849WJmcnked++SSqkTj7/0KpmccwdunRqjXalwe8e5F/Omh57UZb4SurVt7dz88JO2Y3THuTHamQq3d57Hobs/ANzx2N+Ix/QySrhisRi3Pfas7RhdZYEXbIfYGI3UXihfcTa7xyeGaF17hpsffop8QRdBSDjyhQI3P/Qk69udmnsAzHb5gBmocPvinp6fEq6f3f4A+YIzZ6xJjcsXivzs9gdsx+iOc2OzKxVu791rO0BXC95ezMsLndpBUmrYgoXOvt+cG5tdqXB7yU+nFhGs5Trl8j/ex5r1OngmA2vN+nYu/8P9tmN05/ny2HSaCrdvnPvocvfjcym5dcWP1KBiqcTdjzt5IoBzY7I7Kty+ce7FzReKXHv3w2SyOdtRpEZlsjmuvfthCkUnjxc4Nya7o8LtAz+dmgc4teMywM/vekizXBkwJd/nF3c/bDtGdxaXx6TzVLh959wC/dIVq/n1vbNp1yxXqqw9m+PX985m6YrVtqN0x7mxuCEq3L5z8kW++Hd3UdQOYlJlxVKJi393l+0YG+LkWOyOCrfvHgHW2w7R1ep1bVx2870unpQuEbW+PcuPbrqH1eucvKZgPcFYjAQVbh/56VQWcPLs75/e9gBZXXkmVZItFPjZ7Q/ajrEhD5THYiSocPvnBtsButOezXHeb27VXrnSb2vbMpx73S0uHxdwcgxuiAq3fx4AnDzZ+rf3P8Ya7SIm/fTh+jZ+++fHbMfYkEU4+ilzQ1S4/eCnU0Xgets5ulMoFjnzqt+zrl2zXOmbde0ZZlydcvneedeXx2BkqHD777eAk+/Iu+Y8x5wXXyGru/tKL2Vzeea8+Ap3zXHuFugdSgRjL1JUuP3kp1PvAH+1nWNDvjLzOhd35RfHZfJ5vjLzOtsxNubB8tiLFBVudfzSdoANeX/VGk698notLUjF1rVnOPXK63l/1RrbUTbG2TG3MSrc6rgPeNN2iA25dfYzwdKCZrrSg46lhFtnO3c33s7eAJzcsqwnKtwq8NOpEnCN7Rwb85WZ15HRWq70IAJLCQDXlMdc5Khwq+d6YK3tEBuipQXpSUSWEtYSsXNvO1PhVomfTq3B8TfCrbOf4aHn5tPm7knsYklbNsdDz813fSkB4IbyWIskFW51XQ04fU3tiZf+kneXrdBNJ+Uj+UKBd5et4MRLnT8OVSAYY5Glwq0iP516A0cvhOjQns0x/VszWafNbaRsXXuW6d+a6fLlux2uL4+xyFLhVt9FgNPX1C76YCWHnfsT2jIq3XrXlsly2Lk/YdEHK21H6Uk7wdiKNBVulfnp1BLgKts5evLk/NeYcXVK2zjWsfXtWWZcneLJ+a/ZjlKJq8pjK9JUuAPjcmCV7RA9+e2fHyP10OOs15kLdWd9e4bUQ4+7vDFNZ6sIxlTkqXAHgJ9OrQZm2s5RiTOu+j0vvPFOFNbvpEraszleeOMdzrjq97ajVOqy8piKPBXuwLkGB2802VWxWOKQ7/yY1xcv05VodSCTy/P64mUc8p0fu7wLWGeLcPyiot5Q4Q4QP51qBy60naMSa9syTJ5xKW+994FKt4Zlc3nefu8DJs+4NEqb01/op1ORCdsTFe7AugH4p+0QlfhwXRufPOMSFn2wUts51qBsPs+iD1byyTMu4UM3703WnZeBG22HqCYV7gAqb478Pds5KrVyzTr2Pe1CFr63XFs61pBMLs/C95az72kXsnLNOttxeuN7UdtgvCfG933bGWqe8ZJPA/vazlGpYYNbefya77P9mM1obmq0HUf6IZPN8fqSZUw+81JX77q7IU/76dQk2yGqTTPccHwNiMyUcfW6NiadfhH/eHuxLo6IsLZMlgULl7D/6RdHrWzzBGOm5qhwQ+CnU38HLrWdozfWtmXY/4yLmfXEPO0wFkHr2zPMemIek06/KEoHyDpc4qdTL9oOMRBUuOH5EfC87RC9kcsXOOGSa7nwxjs1042QtkyWH9x4Jydcci25fOQ2KZoHXGY7xEDRGm6IjJfcHXgOaLAcpdcO2HtXbr94BoOam4jH9H3aRYVikbZsjmMvuJqHnptvO05f5IC9/XTqJdtBBopGTojKH5MusZ2jLx56bj57n3oBi5evIpPTVWmuyWRzLF6+iomnfD+qZQvBUkLNli2ocG24jOBjU+S8tug9dvvquTy94A2t6zpkXXuGpxa8zu4nn8fri5fZjtNXc4nI5fD9oSUFC4yX3I1gaSGS51zFYoZvfv4QLvrq0TQ1JIjH47Yj1aVisUg2X+CC6+/gp7c/QKkU2bGcAyb66VRkp+aVUuFaYrzk+UR0eaHDjltvwS0/OIOPbbk5g1uabcepK+vaM7y+eBnHXfhzXlv0nu04/XW+n0790HaIMKhwLTFeMgE8DUy0HKVfNNsNVw3NajvMBfbz06nInU7RFypci4yX3BV4FmixHKXfNNsdeDU2qwVoA/ath6WEDipcy4yX/ALwJ9s5qiEWM/z/xx7MhV89mngsRosuC66K9myOYqnEhTfcWSuz2g5f8NOpW22HCJMK1wHGS/4QOM92jmoZMXQwF3zpc5xy2BTicUNTQ+ROO3ZCNp+nWPS57t5HuSQ1K2obz/Tkh346db7tEGFT4TrAeEkD3A0cYTdJdW01agSXnXocR0/eh8aGOAmt71akUCySLxS54//+xnevu4XFHzh/t6beuhs42k+n6q58VLiOMF5yCPAksKvlKFW30zZj+OkZJzJ59/G0NDYQ05Vq3SqVSrTn8vzf31/hm7+4mX++E/l7JnZnPjDJT6dqarpeKRWuQ4yX3I7gINpIy1EGxL47b88lJx/Lp3bbEQPa+rEsk8vj+z5PvPQq3/vt7Tz78hu2Iw2UFcA+fjr1lu0gtqhwHWO85BTgr0DCcpQBs9WoEZz2uel848hpxIxh6KDIn6TRJ2vWt1PyfX456xGuvfthFn2w0nakgVQADvDTqbTlHFapcB1kvOTpwM9t5xhoDYk4R03em3OOP4ydthlNQyJBQ6K213nzhQL5QpF/vrOUy/94H3fNeY58oaZuarAhp/vp1LW2Q9imwnWU8ZK/okY3Ye7OLuO24qxjDuLYz+xDIh6jqaGBxobamOTn8gWy+TyFYonbH/sbV93xIP94a5HtWGH6lZ9OfcN2CBeocB1lvGQD8CAwxXKUUBljmLDjWI6aPJEvTp3EmJHDKPk+g5qbbEfrlfWZLDFjWLJiNX969CnumjOXea++TR2Ot9nAQX46FZk7ngwkFa7DjJccDDwE7Gc5ijXbbD6Sw/ffixOn78+EHceRyeZoSMRpdayA2zJZ8oUizU2NzHv1LW5++EnuffJ53lm2wnY0m54CDqzXMxK6o8J1nPGSmwCPEPE9F6qhpamRPT+2LRN3HMvkPcaz707bM2bTYbRlcjQkErQ2h3PWQ0e5tjY3smT5ap755xvM+fsrzH31bf7+xju6O0ZgLjDNT6c+tB3EJSrcCDBecgTBR7PdLUdxTktTI3tsvw0Tx4/lk7vuyHZjNmP0iE0YOXQwTY0NZHJ5CsUiBkNjQ4JEPE4sZv7jrhXFUolSyadQLJLLF/DxScTjNDc2kM3lWbFmHUtXfsibS97nifmvMveVoFzbs9qMvRsvAlP8dKqmT7voCxVuRBgvuRmQBj5uN0l0NDU2sMWITRg9YhhjNh3G6JHDGNTcRCIeXPXW2BCcEZHLFykUg8f6TJalK1azZPlqlq5czXsrPySb0/JjL7wMeH469b7tIC5S4UaI8ZKbAw9Tg1ejSU2YD0z306nI3nZioOkaywgpv5E9Inb3X6kLzxPMbFW2G6HCjRg/nVoBTCW4BFjEBc8CU8vvTdkIFW4E+enUamA68LjlKCKPEywjrLYdJApUuBHlp1NrgQOBP9rOInXrjwTn2a61HSQqdNCsBhgveS5wKfoGKuEoAd/z06mav615talwa4TxkocDNwNDLEeR2rYWOMFPp+6zHSSKVLg1xHjJnYF7gO0tR5Ha9AZwhJ9OLbAdJKr0EbSGlAfCJ4BHbWeRmvMI8AmVbf+ocGtM+XLKg6iD/XQlNNcAB+tS3f7TkkINM17yFOAXgG6bK32RI9g4/H9tB6kVKtwaZ7zkJ4EUMM5yFImWt4Ckn049YTtILdGSQo0rD5jdgWsBfXeVnvgE75XdVbbVpxluHTFecirwW2Cs3STiqLeBk/10arbtILVKM9w64qdTjwK7Ab9Cs135Fx/4JbCbynZgaYZbp4yXnEYw293WchSxayHBrFanEoZAM9w65adTjxDMdn9tO4tY4RN80tlVZRsezXAF4yWnA/+LZrv1YiHwX3469bDtIPVGM1yhPPA+DpwDrLIcRwbOKoLX+OMqWzs0w5V/Y7zkcIJBOQNosZtGqqQduBq43E+n9A3VIhWudMt4yS2BHwAnA3G7aaSPCsANwEV+OrXYdhhR4UoPjJccD/wQOMZyFOmdOwj2rH3FdhD5FxWuVMR4yX2AmQT3UxN3PQp810+n/mY7iPwnFa70ivGSBwLfBaZYjiL/bjYw00+n/mo7iGyYClf6xHjJ3QkOrJ0INNtNU7cyBHf5uNpPp160HUZ6psKVfjFeclPgVOAbwFZ209SNRQSX4l7np1PLbYeRyqlwpSqMl4wDhwCnAIeiMxuqrQDcD/wGeMBPp4qW80gfqHCl6oyXHAN8Ffj/0D68/fUWwZ4XN/jp1BLbYaR/VLgyYIyXNMAE4AjgcGAvq4Gi43mCm4He66dTc22HkepR4UpojJfcGjiMoICnAE1WA7kjS3CWQUfJLrKcRwaIClesMF5yMHAgQfkeCmxqNVD4lhOsyd4D/NVPp9ZZziMhUOGKdcZLxoBJwKeBieXHWIuRBsLbwDxgLvAY8JSfTpWsJpLQqXDFScZLjiRY/53Y6RGVA3BvERRrx2Oen06tsBtJXKDClcgwXnIEQQlPAPYgOO93dPkxOOQ464Cl5cci4EX+Va4rQ84iEaHClZpgvOQQ/lW+Yzr9f8fXw4EE0FD+b8cDgnNcOx758n9XAUv4V6ku7fy1n06tDeGvJTVGhSsiEhLd8UFEJCQqXBGRkKhwRURCosIVEQmJCldEJCQqXBGRkKhwRURCosIVEQmJCldEJCQqXBGRkKhwRURCosIVEQmJCldEJCQqXBGRkKhwRURCosIVEQmJCldEJCQqXBGRkKhwRURCosIVEQmJCldEJCQqXBGRkKhwRURCosIVEQmJCldEJCQqXBGRkKhwRURCosIVEQmJCldEJCQqXBGRkKhwRURCosIVEQmJCldEJCQqXBGRkKhwRURCosIVEQnJ/wPQSCmx0dF7jAAAAABJRU5ErkJggg==\n",
          "text/plain": "<Figure size 396x396 with 1 Axes>"
         },
         "metadata": {},
         "output_type": "display_data"
        }
       ]
      }
     },
     "7b2ba7b5050e439ab910e13ca07b14b5": {
      "model_module": "@jupyter-widgets/controls",
      "model_module_version": "1.5.0",
      "model_name": "DescriptionStyleModel",
      "state": {
       "description_width": ""
      }
     },
     "7b7f01d04dc04bbd9e2d82b7cce07607": {
      "model_module": "@jupyter-widgets/controls",
      "model_module_version": "1.5.0",
      "model_name": "ButtonModel",
      "state": {
       "icon": "close",
       "layout": "IPY_MODEL_5897c27903cf4649ad7e01a1c9ad9c81",
       "style": "IPY_MODEL_e3319cd083dc4dba9510192c2e980285"
      }
     },
     "7bc1567c37c346fda472146c46443daa": {
      "model_module": "@jupyter-widgets/base",
      "model_module_version": "1.2.0",
      "model_name": "LayoutModel",
      "state": {
       "grid_area": "left"
      }
     },
     "7bddebe87147471a99e01cb6708501e9": {
      "model_module": "@jupyter-widgets/controls",
      "model_module_version": "1.5.0",
      "model_name": "DescriptionStyleModel",
      "state": {
       "description_width": ""
      }
     },
     "7d3ce0f2fd594765b1dda48c7e06f719": {
      "model_module": "@jupyter-widgets/controls",
      "model_module_version": "1.5.0",
      "model_name": "GridBoxModel",
      "state": {
       "children": [
        "IPY_MODEL_3bd62b07f2844b1dba8e051fff3e694b",
        "IPY_MODEL_4525b12d9aab46ab8358f1a0a7ca1b12",
        "IPY_MODEL_060309362b934a2b928fa1e52df64982"
       ],
       "layout": "IPY_MODEL_11a804a4875e48d388cda899eecc4a81"
      }
     },
     "7d55974babb642c580c7f5cc98091125": {
      "model_module": "@jupyter-widgets/controls",
      "model_module_version": "1.5.0",
      "model_name": "HTMLModel",
      "state": {
       "layout": "IPY_MODEL_98b62b9f72224adcaf8483c36d4d1244",
       "style": "IPY_MODEL_ef5ac27750ec483392c418099be3311d",
       "value": "<table><style>\ntable {\n    border-collapse: collapse;\n    width: auto;\n}\n\nth, td {\n    text-align: left;\n    padding: 8px;\n}\n\ntr:nth-child(even) {background-color: #f6f6f6;};\n</style><tr><th></th><th>Type</th><th>Gate error</th></tr><tr><td><font style='font-weight:bold'>cx1_0</font></td><td>cx</td><td>0.03058</td></tr><tr><td><font style='font-weight:bold'>cx0_1</font></td><td>cx</td><td>0.03058</td></tr></table>"
      }
     },
     "7e73ee5b5f564cd8bc9c67c3876b8cc5": {
      "model_module": "@jupyter-widgets/base",
      "model_module_version": "1.2.0",
      "model_name": "LayoutModel",
      "state": {
       "max_width": "700px",
       "min_width": "700px"
      }
     },
     "7f40193588ab4ab59e54ddca550ae839": {
      "model_module": "@jupyter-widgets/base",
      "model_module_version": "1.2.0",
      "model_name": "LayoutModel",
      "state": {
       "width": "190px"
      }
     },
     "7ffac6e545064ee3aa9990a57fd23786": {
      "model_module": "@jupyter-widgets/controls",
      "model_module_version": "1.5.0",
      "model_name": "DescriptionStyleModel",
      "state": {
       "description_width": ""
      }
     },
     "807a1b2907d84ee7ae3de7732cb6a8dc": {
      "model_module": "@jupyter-widgets/controls",
      "model_module_version": "1.5.0",
      "model_name": "DescriptionStyleModel",
      "state": {
       "description_width": ""
      }
     },
     "8122e47d1d3648b6926ab8ec9431debe": {
      "model_module": "@jupyter-widgets/base",
      "model_module_version": "1.2.0",
      "model_name": "LayoutModel",
      "state": {
       "overflow_x": "scroll"
      }
     },
     "8223f02a3e744233910bb7fc7d1742b3": {
      "model_module": "@jupyter-widgets/controls",
      "model_module_version": "1.5.0",
      "model_name": "HTMLModel",
      "state": {
       "layout": "IPY_MODEL_e636c78c5def40b293003b55778c63bb",
       "style": "IPY_MODEL_7b2ba7b5050e439ab910e13ca07b14b5",
       "value": "ibmq_bogota"
      }
     },
     "82874c2c21b8468f9b3ccbb17d2e2710": {
      "model_module": "@jupyter-widgets/base",
      "model_module_version": "1.2.0",
      "model_name": "LayoutModel",
      "state": {
       "max_height": "620px"
      }
     },
     "835965636a0f439da5e1d4c77f574e8e": {
      "model_module": "@jupyter-widgets/controls",
      "model_module_version": "1.5.0",
      "model_name": "DescriptionStyleModel",
      "state": {
       "description_width": ""
      }
     },
     "849fe8ae0e2c488bb845f8fff4e67f61": {
      "model_module": "@jupyter-widgets/controls",
      "model_module_version": "1.5.0",
      "model_name": "HTMLModel",
      "state": {
       "layout": "IPY_MODEL_cfceccd74f624c058a7b52e1466d8ee0",
       "style": "IPY_MODEL_458579783ef54476baa4f2da8747e304",
       "value": "job has successfully run"
      }
     },
     "84eed61491fd46d3a718848c26758c2e": {
      "model_module": "@jupyter-widgets/base",
      "model_module_version": "1.2.0",
      "model_name": "LayoutModel",
      "state": {
       "margin": "0px 5px 0px 0px",
       "width": "32px"
      }
     },
     "852118066023477da2eba3245a9bbe76": {
      "model_module": "@jupyter-widgets/controls",
      "model_module_version": "1.5.0",
      "model_name": "HTMLModel",
      "state": {
       "layout": "IPY_MODEL_bda97b45912f4004aa3838db06f65185",
       "style": "IPY_MODEL_6476bff5bc204a848a253291aa946a9d",
       "value": "<h1 style='color:#ffffff;background-color:#000000;padding-top: 1%;padding-bottom: 1%;padding-left: 1%; margin-top: 0px'>ibmq_bogota</h1>"
      }
     },
     "8576675acbca43e9b8c9e337f828e00d": {
      "model_module": "@jupyter-widgets/controls",
      "model_module_version": "1.5.0",
      "model_name": "HTMLModel",
      "state": {
       "layout": "IPY_MODEL_9d51bff1cc1c47b7b2d78fa33734816c",
       "style": "IPY_MODEL_bb886c207dbd4a76a191a392075dfde6",
       "value": "<h5>Status</h5>"
      }
     },
     "8578e33199814cc1abd2630a9b5c4768": {
      "model_module": "@jupyter-widgets/controls",
      "model_module_version": "1.5.0",
      "model_name": "HTMLModel",
      "state": {
       "layout": "IPY_MODEL_dcccaf12fc8c44feba21d7b98da0d641",
       "style": "IPY_MODEL_98369e2454444700b5dfbb81f12268d6",
       "value": "ibmq_belem"
      }
     },
     "858354be3d5044f08030fefcfc8059e0": {
      "model_module": "@jupyter-widgets/base",
      "model_module_version": "1.2.0",
      "model_name": "LayoutModel",
      "state": {
       "width": "95px"
      }
     },
     "85dd5f2023064d58b5e959d80dfc6928": {
      "model_module": "@jupyter-widgets/base",
      "model_module_version": "1.2.0",
      "model_name": "LayoutModel",
      "state": {
       "width": "145px"
      }
     },
     "873d780ac2c34dfea4bea3b796df97bf": {
      "model_module": "@jupyter-widgets/base",
      "model_module_version": "1.2.0",
      "model_name": "LayoutModel",
      "state": {
       "width": "145px"
      }
     },
     "8959117e473a48f6ad70d056a97c495a": {
      "model_module": "@jupyter-widgets/base",
      "model_module_version": "1.2.0",
      "model_name": "LayoutModel",
      "state": {
       "align_items": "center",
       "display": "flex-inline"
      }
     },
     "8b5698bc2add43fda98432b1c45adf39": {
      "model_module": "@jupyter-widgets/controls",
      "model_module_version": "1.5.0",
      "model_name": "HTMLModel",
      "state": {
       "layout": "IPY_MODEL_da33e730e583473a9d04410c4e2359d8",
       "style": "IPY_MODEL_60fc07bdc54a40b89b6f58e4d021b43e",
       "value": "<div><font style='font-weight:bold'>last_update_date</font>: 2021-11-26 06:20:36+00:00</div>"
      }
     },
     "8b5d3464cf2e4bbbbde94abc6a77395a": {
      "model_module": "@jupyter-widgets/base",
      "model_module_version": "1.2.0",
      "model_name": "LayoutModel",
      "state": {
       "grid_gap": "0px 0px",
       "grid_template_areas": "\n                                                   \"top top top\"\n                                                   \"left middle right\"\n                                                   ",
       "grid_template_columns": "33% 33% 33%",
       "grid_template_rows": "auto auto"
      }
     },
     "8d11cba0c2f54ad49f888aa959f281fb": {
      "model_module": "@jupyter-widgets/controls",
      "model_module_version": "1.5.0",
      "model_name": "ButtonModel",
      "state": {
       "icon": "close",
       "layout": "IPY_MODEL_59bc96ac95144a4c80349df779cb9289",
       "style": "IPY_MODEL_07380aa969e8498c85cad8772a137e88"
      }
     },
     "8d507004361a4a0aabf54fe7ff6af7ee": {
      "model_module": "@jupyter-widgets/controls",
      "model_module_version": "1.5.0",
      "model_name": "HTMLModel",
      "state": {
       "layout": "IPY_MODEL_7f40193588ab4ab59e54ddca550ae839",
       "style": "IPY_MODEL_3872ecd55b1b4e83aab8d24624c49e18",
       "value": "61a0ed4ca6ac30b89f902f6e"
      }
     },
     "8d5d3d978acd4b43a83b2834a3828265": {
      "model_module": "@jupyter-widgets/controls",
      "model_module_version": "1.5.0",
      "model_name": "DescriptionStyleModel",
      "state": {
       "description_width": ""
      }
     },
     "8da1d9314fc74c4595c94af193e050c0": {
      "model_module": "@jupyter-widgets/controls",
      "model_module_version": "1.5.0",
      "model_name": "HTMLModel",
      "state": {
       "layout": "IPY_MODEL_873d780ac2c34dfea4bea3b796df97bf",
       "style": "IPY_MODEL_5125bb640df14b38a14f657d72c5fd41",
       "value": "ibmq_belem"
      }
     },
     "8db284dbf3cd47b0aba09af4b8468dfa": {
      "model_module": "@jupyter-widgets/controls",
      "model_module_version": "1.5.0",
      "model_name": "HTMLModel",
      "state": {
       "layout": "IPY_MODEL_1d68e1c959d344e18cb4e8c6ff36ae81",
       "style": "IPY_MODEL_e3013c6b75b74a01a72552da53db1bea",
       "value": "ibmq_belem"
      }
     },
     "8df29029bbee463e966944b590b8c8d3": {
      "model_module": "@jupyter-widgets/base",
      "model_module_version": "1.2.0",
      "model_name": "LayoutModel",
      "state": {
       "width": "190px"
      }
     },
     "8e59b11ea7324f8c8af8e094d7b2b4ed": {
      "model_module": "@jupyter-widgets/base",
      "model_module_version": "1.2.0",
      "model_name": "LayoutModel",
      "state": {
       "grid_area": "left",
       "width": "100%"
      }
     },
     "8e856392dce2454496a0e963a5d1de05": {
      "model_module": "@jupyter-widgets/controls",
      "model_module_version": "1.5.0",
      "model_name": "ButtonStyleModel",
      "state": {
       "button_color": "white"
      }
     },
     "8ebea92814a649c1b931ce5c47b9c38d": {
      "model_module": "@jupyter-widgets/base",
      "model_module_version": "1.2.0",
      "model_name": "LayoutModel",
      "state": {
       "grid_area": "middle"
      }
     },
     "8f7801564d184ac3abfe08e65334e0e7": {
      "model_module": "@jupyter-widgets/controls",
      "model_module_version": "1.5.0",
      "model_name": "HTMLModel",
      "state": {
       "layout": "IPY_MODEL_2a015340953a4c3a8c63bcc9b419ac6a",
       "style": "IPY_MODEL_9246ad31a9584c1cb61b3fe0ca2d0fc7",
       "value": "job has successfully run"
      }
     },
     "8ff738eafcb740b7815d3c3dc253e162": {
      "model_module": "@jupyter-widgets/output",
      "model_module_version": "1.0.0",
      "model_name": "OutputModel",
      "state": {
       "layout": "IPY_MODEL_685a1969d0d642e2a0921dc773a994f5",
       "outputs": [
        {
         "data": {
          "image/png": "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\n",
          "text/plain": "<Figure size 792x648 with 5 Axes>"
         },
         "metadata": {},
         "output_type": "display_data"
        }
       ]
      }
     },
     "9018c89b88d5460cbdd7bc614e0b1899": {
      "model_module": "@jupyter-widgets/controls",
      "model_module_version": "1.5.0",
      "model_name": "DescriptionStyleModel",
      "state": {
       "description_width": ""
      }
     },
     "90931c5c843f4b58a32c4b356a4bfaf8": {
      "model_module": "@jupyter-widgets/controls",
      "model_module_version": "1.5.0",
      "model_name": "ButtonModel",
      "state": {
       "button_style": "primary",
       "description": "Clear",
       "layout": "IPY_MODEL_9684b31e8682429697feb2e8e2da5a27",
       "style": "IPY_MODEL_6c4285d0f7fb47b7ae70584e86f9e60f"
      }
     },
     "90e380dea9ed4c79a481c09eb9c808dc": {
      "model_module": "@jupyter-widgets/output",
      "model_module_version": "1.0.0",
      "model_name": "OutputModel",
      "state": {
       "layout": "IPY_MODEL_f6676d5f9b33449a8169fdbeea5aadba",
       "outputs": [
        {
         "data": {
          "image/png": "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\n",
          "text/plain": "<Figure size 360x360 with 1 Axes>"
         },
         "metadata": {},
         "output_type": "display_data"
        }
       ]
      }
     },
     "9246ad31a9584c1cb61b3fe0ca2d0fc7": {
      "model_module": "@jupyter-widgets/controls",
      "model_module_version": "1.5.0",
      "model_name": "DescriptionStyleModel",
      "state": {
       "description_width": ""
      }
     },
     "928abeef4d5d4c54986830c19f494380": {
      "model_module": "@jupyter-widgets/base",
      "model_module_version": "1.2.0",
      "model_name": "LayoutModel",
      "state": {}
     },
     "93724508f7694de1835ffc78971f74b3": {
      "model_module": "@jupyter-widgets/controls",
      "model_module_version": "1.5.0",
      "model_name": "DescriptionStyleModel",
      "state": {
       "description_width": ""
      }
     },
     "93c2928dd3854d97a4dfe2d19d18bd2d": {
      "model_module": "@jupyter-widgets/controls",
      "model_module_version": "1.5.0",
      "model_name": "HTMLModel",
      "state": {
       "layout": "IPY_MODEL_cdb68d07e9634045bd48b15fb001af91",
       "style": "IPY_MODEL_a7edb79635c34d9ba63eb7c3c1d13888",
       "value": "-"
      }
     },
     "942bd640b87248839072062e02dc9642": {
      "model_module": "@jupyter-widgets/controls",
      "model_module_version": "1.5.0",
      "model_name": "HTMLModel",
      "state": {
       "layout": "IPY_MODEL_44f748bfa7d7425ebe4e243745b55626",
       "style": "IPY_MODEL_69182350e215408f821eb39ff18f7091",
       "value": "<h5>Queue</h5>"
      }
     },
     "9468998f2e784ae5afe3581d5f386b24": {
      "model_module": "@jupyter-widgets/controls",
      "model_module_version": "1.5.0",
      "model_name": "DescriptionStyleModel",
      "state": {
       "description_width": ""
      }
     },
     "94a3c837818845b7bc01e532fb54c962": {
      "model_module": "@jupyter-widgets/base",
      "model_module_version": "1.2.0",
      "model_name": "LayoutModel",
      "state": {
       "width": "190px"
      }
     },
     "9684b31e8682429697feb2e8e2da5a27": {
      "model_module": "@jupyter-widgets/base",
      "model_module_version": "1.2.0",
      "model_name": "LayoutModel",
      "state": {
       "grid_area": "right",
       "padding": "0px 0px 0px 0px",
       "width": "70px"
      }
     },
     "97520061ef60422aacc4ee3f65e6b1ab": {
      "model_module": "@jupyter-widgets/base",
      "model_module_version": "1.2.0",
      "model_name": "LayoutModel",
      "state": {
       "grid_area": "top"
      }
     },
     "97d4fabbb4db4731b1dd11a23b2622a0": {
      "model_module": "@jupyter-widgets/controls",
      "model_module_version": "1.5.0",
      "model_name": "HBoxModel",
      "state": {
       "children": [
        "IPY_MODEL_57b82e7956314a57bc40ba9315c99fc9",
        "IPY_MODEL_e2ded407dcb44426b81ec469fd3ff80d",
        "IPY_MODEL_8da1d9314fc74c4595c94af193e050c0",
        "IPY_MODEL_278938e6bea24d679c5e826a4ecce825",
        "IPY_MODEL_5aad55173a504560976ea877e943a7d6",
        "IPY_MODEL_10c1f51e0b994e9ab99a1cf199903de4"
       ],
       "layout": "IPY_MODEL_303b4b4bd9db45df8df9163727ec6391"
      }
     },
     "98369e2454444700b5dfbb81f12268d6": {
      "model_module": "@jupyter-widgets/controls",
      "model_module_version": "1.5.0",
      "model_name": "DescriptionStyleModel",
      "state": {
       "description_width": ""
      }
     },
     "98b62b9f72224adcaf8483c36d4d1244": {
      "model_module": "@jupyter-widgets/base",
      "model_module_version": "1.2.0",
      "model_name": "LayoutModel",
      "state": {
       "grid_area": "right"
      }
     },
     "997364eb03824eefb61eb96d2bd64658": {
      "model_module": "@jupyter-widgets/controls",
      "model_module_version": "1.5.0",
      "model_name": "HTMLModel",
      "state": {
       "layout": "IPY_MODEL_df3f8ce29a4e4bc88d59671edc97a307",
       "style": "IPY_MODEL_5ee527c4dbe141ca806851fe2f66fa00",
       "value": "-"
      }
     },
     "9baabfb2a0554d659f276c20ddcebf37": {
      "model_module": "@jupyter-widgets/controls",
      "model_module_version": "1.5.0",
      "model_name": "DescriptionStyleModel",
      "state": {
       "description_width": ""
      }
     },
     "9c8d2f40b4714d41978b1b78ccd69a6d": {
      "model_module": "@jupyter-widgets/controls",
      "model_module_version": "1.5.0",
      "model_name": "HTMLModel",
      "state": {
       "layout": "IPY_MODEL_eadb5f8be4b942ae86e2885eb4654b69",
       "style": "IPY_MODEL_623ff6f97b2a4f6cae6aa923bb8f5d43",
       "value": "-"
      }
     },
     "9d51bff1cc1c47b7b2d78fa33734816c": {
      "model_module": "@jupyter-widgets/base",
      "model_module_version": "1.2.0",
      "model_name": "LayoutModel",
      "state": {
       "width": "95px"
      }
     },
     "9db0b7836f0544eca5c08bd1025170b5": {
      "model_module": "@jupyter-widgets/controls",
      "model_module_version": "1.5.0",
      "model_name": "HTMLModel",
      "state": {
       "layout": "IPY_MODEL_ad1a0c349744491499efaa228f10dd01",
       "style": "IPY_MODEL_f4dcc4e4ec3646c19c4d345071c219bd",
       "value": "<font style='color:#34BC6E'>DONE</font>"
      }
     },
     "9db7feb680c143079452b842f3eef977": {
      "model_module": "@jupyter-widgets/base",
      "model_module_version": "1.2.0",
      "model_name": "LayoutModel",
      "state": {
       "width": "190px"
      }
     },
     "9ddff6118a6a43448688e2726bbfa6bb": {
      "model_module": "@jupyter-widgets/controls",
      "model_module_version": "1.5.0",
      "model_name": "DescriptionStyleModel",
      "state": {
       "description_width": ""
      }
     },
     "9ecd512978834e24abcabcacec71c32d": {
      "model_module": "@jupyter-widgets/base",
      "model_module_version": "1.2.0",
      "model_name": "LayoutModel",
      "state": {}
     },
     "9f1c2564738440d19aa8dfec78280a11": {
      "model_module": "@jupyter-widgets/base",
      "model_module_version": "1.2.0",
      "model_name": "LayoutModel",
      "state": {}
     },
     "a10f6066f61c4c58873021517ea31ceb": {
      "model_module": "@jupyter-widgets/controls",
      "model_module_version": "1.5.0",
      "model_name": "HTMLModel",
      "state": {
       "layout": "IPY_MODEL_108676d5b6d44b5e8bdde3109392cd6c",
       "style": "IPY_MODEL_d36dd07845b147be87e80789634e26fd",
       "value": "-"
      }
     },
     "a2c15e1b3fee4c818ec5acd2029957f7": {
      "model_module": "@jupyter-widgets/controls",
      "model_module_version": "1.5.0",
      "model_name": "VBoxModel",
      "state": {
       "children": [
        "IPY_MODEL_f27429c6161741f19fd00e98f319e33a",
        "IPY_MODEL_a989168916a442a9b6c5ef4d4338b87b"
       ],
       "layout": "IPY_MODEL_dd5c6bfb7332456f93c710e9bfab6db1"
      }
     },
     "a2c6cbaaa4674245853995301ddf4157": {
      "model_module": "@jupyter-widgets/base",
      "model_module_version": "1.2.0",
      "model_name": "LayoutModel",
      "state": {
       "width": "70px"
      }
     },
     "a2da2bef90734628b52ef2e1d0bfae7e": {
      "model_module": "@jupyter-widgets/controls",
      "model_module_version": "1.5.0",
      "model_name": "DescriptionStyleModel",
      "state": {
       "description_width": ""
      }
     },
     "a37f86c9f7dc47f3b9f91a3315165ea8": {
      "model_module": "@jupyter-widgets/controls",
      "model_module_version": "1.5.0",
      "model_name": "HTMLModel",
      "state": {
       "layout": "IPY_MODEL_928abeef4d5d4c54986830c19f494380",
       "style": "IPY_MODEL_e6c14845a79b41498ab1c083bfcb7aef",
       "value": "<h5>Message</h5>"
      }
     },
     "a3cb871c657845aea50af3f1156b211f": {
      "model_module": "@jupyter-widgets/controls",
      "model_module_version": "1.5.0",
      "model_name": "DescriptionStyleModel",
      "state": {
       "description_width": ""
      }
     },
     "a7a23ea2f83f446a8d1ecf3e3fbc9861": {
      "model_module": "@jupyter-widgets/controls",
      "model_module_version": "1.5.0",
      "model_name": "HTMLModel",
      "state": {
       "layout": "IPY_MODEL_2845733e87f347a89ad593fbdae9584b",
       "style": "IPY_MODEL_f9606752cec04216801f780f82c7d06c",
       "value": "<font style='color:#34BC6E'>DONE</font>"
      }
     },
     "a7edb79635c34d9ba63eb7c3c1d13888": {
      "model_module": "@jupyter-widgets/controls",
      "model_module_version": "1.5.0",
      "model_name": "DescriptionStyleModel",
      "state": {
       "description_width": ""
      }
     },
     "a7f3890e72d94892af3966b816945cc2": {
      "model_module": "@jupyter-widgets/base",
      "model_module_version": "1.2.0",
      "model_name": "LayoutModel",
      "state": {
       "overflow_x": "scroll"
      }
     },
     "a984448c6127417a93b01127a27ea132": {
      "model_module": "@jupyter-widgets/controls",
      "model_module_version": "1.5.0",
      "model_name": "DescriptionStyleModel",
      "state": {
       "description_width": ""
      }
     },
     "a989168916a442a9b6c5ef4d4338b87b": {
      "model_module": "@jupyter-widgets/controls",
      "model_module_version": "1.5.0",
      "model_name": "TabModel",
      "state": {
       "_titles": {
        "0": "Configuration",
        "1": "Qubit Properties",
        "2": "Multi-Qubit Gates",
        "3": "Error Map",
        "4": "Job History"
       },
       "children": [
        "IPY_MODEL_5468f40a1a834a7eb71c4efc01982728",
        "IPY_MODEL_4e47e0ae6c6d4bfd94428404065bf938",
        "IPY_MODEL_b5babcf3e0c64bdface3109ffcbd8cab",
        "IPY_MODEL_8ff738eafcb740b7815d3c3dc253e162",
        "IPY_MODEL_6a28e5b7d207413b885c096e2db4c956"
       ],
       "layout": "IPY_MODEL_b9e28b9d145440a6baa5924fbedafa3a"
      }
     },
     "abdca01c0b25494ea61b21348575a66b": {
      "model_module": "@jupyter-widgets/controls",
      "model_module_version": "1.5.0",
      "model_name": "DescriptionStyleModel",
      "state": {
       "description_width": ""
      }
     },
     "ac15d66b047048cbba3d51c91ba2254d": {
      "model_module": "@jupyter-widgets/controls",
      "model_module_version": "1.5.0",
      "model_name": "ButtonStyleModel",
      "state": {
       "button_color": "white"
      }
     },
     "ac6fb87c700d4416a84f8b3ef11f0165": {
      "model_module": "@jupyter-widgets/base",
      "model_module_version": "1.2.0",
      "model_name": "LayoutModel",
      "state": {
       "grid_area": "right"
      }
     },
     "ad1a0c349744491499efaa228f10dd01": {
      "model_module": "@jupyter-widgets/base",
      "model_module_version": "1.2.0",
      "model_name": "LayoutModel",
      "state": {
       "width": "95px"
      }
     },
     "ad934a49b9dc4f499b763f30326becd1": {
      "model_module": "@jupyter-widgets/controls",
      "model_module_version": "1.5.0",
      "model_name": "ButtonStyleModel",
      "state": {
       "button_color": "white"
      }
     },
     "adc9683e39674b14b05a6ff90af1884e": {
      "model_module": "@jupyter-widgets/controls",
      "model_module_version": "1.5.0",
      "model_name": "HTMLModel",
      "state": {
       "layout": "IPY_MODEL_1dac671f28ee4f7c944a763e043128b0",
       "style": "IPY_MODEL_d1ea161e5d8b452580b0528914649d7c",
       "value": "job has successfully run"
      }
     },
     "af2b7ac58b974939bf3d82439925774e": {
      "model_module": "@jupyter-widgets/base",
      "model_module_version": "1.2.0",
      "model_name": "LayoutModel",
      "state": {
       "overflow_y": "scroll"
      }
     },
     "af2c0fd72330452b86ad43e72cddaf57": {
      "model_module": "@jupyter-widgets/base",
      "model_module_version": "1.2.0",
      "model_name": "LayoutModel",
      "state": {
       "align_items": "center",
       "display": "flex-inline",
       "grid_area": "right",
       "max_height": "325px",
       "padding": "10px 10px 10px 10px",
       "width": "auto"
      }
     },
     "af8949fd6718469c98b4c82d15a01bda": {
      "model_module": "@jupyter-widgets/controls",
      "model_module_version": "1.5.0",
      "model_name": "HTMLModel",
      "state": {
       "layout": "IPY_MODEL_633845a042954abf8eaac8a7eaefd2fa",
       "style": "IPY_MODEL_e1bc8b7910c64423a9c33f061b72fee6",
       "value": "<font style='color:#34BC6E'>DONE</font>"
      }
     },
     "b0e2adca32a64040935b9d85a627a7dc": {
      "model_module": "@jupyter-widgets/base",
      "model_module_version": "1.2.0",
      "model_name": "LayoutModel",
      "state": {
       "overflow_x": "scroll"
      }
     },
     "b343ae20f09c4a199ec8b1edbd495acd": {
      "model_module": "@jupyter-widgets/controls",
      "model_module_version": "1.5.0",
      "model_name": "TabModel",
      "state": {
       "layout": "IPY_MODEL_5a261012b7af4fa3b2fb99a4cbd8e238"
      }
     },
     "b40b69e1d985414d8a230e55594f5fb1": {
      "model_module": "@jupyter-widgets/base",
      "model_module_version": "1.2.0",
      "model_name": "LayoutModel",
      "state": {
       "grid_template_areas": "\n                                       \". . . . right \"\n                                        ",
       "grid_template_columns": "20% 20% 20% 20% 20%",
       "width": "100%"
      }
     },
     "b5babcf3e0c64bdface3109ffcbd8cab": {
      "model_module": "@jupyter-widgets/controls",
      "model_module_version": "1.5.0",
      "model_name": "GridBoxModel",
      "state": {
       "children": [
        "IPY_MODEL_8b5698bc2add43fda98432b1c45adf39",
        "IPY_MODEL_d1ee684a33574ae7a924b03a5cb39e16",
        "IPY_MODEL_d38f8f680bbe45518b25d6b89b59a7f1",
        "IPY_MODEL_dfde10af285944a58a3221f2b5feea97"
       ],
       "layout": "IPY_MODEL_8b5d3464cf2e4bbbbde94abc6a77395a"
      }
     },
     "b6048b450cf44498a5563ff3a5dbfdce": {
      "model_module": "@jupyter-widgets/controls",
      "model_module_version": "1.5.0",
      "model_name": "HTMLModel",
      "state": {
       "layout": "IPY_MODEL_5b3d39693300415abf4f83f61831f36b",
       "style": "IPY_MODEL_ead815ef3edc446e9c1ff57d3c2feb6c",
       "value": "<div><font style='font-weight:bold'>last_update_date</font>: 2021-11-26 13:52:14+00:00</div>"
      }
     },
     "b6e56abb9b094acd9900ec56715ce42b": {
      "model_module": "@jupyter-widgets/base",
      "model_module_version": "1.2.0",
      "model_name": "LayoutModel",
      "state": {
       "width": "190px"
      }
     },
     "b723837ee2814c8ca4eec50e00be6f41": {
      "model_module": "@jupyter-widgets/controls",
      "model_module_version": "1.5.0",
      "model_name": "HTMLModel",
      "state": {
       "layout": "IPY_MODEL_c563554e6f374fac829d49dfe7803c56",
       "style": "IPY_MODEL_da8c0ea8cb0448ce9e85629e8fad23da",
       "value": "<font style='color:#34BC6E'>DONE</font>"
      }
     },
     "b88a6e92876e4e1faa252124a44a1557": {
      "model_module": "@jupyter-widgets/controls",
      "model_module_version": "1.5.0",
      "model_name": "GridBoxModel",
      "state": {
       "children": [
        "IPY_MODEL_4006ed76b9dd479bbcfb21a3f2088b37",
        "IPY_MODEL_6bf5ba08e83c4773a753f5e7b807b4dc",
        "IPY_MODEL_26d6b7680c164d44a0c581249422cea5",
        "IPY_MODEL_7d55974babb642c580c7f5cc98091125"
       ],
       "layout": "IPY_MODEL_def3db7e48c84859a361dc4e64234f72"
      }
     },
     "b9e28b9d145440a6baa5924fbedafa3a": {
      "model_module": "@jupyter-widgets/base",
      "model_module_version": "1.2.0",
      "model_name": "LayoutModel",
      "state": {
       "overflow_y": "scroll"
      }
     },
     "bb886c207dbd4a76a191a392075dfde6": {
      "model_module": "@jupyter-widgets/controls",
      "model_module_version": "1.5.0",
      "model_name": "DescriptionStyleModel",
      "state": {
       "description_width": ""
      }
     },
     "bda97b45912f4004aa3838db06f65185": {
      "model_module": "@jupyter-widgets/base",
      "model_module_version": "1.2.0",
      "model_name": "LayoutModel",
      "state": {
       "margin": "0px 0px 0px 0px"
      }
     },
     "be6b47cf951b4567aee1bced8c04706c": {
      "model_module": "@jupyter-widgets/controls",
      "model_module_version": "1.5.0",
      "model_name": "GridBoxModel",
      "state": {
       "children": [
        "IPY_MODEL_b6048b450cf44498a5563ff3a5dbfdce",
        "IPY_MODEL_2738e3e80cf14788926479f1079b976a",
        "IPY_MODEL_2fa35192f1b74045b6c2c1cb9a79bee9",
        "IPY_MODEL_c385e21080ef484885b15bf15b50c644"
       ],
       "layout": "IPY_MODEL_048a8d5204b345ad9e8ad5d6aed68dcb"
      }
     },
     "becdfafe193549d380c024cea8b92258": {
      "model_module": "@jupyter-widgets/controls",
      "model_module_version": "1.5.0",
      "model_name": "DescriptionStyleModel",
      "state": {
       "description_width": ""
      }
     },
     "c0303821532f4b3681124708f9952e75": {
      "model_module": "@jupyter-widgets/base",
      "model_module_version": "1.2.0",
      "model_name": "LayoutModel",
      "state": {
       "max_width": "700px",
       "min_width": "700px"
      }
     },
     "c2e0ba63a1c144cebd1a6e2c87d26ddf": {
      "model_module": "@jupyter-widgets/controls",
      "model_module_version": "1.5.0",
      "model_name": "HTMLModel",
      "state": {
       "layout": "IPY_MODEL_9db7feb680c143079452b842f3eef977",
       "style": "IPY_MODEL_6f30765326ae489da40057f4d2db08d2",
       "value": "61a1039b60e4c09d7f6052a3"
      }
     },
     "c35d2ffb41b240448858bbe467b7e0f8": {
      "model_module": "@jupyter-widgets/base",
      "model_module_version": "1.2.0",
      "model_name": "LayoutModel",
      "state": {
       "margin": "0px 5px 0px 0px",
       "width": "32px"
      }
     },
     "c385e21080ef484885b15bf15b50c644": {
      "model_module": "@jupyter-widgets/controls",
      "model_module_version": "1.5.0",
      "model_name": "HTMLModel",
      "state": {
       "layout": "IPY_MODEL_ac6fb87c700d4416a84f8b3ef11f0165",
       "style": "IPY_MODEL_2f516ae8a1ed4f2aa904e1a04b1c4356",
       "value": "<table><style>\ntable {\n    border-collapse: collapse;\n    width: auto;\n}\n\nth, td {\n    text-align: left;\n    padding: 8px;\n}\n\ntr:nth-child(even) {background-color: #f6f6f6;};\n</style><tr><th></th><th>Type</th><th>Gate error</th></tr><tr><td><font style='font-weight:bold'>cx1_0</font></td><td>cx</td><td>0.00749</td></tr><tr><td><font style='font-weight:bold'>cx0_1</font></td><td>cx</td><td>0.00749</td></tr></table>"
      }
     },
     "c5447a56cdaa4cd980b8c3fdcf2a5d3c": {
      "model_module": "@jupyter-widgets/controls",
      "model_module_version": "1.5.0",
      "model_name": "DescriptionStyleModel",
      "state": {
       "description_width": ""
      }
     },
     "c563554e6f374fac829d49dfe7803c56": {
      "model_module": "@jupyter-widgets/base",
      "model_module_version": "1.2.0",
      "model_name": "LayoutModel",
      "state": {
       "width": "95px"
      }
     },
     "c6ef58e5f65148fb9cee6456b7054e03": {
      "model_module": "@jupyter-widgets/controls",
      "model_module_version": "1.5.0",
      "model_name": "DescriptionStyleModel",
      "state": {
       "description_width": ""
      }
     },
     "c936b75752a94735a7b8da9d4bc4c725": {
      "model_module": "@jupyter-widgets/controls",
      "model_module_version": "1.5.0",
      "model_name": "ButtonStyleModel",
      "state": {
       "button_color": "white"
      }
     },
     "c937dcb86d3e40699467fd449b64e765": {
      "model_module": "@jupyter-widgets/controls",
      "model_module_version": "1.5.0",
      "model_name": "DescriptionStyleModel",
      "state": {
       "description_width": ""
      }
     },
     "c93ce48c337c4bcf88b139617cc37e8d": {
      "model_module": "@jupyter-widgets/base",
      "model_module_version": "1.2.0",
      "model_name": "LayoutModel",
      "state": {
       "grid_area": "left"
      }
     },
     "cb27f343fa4d40da908e5ec7b9221cdb": {
      "model_module": "@jupyter-widgets/controls",
      "model_module_version": "1.5.0",
      "model_name": "HTMLModel",
      "state": {
       "layout": "IPY_MODEL_44a79a36fe1046b8aa9ee49cf60b5bfb",
       "style": "IPY_MODEL_6f05bf0d5b494bee81fe09c7cc624572",
       "value": "<div><font style='font-weight:bold'>last_update_date</font>: Fri 26 November 2021 at 06:20 UTC</div>"
      }
     },
     "ccbad61db2574a06b95ff1dbb164354b": {
      "model_module": "@jupyter-widgets/controls",
      "model_module_version": "1.5.0",
      "model_name": "HTMLModel",
      "state": {
       "layout": "IPY_MODEL_9ecd512978834e24abcabcacec71c32d",
       "style": "IPY_MODEL_7bddebe87147471a99e01cb6708501e9",
       "value": "<div><font style='font-weight:bold'>last_update_date</font>: Fri 26 November 2021 at 13:52 UTC</div>"
      }
     },
     "ccea146e54b248aa9616a256ae5f838b": {
      "model_module": "@jupyter-widgets/controls",
      "model_module_version": "1.5.0",
      "model_name": "DescriptionStyleModel",
      "state": {
       "description_width": ""
      }
     },
     "cdb68d07e9634045bd48b15fb001af91": {
      "model_module": "@jupyter-widgets/base",
      "model_module_version": "1.2.0",
      "model_name": "LayoutModel",
      "state": {
       "width": "70px"
      }
     },
     "cfceccd74f624c058a7b52e1466d8ee0": {
      "model_module": "@jupyter-widgets/base",
      "model_module_version": "1.2.0",
      "model_name": "LayoutModel",
      "state": {
       "overflow_x": "scroll"
      }
     },
     "cff3326a880e48f2bef0c638044c14eb": {
      "model_module": "@jupyter-widgets/controls",
      "model_module_version": "1.5.0",
      "model_name": "DescriptionStyleModel",
      "state": {
       "description_width": ""
      }
     },
     "d010ab5bb75c4de685914ada88d1f71f": {
      "model_module": "@jupyter-widgets/base",
      "model_module_version": "1.2.0",
      "model_name": "LayoutModel",
      "state": {
       "overflow_x": "scroll"
      }
     },
     "d1a4540a591a4df8a7ef5dd31ea61b68": {
      "model_module": "@jupyter-widgets/controls",
      "model_module_version": "1.5.0",
      "model_name": "DescriptionStyleModel",
      "state": {
       "description_width": ""
      }
     },
     "d1da91bb48e04464be59d3b75e510de3": {
      "model_module": "@jupyter-widgets/base",
      "model_module_version": "1.2.0",
      "model_name": "LayoutModel",
      "state": {
       "max_width": "700px",
       "min_width": "700px"
      }
     },
     "d1ea161e5d8b452580b0528914649d7c": {
      "model_module": "@jupyter-widgets/controls",
      "model_module_version": "1.5.0",
      "model_name": "DescriptionStyleModel",
      "state": {
       "description_width": ""
      }
     },
     "d1ee684a33574ae7a924b03a5cb39e16": {
      "model_module": "@jupyter-widgets/controls",
      "model_module_version": "1.5.0",
      "model_name": "HTMLModel",
      "state": {
       "layout": "IPY_MODEL_225149de32db4f8792cb843ea9c97f08",
       "style": "IPY_MODEL_0c02030ccf4b4e3abb879bd011c729b0",
       "value": "<table><style>\ntable {\n    border-collapse: collapse;\n    width: auto;\n}\n\nth, td {\n    text-align: left;\n    padding: 8px;\n}\n\ntr:nth-child(even) {background-color: #f6f6f6;};\n</style><tr><th></th><th>Type</th><th>Gate error</th></tr><tr><td><font style='font-weight:bold'>cx4_3</font></td><td>cx</td><td>0.00841</td></tr><tr><td><font style='font-weight:bold'>cx3_4</font></td><td>cx</td><td>0.00841</td></tr><tr><td><font style='font-weight:bold'>cx3_1</font></td><td>cx</td><td>0.00879</td></tr></table>"
      }
     },
     "d2106a726d8442c49e358fbfa51eadd9": {
      "model_module": "@jupyter-widgets/controls",
      "model_module_version": "1.5.0",
      "model_name": "HTMLModel",
      "state": {
       "layout": "IPY_MODEL_114e8219fc224694bdbdcbc9ea68c523",
       "style": "IPY_MODEL_d5e89be9f20146559a192aa6dcced2c1",
       "value": "<font style='color:#34BC6E'>DONE</font>"
      }
     },
     "d2138972b3914718b37c800d878bf7d0": {
      "model_module": "@jupyter-widgets/controls",
      "model_module_version": "1.5.0",
      "model_name": "DescriptionStyleModel",
      "state": {
       "description_width": ""
      }
     },
     "d36dd07845b147be87e80789634e26fd": {
      "model_module": "@jupyter-widgets/controls",
      "model_module_version": "1.5.0",
      "model_name": "DescriptionStyleModel",
      "state": {
       "description_width": ""
      }
     },
     "d38f8f680bbe45518b25d6b89b59a7f1": {
      "model_module": "@jupyter-widgets/controls",
      "model_module_version": "1.5.0",
      "model_name": "HTMLModel",
      "state": {
       "layout": "IPY_MODEL_f3a52c7451cf42ec85b4f97fd1b5c162",
       "style": "IPY_MODEL_ccea146e54b248aa9616a256ae5f838b",
       "value": "<table><style>\ntable {\n    border-collapse: collapse;\n    width: auto;\n}\n\nth, td {\n    text-align: left;\n    padding: 8px;\n}\n\ntr:nth-child(even) {background-color: #f6f6f6;};\n</style><tr><th></th><th>Type</th><th>Gate error</th></tr><tr><td><font style='font-weight:bold'>cx1_3</font></td><td>cx</td><td>0.00879</td></tr><tr><td><font style='font-weight:bold'>cx2_1</font></td><td>cx</td><td>0.00784</td></tr><tr><td><font style='font-weight:bold'>cx1_2</font></td><td>cx</td><td>0.00784</td></tr></table>"
      }
     },
     "d5767f05e28049c18d0c5db64387077a": {
      "model_module": "@jupyter-widgets/base",
      "model_module_version": "1.2.0",
      "model_name": "LayoutModel",
      "state": {
       "grid_area": "bottom",
       "width": "auto"
      }
     },
     "d5dc207e89b649e69355b55ae6275eda": {
      "model_module": "@jupyter-widgets/base",
      "model_module_version": "1.2.0",
      "model_name": "LayoutModel",
      "state": {
       "grid_area": "middle"
      }
     },
     "d5e89be9f20146559a192aa6dcced2c1": {
      "model_module": "@jupyter-widgets/controls",
      "model_module_version": "1.5.0",
      "model_name": "DescriptionStyleModel",
      "state": {
       "description_width": ""
      }
     },
     "d62575c01ac04655901309a1a0142577": {
      "model_module": "@jupyter-widgets/output",
      "model_module_version": "1.0.0",
      "model_name": "OutputModel",
      "state": {
       "layout": "IPY_MODEL_f16ae8316ee14831b905ff332984bc05",
       "outputs": [
        {
         "data": {
          "image/png": "iVBORw0KGgoAAAANSUhEUgAAAVwAAAE5CAYAAADcL5jFAAAAOXRFWHRTb2Z0d2FyZQBNYXRwbG90bGliIHZlcnNpb24zLjQuMywgaHR0cHM6Ly9tYXRwbG90bGliLm9yZy/MnkTPAAAACXBIWXMAAAsTAAALEwEAmpwYAAApIElEQVR4nO3dd5xcVcH/8c+Z2Z5CKpDQEgIE6UnAEDQ6CaFJiUgTcBT5CSol+OiDFBtNCT76KOVBRI3oiCg9FAUpGQwgIAkKGKQECKQQSCNld/r5/XFncVw32dl2z5mZ7/v1mlfIZjf5LjPnu2fOvfdcY61FRET6X8R1ABGRWqHCFREJiQpXRCQkKlwRkZCocEVEQqLCFREJiQpXRCQkKlwRkZCocEVEQqLCFREJiQpXRCQkKlwRkZCocEVEQqLCFREJiQpXRCQkKlwRkZCocEVEQqLCFREJiQpXRCQkKlwRkZCocEVEQqLCFREJiQpXRCQkKlwRkZCocEVEQqLCFREJiQpXRCQkKlwRkZCocEVEQqLCFREJiQpXRCQkKlwRkZCocEVEQqLCFREJiQpXRCQkda4DiPQnE4s3AqOAIUB98VFX8gDIlTyyxcc6YIVNJtKhBpaqZqy1rjOIdJuJxVuA0QRl2v7o+PtRwLBe/lNrgBUdHss7/t4mE629/HekBqhwxXsmFh8MTAQmlTx2BYzDWKUs8CqwoOSx0CYT652mEu+ocMUrJhYfQlCupQW7C/6Ua7ks8BolBUxQwutchhK3VLjiVHFp4BDgaCAG7EzllWu5LPA68BhwL/AnLUXUFhWuhM7E4qMJCvZo4GCgyWkgd1LAIwTle69NJpY7ziP9TIUroTCx+H7AMcXHRKp3FttTlmDp4V7gHptM/M1tHOkPKlzpFyYWNwRLBMcDRwE7usxTgd4C7gNuB5I2mdBArQIqXOlTJhbfFjgN+AIwzmmY6vEa8AvglzaZWOk6jPScCld6rTibPQw4k2BdVhfU9I8cwZLDjcCDmvVWHhWu9JiJxQcRzGbPJTgvVsLzKnAtcJNNJja4DiPlUeFKt5lYfGeCkj0dGOw2Tc1bD8wBrrXJxOuuw8iWqXClbCYW3wW4HDgRbXzkmwJwG/BNm0y85jqMdE6FK10qHgj7DsGBMK3P+i0H/By41CYT77gOI/9OhSubZWLxrYCvA18BWpyGke5qBX4MfN8mE+87ziJFKlz5DyYWbwLOAS6i97ttiVtrgCuB62wykXIdptapcOUDJhaPAp8DLgF2cBpG+trbBM/rr2wykXecpWapcAUAE4sfBVwF7OE4ivSvRcAFNpm4z3WQWqTCrXEmFh8GXAec7DiKhOu3wLk2mVjjOkgtUeHWMBOLfxK4AdjGbRJx5B3gSzaZmOs6SK1Q4dag4qz2WuAUx1HEDzcDszTb7X8q3BpjYvGZBLPabR1HEb+8A3zRJhP3uA5SzVS4NaI4q70GONVxFPHbbwhmu2tdB6lGKtwaYGLxY4CfolmtlGcFwWz3XtdBqo0Kt4qZWLyeYK32i46jSGW6gWC2m3UdpFqocKuUicVHAncAUx1Hkcr2Z+A4m0ysch2kGqhwq5CJxfcF5gI7OY4i1eFNYKZNJp53HaTSaYu9KmNi8U8BT6Cylb4zBniy+NqSXtAMt0oUb3PzbYJtFHVHXOkPFrgUuEy39+kZFW4VMLF4C/ArgjvkivS324HP2WSi1XWQSqPCrXAmFt+RYL12P7dJpMb8jWBd9y3XQSqJ1nArmInFpwB/RWUr4dsP+GvxNShl0gy3QplYfBrBLbMHOI4itW0TcLRNJua5DlIJNMOtQCYWPwy4H5WtuDcAuL/4mpQuqHArTPEy3blAs+MoIu2agbnF16ZsgQq3gphY/DiCI8SNjqOIdNQI3G5icZ0pswVaw60Qxc3Cb0O3Kd+sumiUbYYNZvTwoYwaPoRRw4ew3Yih7Dx6a3baZgSjhm1FS1Mj0UiEaDRCXSSYb+QKBfL5AvlCgdZUmhVr3mfJylW8vvxdlq9ax/LVa1mxOvh15Zr15PK6JdgW5IATbDJxt+sgPlLhVgATix8B3A00uE3ij8aGevYeuz2Txo9l6j7jOXCPcey49QgyuRzZXB4D1NdFaWpoIBLp2XUghYIllcmQzeWxxb+voa6Ot95dxVOLFjP/+ZdZ8PIbvPDGUtIZ7e9SIgN80iYTf3QdxDcqXM+ZWPxg4D6gyXEUp7YbOZRPTN6Pj++3OwfuMY4dth5OWzpDXSTKgGY3Kyyb2tLkCnmaGxt4+93VPLVoMY/97Z/84em/sey9mt9ONgUcaZOJR10H8YkK12MmFp8KPAC0OI7ixIRdd+LYqfvz6elT2H7kUPKFAgOb/f65s7EtRV00wtvvruV3j/6Fu+Y/y3OvLnEdy5VW4HCbTMx3HcQXKlxPmVh8PPAUMMRtkvA01NcxbcKHODE2mZkfnURDXR0N9VEa6+tdR+uRdDZLJpsnk8sx9/EF3Jp8mnnPvUQmm3MdLUzrgMk2mXjFdRAfqHA9ZGLxIcDTwG5uk4Rj1+23ZdZxh3La4VM/mMVGI9V1Ak2+UGBja4poNMJND8znmjv+xKtL33EdKywvE5Tu+66DuKbC9YyJxaMEa7aHO47Sr6LRCEdNmcAFJx/JfrvsRDQSoaG+Nk7AyGRz5AsFnnt1Cd//3f3c95fnyOcLrmP1twcI1nSr/hvdEhWuZ0ws/kPgq65z9Jdthm3FF4+exqzjDqM+GmXwgNq+fmP9pjay+TzX3PEgP713HivXVPUk8Ic2mfhv1yFcUuF6xMTinwNuchyjX4waPoTvnXECJ007EGuhpUlnuJVqTWUwBn4/7yku/tltrFi9znWk/vI5m0z82nUIV1S4njCx+IFAkiq7imzIwBa+EZ/JWTMPJhqJ0NhQmQfAwpLOZMkXClw/9xGuSMzl/Y1Vt+VsGvi4TSaedh3EBRWuB0wsvh3wLFV0G/Omhnq+cvxhXPyZmdRFIjRrRtstbakMuUKB7/1mLj++/UFS1XVhxQrgAJtMLHMdJGwqXMdMLN4MzAcmOY7SJ6LRCKcf8XFmn3kijfV1DPD8vFnfbWpLkc7muPDGW5nzx8eq6eDas8DHbDLR5jpImFS4jplY/Bbg065z9IV9xu3IbZecw6jhQxnUoqLtSxtbUyxfvZYTLrmO5xdXzU0WbrHJxCmuQ4RJheuQicW/CNzgOkdv1UWjfOuzM/nvkz5BU0M9kSo7h9YXhUKBVCbLD37/By7/9dxq2UTnSzaZ+KnrEGFR4TpiYvExwAvAQLdJeqd9VrvdiKFaPgjJxrYUy1dVzWx3A7C3TSZq4vpnFa4DxVuaPwxMdxylx/41qz2SpoY6zWpDFsx2c/zg9/dXw2z3EeCQWrj1ukaJG1+igst2/I6j+MdNV/LVE4+gpalBZetAJBKhpamBr554BP+46UrG7zjKdaTeOBj4ousQYdAMN2SVvpTwiQP35fffOYeWRhWtL4KN0zOcdOl1/PHpv7uO01MbCZYW3nQdpD+pcENUXEp4BJjmOEqPXHTq0XwzPpOWpqq6NqNqtKbSXJGYy5U33+s6Sk89Csyo5qUFTVHC9WUqsGybGuq5/dJzufgzx6hsPdbS1MjFnzmG2y89l6bKvKJvOsFyW9XSDDckJhYfS7CUUFG3Nh89YigP/eACxmw7QmVbIVpTad5Y8R6Hnv99lq+quDtPVPXSggo3BMWlhEeBmNsk3XPA7jvzwPfPZ1BLE/V1tbF1YrXI5nJsaE1xxAU/4JmXFruO013zgIOrcWlBSwrh+DIVVrbTJ+7Boz+6iGGDB6psK1B9XR3DBg/kkf+9kGkT9nAdp7umUaVLC5rh9rPi3RteB4a6TVK+wz+8D7dfNosBWkKoCptSaY779tU8+MwLrqN0xxpg52q7S4RmuP3vAiqobI/5yETuUNlWlQFNjdx52Xkc85GJrqN0xzCCsVNVNMPtRyYWHwW8RoXcdfcTB+7LbZecq4NjVao1leb471xbSefqtgK72GRihesgfUUz3P71HSqkbA+etCe3qmyrWktTI7ddei4HT9rTdZRytRCMoaqhGW4/MbH4bsA/AO+POH1079144Pvna/OZGrEplebw87/P4y9UxJ3Lc8AeNpl41XWQvqAZbv+5ggoo27GjRnLf7K+pbGvIgKZG7pv934wdNdJ1lHLUEYylqqAZbj8wsfj+wDOAcRxliwY2N/H8nO+yw9bDqYtGXceREOXyed5+dzX7nP4NNralXMfpiiW4Jc8C10F6SzPc/nElnpetMYY7L5/FtsOGqGxrUF00yrbDhnDn5bMwxuuXKgRjabbrEH1BhdvHTCw+A5jhOkdXZp95IlP23JXmRt3csVY1NzYwZc9dmX3mia6jlGNGcWxVNBVuHypewuv9T+ITp03m7GMPYaDWbWvewOYmzj72EE6cNtl1lHLMLo6xiqXC7VtH4vnddyfsuhNzLjhDFzbIBwY0NTLngjOYsOtOrqN0ZRLBGKtYKty+9RXXAbZkYHMTf7zqfJorc+s+6UfNDfX88arzK+Fdz3muA/SGCrePmFh8L4JbhXjr2vPiDB7QrDs1yH+IRCIMHtDMtefFXUfpygwTi1fMlRsdaeT1nVmuA2zJwZP25ITYZB0kk81qbmzghNjkSrgSzeuxtiU6D7cPmFh8OPA20Ow4SqcGNjex+Lc/ZOuhg11HkQrw7tr1jDvlaz6fn9sGbG+TiTWug3SXZrh94wt4WrYQLCUM8n9tTjwxqKXJ96WFZoIxV3FUuL1UPE3lTNc5NueDpYQmLSVIeSpkaeHMSjxFTIXbe9OBnV2H6MzA5iZ++82zdAqYdNuApkZ++82zfD5rYRwVeENWFW7vneE6wOZcdvpxDGxR2UrPDGpp4tLTP+U6xpZ4O/Y2RwfNesHE4iOAZYB379e3GzmUVxL/o/1tpVdaU2l2/cz5vt79Nw1sZ5OJ1a6DlEsz3N75LB6WLcCVZ5xINKqnV3onGolw5Rne7rXQCHzOdYju0IjsnZNdB+jM+B1HcdzHP0xjva4ok95pbKjn+NiH2W2HbV1H2ZxTXAfoDhVuD5lYfDSe7pvwv2efSoO2XJQ+0hCN8qNzPuM6xuZMLI7FiqDC7bmj8XDP2/3Hj+Xj++5OXZ0KV/pGXV2U2L67s//4sa6jdMYQjMWKoMLtuWNcB+jMted9VpvTSJ9raqjn2vM+6zrG5ng5Fjujwu0BE4u3EJx/65WP7bs7e43dXpvTSJ+LRCLsNXZ7pu4z3nWUzkwvjknvaWT2zKGAd2eEf/3TR9KizWmkn7Q0NvD1k73cjraJYEx6T4XbM969hRk1fAgHT9pDs1vpN5FIhBmT9mTbYVu5jtIZ78ZkZzQ6u8nE4hE83HX+i8dMR9ewSH+zNniteejI4tj0mvcBPTQZ2Np1iFJ10SjnHnuI9rqVftfc2MCsTx3q40U1WxOMTa9593+tAnh3CsrRB03Qrc4lNHXRKEdPmeA6Rme8G5sdqXC7z7u1ogtOPorBA7zdjleqzOABzVxwylGuY3TGu7HZkQq3G4pXtHi1SehuO2zL3jtv7zqG1Jh9dt7Bx8t99/T9qjMVbvfs7zpAR6fOOIiolhMkZNFolFNnHOQ6Rme8G6OlVLjd493eCScfPIXG+jrXMaTGNNbXcfLBU1zH6Ix3Y7SUCrd7vHoytxs5lB22HuY6htSoHbYexnYjh7qO0dFE1wG2RIXbPV4V7tFTJpLPF1zHkBqVyxc4yr+zFbwaox2pcMtUXIz36ijBqYccxAB/7zklVW5gcxOfOcS7ddxRJhYf5TrE5qhwy+fVT84BzY2+bpcnNWT/8TszoNm72zh5NVZLqXDL59WTeOj+e5POZl3HkBqXzmY5dP+9XcfoyKuxWkqFWz6vnsSTph/IIC0niGODmps4aZp3V9R6NVZLqXDL59WT+LF9xmtnMHEuEonwsX13dx2jI6/GaimN2DKYWHxbwJuF+MEDmhk+eKDrGCIADB880LdLy0cXx6x3VLjl8ercvom7jqE1nXEdQwSA1nSGibuOcR2jI6/GbDsVbnm8Oh1g0vixNOm+ZeKJ5oZ6Jvl3xswY1wE6o8ItjzfLCQCx/XZX4Yo3Ghvq+bh/67hejdl2KtzyePXkTdrNu9mE1DgPZ7he7hqmwi2PN0+eDpiJj0b4d+DMq0lSOxVuebx58nTATHzUms4wYdedXMco5c2YLaXCLY83T9647bamzr/7SVUEay0vvfQSv/rVrzj77LM54IADaGxsxBhDU5MuIumNumiEcaO3cR2jlDdjtpQ2Uu2CicXrgJGuc7QbPXwozQ26WWRPLFmyhD322MN1jKrU3NDA6OFDXMcoNdLE4nU2mci5DlJKU6WubQMY1yHajR010sc7plac7bffnmOPPZapU6e6jlIVotEIY0d5dTPrCMHY9YpGbte8emuy07YjXEeoWMOHD+fuu+9mxYoVvP3229x5551Mnz7ddayqMWaUd69Nr8YuaEmhHN6coQCw3XDvdtivGIMGDWLmzJmuY1Qtz5YUwMPC1Qy3a149aSOHDHIdQaRTI4cMdh2hI68mS6DCLYc3B8yMMQwe0OI6hkinthrQgjHeHO4A8GpRGVS45fBmO/sRWw0im/PqoKvIB7K5nG8X5Xh3Oo8Kt2verHMPHdRCNpd3HUOkU9lcnmGDB7iOUcqbsdtOhds1b560+ro6LNZ1DJFOWSx10ajrGKW8GbvtVLhd82ZbrrpoBPWteMviW+F6M3bbqXC75s1PybpoVH0r3rLg22Xn3ozddl793/GUN/+PorqHmXjOs9eoV2HAw0Ae8ua0gFxeB8zEb569Rr0Zu+3KKlxjzE3GGGuM+VaHj8eKHw/lmj5jzL7GmFuMMW8bY9qMMS8bY75ujIl0+DxjjPmKMeafxpi0MWaFMWZ2D/9Zb560bC7vz6YOIh0YIJcvuI5Rypux2647axwp4HxjzA3W2vf6K1AXJgHvAXHgLeDDwM8Ivo/vlXzeD4GjgPOBF4Ct6PkVY948abl83rcTy0U+YIzRDLcL3VlSmAe8CXxrc59gjPmYMeZpY0zKGLPSGPMjY0xD8c/OLH4s2uFrfmuMuaecANbaOdbaWdbapLX2dWvt74CfAMeV/H3jgXOBmdbaucXPe85a+4dufK+lvHnS0tmcCle8ZYwhnfVmuIBHY7ddd2a4BeBC4G5jzNXW2sWlf2iM2Q74I5AATgPGAT8vft3XgNuAa4BDgAeKXzMQmAl8vhffw2BgbcnvZwKvA4cbY+4n+KHyGHC+tfbdHvz92V5k61Mr176vm0f20qJFi1i/fv0Hv1+6dCkQbE7+1FNP/dvnTpgwgcZGby409F5TQz0r177vOkYpb8Zuu26dNmGt/YMx5gngu8CnO/zxWcBy4CxrbQF4yRhzIfBTY8y3rLVrjTF/AE6lWLjAJwl+CpU1w+3IGDORoNxPLfnwzsBOxXynEZyt8gPgXmPMlGK27tjUk2z9YVNbmnyhQD1enetYUc466ywee+yx//h4JpNhypQp//axN954gzFjxoSUrPLlCwU2taVdxyjlzdht15OzFC4ATjDGTOrw8Q8BT3UotMcJrmfepfj73wCfNMa078ByKnCHtTbV8R8xxvzRGLOx+PhHJ38+Hrgf+LG19o4O31MjELfW/tlaO59gzffDwAHd/WaBFT34mn6zZv1G1xFEOuXha9OrsQs9ODHYWvuMMeYO4PvA5eV+WfHX+wlmtDONMY8AM4DDNvM1XwDabwP6b28NjDG7E6wp/85ae2GHr1sB5Ky1r5R87FUgD+wIPF1m5tK/zxsr165n9AjtidtTyWTSdYSq5dlyAng2dqHnV2JcDCwCDi/52EvAicaYSMks96NABlgMYK1NG2NuI5jZjgDeAZKd/QPW2mWdfdwYswfwKHCrtfa/OvmUJ4A6Y8y4knXmnYEosKTs7/BfvHrSlr23xre7o4oAsPS9Na4jdOTV2IUeXvhgrX0NuBE4r+TD1xNs+Hu9MeZDxpgjgdnAddba1pLP+w3BrPZLwC3t5WyMObZ43ux2m/t3jTF7Esxsk8D3jDHbtj9KPu1hYCEwxxgzwRgzAZhDMLN9tgffrldP2usrXJ2RJ7JlHr42l7sO0FFvrjS7jJLTLooz0iOACcDfCEruFoLZcKn5wDJgD4LybbcVMJ4tbzhxAsGmwicRFGHpoz1HgeAc3HeBPwMPAksJThPr9lnZNplYA3hzJOCtd1f7duqNCOlsjrdWrnYdo1TKJhNru/60cJW1pGCtPa2Tj70LDOrwsT8Dk7v4uywwppOP3wTc1MXXXgJcssWwweetICjnvrKCTjK7sHzVWtKZLI313u3LITUsncmyfJVX/faO6wCd0V4K5fFmWeHFN5Z6dNN2kSJTfG36w5sxW0qFWx5vnrxFS5bRVK+LH8QvTfX1vPSWV0umXoVpp8ItjzeFm88XeG3ZStcxRP7Na8tWkvdr4xpvxmwpFW55vHrynnjxla4/SSREHr4mvRqz7VS45fHq7cmTL77KhtY21zFEANjQ2saTL77qOkZHKtwK9pLrAKUWvPImVvfaEU9YG7wmPbPIdYDOqHDL83eCS4O9sGjJMu0aJt5oaqhn0ZJOLwx1JUcwZr2jwi2DTSba8OgnZj5f4FUdOBNPeHjAbJFNJv5jQywfqHDLt8B1gFJzH19ARleciWOZbI67Hu/JFfP9aqHrAJujwi2fV4V71/xnSWW9219Zakwqm+Wu+V4NDfBsrJZS4ZbPqydxwStv+vY2TmpQPl9goX8HzLwaq6VUuOXz6sCZtZZ7nlhIoaDSFTcKhQJzn1iI9euUmTyeHjADFW7ZbDLRimenh92afJoNrV4eG5AasKE1xW3J7u7n3+9eKo5VL6lwu8ertyqPLlykXcPEmcb6Oh5d6M3JO+28GqMdqXC7x6snM5XJ8rh/l1RKjXj8hVdIZbw7cOvVGO1Ihds93j2Zv3noSV3mK6Hb0NrGzQ8/6TpGZ7wbo6VUuN3zHB7d/QHgjsf+SjSip1HCFYlEuO2xZ1zH6ChNcLcZb2mkdkPxirN5rnOU2tiW4uaH/0I2p4sgJBzZXI6bH3qSTW1ezT0A5vl8wAxUuD1xj+sAHf349gfI5rw5Y02qXDaX58e3P+A6Rme8G5sdqXC7717XATpa9OYyXlri1Q6SUsUWLfH29ebd2OxIhdtNNplYSrCW65WrbrmP9Zt08Ez61/pNbVz12/tdx+jMc8Wx6TUVbs9499bl7scXUPDrih+pQvlCgbsf9/JEAO/GZGdUuD3j3ZObzeW5/u6HSaUzrqNIlUqlM1x/98Pk8l4eL/BuTHZGhdsDNplYCHi14zLAdXc9pFmu9JuCtfzf3Q+7jtGZZcUx6T0Vbs95t0C/YvU6fnrvPNo0y5U+1pbO8NN757Fi9TrXUTrj3VjcHBVuz3n5JF/2q7vIawcx6WP5QoHLfnWX6xib4+VY7IwKt+ceATa5DtHRuo2tXHnzvT6elC4ValNbmu/95h7WbfTymoJNBGOxIqhwe8gmE2nAy7O/f3TbA6R15Zn0kXQux49vf9B1jM15oDgWK4IKt3d+6TpAZ9rSGS7+2a3aK1d6bUNriotu/L3PxwW8HIObo8LtnQcAL0+2/sX9j7Feu4hJL72/qZVf/OEx1zE2ZymevsvcHBVuL9hkIg/McZ2jM7l8nnOv/jUb2zTLlZ7Z2JZi1jUJn++dN6c4BiuGCrf3fgF4+Yq8a/6zzH/+ZdK6u690UzqTZf7zL3PXfO9ugd6uQDD2KooKt5dsMvEW8CfXOTbntNk3+rgrv3gulc1y2uwbXcfYkgeLY6+iqHD7xk9cB9icd9eu58wfzNHSgpRtY1uKM38wh3fXrncdZUu8HXNbosLtG/cBr7sOsTm3zns6WFrQTFe60L6UcOs87+7GW2ox4OWWZV1R4fYBm0wUgGtd59iS02bfSEprudKFClhKALi2OOYqjgq378wBNrgOsTlaWpCuVMhSwgYq7NzbUircPmKTifV4/kK4dd7TPPTsi7T6exK7ONKazvDQsy/6vpQA8MviWKtIKty+dQ3g9TW1p17xE95euVo3nZQPZHM53l65mlOv8P44VI5gjFUsFW4fssnEYjy9EKJdWzrDjK/NZqM2t5GijW1pZnxtts+X77abUxxjFUuF2/cuBby+pnbpe2s46qIf0ppS6da61lSaoy76IUvfW+M6SlfaCMZWRVPh9jGbTCwHrnadoytPvvgqs65JaBvHGrapLc2saxI8+eKrrqOU4+ri2KpoKtz+cRWw1nWIrvziD4+ReOhxNunMhZqzqS1F4qHHfd6YptRagjFV8VS4/cAmE+uA2a5zlOOcq3/N3xa/VQnrd9JH2tIZ/rb4Lc65+teuo5TryuKYqngq3P5zLR7eaLKjfL7AEV//H15btlJXotWAVCbLa8tWcsTX/8fnXcBKLcXzi4q6Q4XbT2wy0QZc4jpHOTa0ppg66wreeOc9lW4VS2eyvPnOe0yddUUlbU5/iU0mKiZsV1S4/euXwD9dhyjH+xtb+cg5l7P0vTXazrEKpbNZlr63ho+ccznv+3lvss68BNzkOkRfUuH2o+LmyN9wnaNca9ZvZPJZl7DknVXa0rGKpDJZlryzislnXcKa9Rtdx+mOb1TaBuNdMdZa1xmqnonFnwImu85RriEDW3j82m8xbvTWNDU2uI4jvZBKZ3ht+UqmnnuFr3fd3ZynbDIxxXWIvqYZbji+CFTMlHHdxlamnH0p/3hzmS6OqGCtqTSLliznoLMvq7SyzRKMmaqjwg2BTSb+DlzhOkd3bGhNcdA5lzH3iYXaYawCbWpLMfeJhUw5+9JKOkDW7nKbTDzvOkR/UOGG53vAc65DdEcmm+OUy6/nkpvu1Ey3grSm0nznpjs55fLryWQrbpOihcCVrkP0F63hhsjE4vsAzwL1jqN02yH778Xtl81iQFMj0Yh+Tvsol8/Tms5w/Lev4aFnX3QdpycywP42mXjBdZD+opETouLbpMtd5+iJh559kf3P/DbLVq0lldFVab5JpTMsW7WWSWd8q1LLFoKlhKotW1DhunAlwdumivPq0nfY+/MX8dSixVrX9cjGthR/WfQa+5x+Ma8tW+k6Tk8toEIuh+8NLSk4YGLxvQmWFirynKtIxPDVE47g0s9/isb6OqLRqOtINSmfz5PO5vj2nDv40e0PUChU7FjOAJNsMlGxU/NyqXAdMbH4N6nQ5YV2u+2wLb//zjnsst02DGxuch2npmxsS/HaspWceMl1vLr0HddxeuubNpn4rusQYVDhOmJi8TrgKWCS4yi9otluuKpoVttuAXCgTSYq7nSKnlDhOmRi8b2AZ4Bmx1F6TbPd/ldls1qAVmByLSwltFPhOmZi8ZOA37nO0RciEcN/HX84l3z+U0QjEZp1WXCfaEtnyBcKXPLLO6tlVtvuJJtM3Oo6RJhUuB4wsfh3gYtd5+grwwYP5Nuf/SRnHDWNaNTQWF9xpx17IZ3Nks9bbrz3US5PzK20jWe68l2bTHzTdYiwqXA9YGJxA9wNHOM2Sd/afuQwrjzzRD419QAa6qPUaX23LLl8nmwuzx1//isX3vh7lr3n/d2auutu4FM2mai58lHhesLE4oOAJ4G9HEfpc7vvOJofnXMqU/cZT3NDPRFdqdapQqFAWybLn//+Ml/9v5v551sVf8/EzrwITLHJRFVN18ulwvWIicV3JjiINtxxlH4xeY9xXH768Xx0790woK0fi1KZLNZannjhFb7xi9t55qXFriP1l9XAATaZeMN1EFdUuJ4xsfg04E9AneMo/Wb7kcM465Mz+PLMg4kYw+ABFX+SRo+s39RGwVp+MvcRrr/7YZa+t8Z1pP6UAw6xyUTScQ6nVLgeMrH42cB1rnP0t/q6KMdO3Z8LTj6K3XccRX1dHfV11b3Om83lyOby/POtFVx1y33cNf9ZsrmquqnB5pxtk4nrXYdwTYXrKROL30CVbsLcmT3Hbs95xx3G8R8/gLpohMb6ehrqq2OSn8nmSGez5PIFbn/sr1x9x4P8442lrmOF6QabTHzZdQgfqHA9ZWLxeuBBYJrjKKEyxjBxtzEcO3USn54+hdHDh1CwlgFNja6jdcumVJqIMSxfvY7fPfoX7pq/gIWvvEkNjrd5wGE2maiYO570JxWux0wsPhB4CDjQcRRndtxmOEcfNIFTZxzExN3GkkpnqK+L0uJZAbem0mRzeZoaG1j4yhvc/PCT3Pvkc7y1crXraC79BTi0Vs9I6IwK13MmFt8KeIQK33OhLzQ3NrDfLjsxabcxTN13PJN3H8foEUNoTWWor6ujpSmcsx7ay7WlqYHlq9bx9D8XM//vL7PglTf5++K3dHeMwALgYJtMvO86iE9UuBXAxOLDCN6a7eM4ineaGxvYd9yOTBo/ho/stRs7j96aUcO2YvjggTQ21JPKZMnl8xgMDfV11EWjRCLmP+5akS8UKBQsuXyeTDaHxVIXjdLUUE86k2X1+o2sWPM+ry9/lydefIUFLwfl2pbWZuydeB6YZpOJqj7toidUuBXCxOJbA0ngQ26TVI7Ghnq2HbYVo4YNYfSIIYwaPoQBTY3URYOr3hrqgzMiMtk8uXzw2JRKs2L1OpavWseKNet4Z837pDNafuyGl4CYTSbedR3ERyrcCmJi8W2Ah6nCq9GkKrwIzLDJRMXedqK/6RrLClJ8IceosLv/Sk14jmBmq7LdAhVuhbHJxGpgOsElwCI+eAaYXnxtyhaocCuQTSbWATOAxx1HEXmcYBlhnesglUCFW6FsMrEBOBS4xXUWqVm3EJxnu8F1kEqhg2ZVwMTiFwFXoB+gEo4C8A2bTFT9bc37mgq3SphY/GjgZmCQ4yhS3TYAp9hk4j7XQSqRCreKmFh8D+AeYJzjKFKdFgPH2GRikesglUpvQatIcSB8GHjUdRapOo8AH1bZ9o4Kt8oUL6c8jBrYT1dCcy1wuC7V7T0tKVQxE4ufAfwfoNvmSk9kCDYO/7nrINVChVvlTCz+ESABjHUcRSrLG0DcJhNPuA5STbSkUOWKA2Yf4HpAP12lK5bgtbKPyrbvaYZbQ0wsPh34BTDGbRLx1JvA6TaZmOc6SLXSDLeG2GTiUWBv4AY025V/scBPgL1Vtv1LM9waZWLxgwlmuzs5jiJuLSGY1epUwhBohlujbDLxCMFs96eus4gTluCdzl4q2/BohiuYWHwG8HM0260VS4Av2GTiYddBao1muEJx4H0IuABY6ziO9J+1BM/xh1S2bmiGK//GxOJDCQblLKDZbRrpI23ANcBVNpnQD1SHVLjSKROLbwd8BzgdiLpNIz2UA34JXGqTiWWuw4gKV7pgYvHxwHeB4xxHke65g2DP2pddB5F/UeFKWUwsfgAwm+B+auKvR4ELbTLxV9dB5D+pcKVbTCx+KHAhMM1xFPl384DZNpn4k+sgsnkqXOkRE4vvQ3Bg7VSgyW2ampUiuMvHNTaZeN51GOmaCld6xcTiI4AzgS8D27tNUzOWElyKe6NNJla5DiPlU+FKnzCxeBQ4AjgDOBKd2dDXcsD9wM+AB2wykXecR3pAhSt9zsTio4HPA/8P7cPbW28Q7HnxS5tMLHcdRnpHhSv9xsTiBpgIHAMcDUxwGqhyPEdwM9B7bTKxwHUY6TsqXAmNicV3AI4iKOBpQKPTQP5IE5xl0F6ySx3nkX6iwhUnTCw+EDiUoHyPBEY4DRS+VQRrsvcAf7LJxEbHeSQEKlxxzsTiEWAK8DFgUvExxmGk/vAmsBBYADwG/MUmEwWniSR0KlzxkonFhxOs/04qeVTKAbg3CIq1/bHQJhOr3UYSH6hwpWKYWHwYQQlPBPYlOO93VPExMOQ4G4EVxcdS4Hn+Va5rQs4iFUKFK1XBxOKD+Ff5ji757/bfDwXqgPrir+0PCM5xbX9ki7+uBZbzr1JdUfp7m0xsCOHbkiqjwhURCYnu+CAiEhIVrohISFS4IiIhUeGKiIREhSsiEhIVrohISFS4IiIhUeGKiIREhSsiEhIVrohISFS4IiIhUeGKiIREhSsiEhIVrohISFS4IiIhUeGKiIREhSsiEhIVrohISFS4IiIhUeGKiIREhSsiEhIVrohISFS4IiIhUeGKiIREhSsiEhIVrohISFS4IiIhUeGKiIREhSsiEhIVrohISFS4IiIhUeGKiIREhSsiEhIVrohISFS4IiIhUeGKiITk/wMqZDy3mLw6BgAAAABJRU5ErkJggg==\n",
          "text/plain": "<Figure size 396x396 with 1 Axes>"
         },
         "metadata": {},
         "output_type": "display_data"
        }
       ]
      }
     },
     "d686cd5106c74574851d325c137976f2": {
      "model_module": "@jupyter-widgets/controls",
      "model_module_version": "1.5.0",
      "model_name": "GridBoxModel",
      "state": {
       "children": [
        "IPY_MODEL_90931c5c843f4b58a32c4b356a4bfaf8"
       ],
       "layout": "IPY_MODEL_b40b69e1d985414d8a230e55594f5fb1"
      }
     },
     "d68bca96b8eb4ba3942408cba07b9b5a": {
      "model_module": "@jupyter-widgets/controls",
      "model_module_version": "1.5.0",
      "model_name": "DescriptionStyleModel",
      "state": {
       "description_width": ""
      }
     },
     "d777eb5e14ea48e587e872b19ec80ca5": {
      "model_module": "@jupyter-widgets/controls",
      "model_module_version": "1.5.0",
      "model_name": "DescriptionStyleModel",
      "state": {
       "description_width": ""
      }
     },
     "da33e730e583473a9d04410c4e2359d8": {
      "model_module": "@jupyter-widgets/base",
      "model_module_version": "1.2.0",
      "model_name": "LayoutModel",
      "state": {
       "grid_area": "top"
      }
     },
     "da499c55c87c41faa65181118a3abc7f": {
      "model_module": "@jupyter-widgets/controls",
      "model_module_version": "1.5.0",
      "model_name": "ButtonStyleModel",
      "state": {
       "button_color": "white"
      }
     },
     "da8c0ea8cb0448ce9e85629e8fad23da": {
      "model_module": "@jupyter-widgets/controls",
      "model_module_version": "1.5.0",
      "model_name": "DescriptionStyleModel",
      "state": {
       "description_width": ""
      }
     },
     "db29b3b3581944b6ae02b6f8538208c7": {
      "model_module": "@jupyter-widgets/base",
      "model_module_version": "1.2.0",
      "model_name": "LayoutModel",
      "state": {
       "margin": "0px 0px 0px 0px"
      }
     },
     "dcccaf12fc8c44feba21d7b98da0d641": {
      "model_module": "@jupyter-widgets/base",
      "model_module_version": "1.2.0",
      "model_name": "LayoutModel",
      "state": {
       "width": "145px"
      }
     },
     "dd5c6bfb7332456f93c710e9bfab6db1": {
      "model_module": "@jupyter-widgets/base",
      "model_module_version": "1.2.0",
      "model_name": "LayoutModel",
      "state": {
       "border": "4px solid #000000",
       "max_height": "650px",
       "min_height": "650px",
       "overflow_y": "hidden"
      }
     },
     "de0065f0a1264b208545ffa089f7dfab": {
      "model_module": "@jupyter-widgets/base",
      "model_module_version": "1.2.0",
      "model_name": "LayoutModel",
      "state": {
       "max_width": "700px",
       "min_width": "700px"
      }
     },
     "def3db7e48c84859a361dc4e64234f72": {
      "model_module": "@jupyter-widgets/base",
      "model_module_version": "1.2.0",
      "model_name": "LayoutModel",
      "state": {
       "grid_gap": "0px 0px",
       "grid_template_areas": "\n                                                   \"top top top\"\n                                                   \"left middle right\"\n                                                   ",
       "grid_template_columns": "33% 33% 33%",
       "grid_template_rows": "auto auto"
      }
     },
     "df0d988d55a249099ee96b5b21efeda9": {
      "model_module": "@jupyter-widgets/base",
      "model_module_version": "1.2.0",
      "model_name": "LayoutModel",
      "state": {
       "width": "145px"
      }
     },
     "df2cf17ba763499cba2f13b4ca25d3a6": {
      "model_module": "@jupyter-widgets/controls",
      "model_module_version": "1.5.0",
      "model_name": "DescriptionStyleModel",
      "state": {
       "description_width": ""
      }
     },
     "df3f8ce29a4e4bc88d59671edc97a307": {
      "model_module": "@jupyter-widgets/base",
      "model_module_version": "1.2.0",
      "model_name": "LayoutModel",
      "state": {
       "width": "70px"
      }
     },
     "dfde10af285944a58a3221f2b5feea97": {
      "model_module": "@jupyter-widgets/controls",
      "model_module_version": "1.5.0",
      "model_name": "HTMLModel",
      "state": {
       "layout": "IPY_MODEL_6eb4106f915a4e0abab33d8282f4ec08",
       "style": "IPY_MODEL_9baabfb2a0554d659f276c20ddcebf37",
       "value": "<table><style>\ntable {\n    border-collapse: collapse;\n    width: auto;\n}\n\nth, td {\n    text-align: left;\n    padding: 8px;\n}\n\ntr:nth-child(even) {background-color: #f6f6f6;};\n</style><tr><th></th><th>Type</th><th>Gate error</th></tr><tr><td><font style='font-weight:bold'>cx1_0</font></td><td>cx</td><td>0.03058</td></tr><tr><td><font style='font-weight:bold'>cx0_1</font></td><td>cx</td><td>0.03058</td></tr></table>"
      }
     },
     "e066af9427554e5aa27e5e6c65919970": {
      "model_module": "@jupyter-widgets/base",
      "model_module_version": "1.2.0",
      "model_name": "LayoutModel",
      "state": {
       "grid_area": "bottom",
       "width": "auto"
      }
     },
     "e18489956c6c490299048a398278f6e0": {
      "model_module": "@jupyter-widgets/controls",
      "model_module_version": "1.5.0",
      "model_name": "DescriptionStyleModel",
      "state": {
       "description_width": ""
      }
     },
     "e1bc8b7910c64423a9c33f061b72fee6": {
      "model_module": "@jupyter-widgets/controls",
      "model_module_version": "1.5.0",
      "model_name": "DescriptionStyleModel",
      "state": {
       "description_width": ""
      }
     },
     "e2a57424510b43dfaf2388fbaebec8a4": {
      "model_module": "@jupyter-widgets/controls",
      "model_module_version": "1.5.0",
      "model_name": "ButtonModel",
      "state": {
       "icon": "close",
       "layout": "IPY_MODEL_292f6c4a9b2c4078bddcf8749b71fbf5",
       "style": "IPY_MODEL_56c7a574092342188e76326b5e05c3b5"
      }
     },
     "e2ded407dcb44426b81ec469fd3ff80d": {
      "model_module": "@jupyter-widgets/controls",
      "model_module_version": "1.5.0",
      "model_name": "HTMLModel",
      "state": {
       "layout": "IPY_MODEL_94a3c837818845b7bc01e532fb54c962",
       "style": "IPY_MODEL_c6ef58e5f65148fb9cee6456b7054e03",
       "value": "61a0f5ea83753d82f827ba32"
      }
     },
     "e3013c6b75b74a01a72552da53db1bea": {
      "model_module": "@jupyter-widgets/controls",
      "model_module_version": "1.5.0",
      "model_name": "DescriptionStyleModel",
      "state": {
       "description_width": ""
      }
     },
     "e3319cd083dc4dba9510192c2e980285": {
      "model_module": "@jupyter-widgets/controls",
      "model_module_version": "1.5.0",
      "model_name": "ButtonStyleModel",
      "state": {
       "button_color": "white"
      }
     },
     "e33b68310984452e85d632f58e200dfc": {
      "model_module": "@jupyter-widgets/controls",
      "model_module_version": "1.5.0",
      "model_name": "HTMLModel",
      "state": {
       "layout": "IPY_MODEL_39acb729ceff44dca51cabde405ab5f9",
       "style": "IPY_MODEL_835965636a0f439da5e1d4c77f574e8e",
       "value": "<p style='font-family: IBM Plex Sans, Arial, Helvetica, sans-serif; font-size: 20px; font-weight: medium;'>Circuit Properties</p>"
      }
     },
     "e3429fa061464cb587e2837549286268": {
      "model_module": "@jupyter-widgets/output",
      "model_module_version": "1.0.0",
      "model_name": "OutputModel",
      "state": {
       "layout": "IPY_MODEL_573f7ea752274d1996778b374652433b",
       "outputs": [
        {
         "data": {
          "image/png": "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\n",
          "text/plain": "<Figure size 396x396 with 1 Axes>"
         },
         "metadata": {},
         "output_type": "display_data"
        }
       ]
      }
     },
     "e54e384901434bd5a9db88c5c35428f0": {
      "model_module": "@jupyter-widgets/base",
      "model_module_version": "1.2.0",
      "model_name": "LayoutModel",
      "state": {
       "width": "145px"
      }
     },
     "e636c78c5def40b293003b55778c63bb": {
      "model_module": "@jupyter-widgets/base",
      "model_module_version": "1.2.0",
      "model_name": "LayoutModel",
      "state": {
       "width": "145px"
      }
     },
     "e663704c61d84dffb5e5b8d129c93732": {
      "model_module": "@jupyter-widgets/controls",
      "model_module_version": "1.5.0",
      "model_name": "HTMLModel",
      "state": {
       "layout": "IPY_MODEL_8122e47d1d3648b6926ab8ec9431debe",
       "style": "IPY_MODEL_9ddff6118a6a43448688e2726bbfa6bb",
       "value": "job has successfully run"
      }
     },
     "e6c14845a79b41498ab1c083bfcb7aef": {
      "model_module": "@jupyter-widgets/controls",
      "model_module_version": "1.5.0",
      "model_name": "DescriptionStyleModel",
      "state": {
       "description_width": ""
      }
     },
     "e6f5ec84b61c4feb8db8ad6d0c568ee0": {
      "model_module": "@jupyter-widgets/controls",
      "model_module_version": "1.5.0",
      "model_name": "HTMLModel",
      "state": {
       "layout": "IPY_MODEL_f0f545736ece4d9998d5f066765a0888",
       "style": "IPY_MODEL_c937dcb86d3e40699467fd449b64e765",
       "value": "ibmq_belem"
      }
     },
     "e7b86f501b67461cbeaa1baa46b71fa0": {
      "model_module": "@jupyter-widgets/base",
      "model_module_version": "1.2.0",
      "model_name": "LayoutModel",
      "state": {
       "width": "145px"
      }
     },
     "e8813181fb87415ea5a49c816664d105": {
      "model_module": "@jupyter-widgets/controls",
      "model_module_version": "1.5.0",
      "model_name": "HBoxModel",
      "state": {
       "children": [
        "IPY_MODEL_4e3113b1537a4c6d897418e5137dd36a",
        "IPY_MODEL_0641bb809b93476084b1d4c2727aac46",
        "IPY_MODEL_5773a2617aaf425f842128c3e2274050",
        "IPY_MODEL_a7a23ea2f83f446a8d1ecf3e3fbc9861",
        "IPY_MODEL_9c8d2f40b4714d41978b1b78ccd69a6d",
        "IPY_MODEL_8f7801564d184ac3abfe08e65334e0e7"
       ],
       "layout": "IPY_MODEL_3572d8a8821540fe895b02f7682603e2"
      }
     },
     "e8a2c78e1c324f06a857f0f822925335": {
      "model_module": "@jupyter-widgets/controls",
      "model_module_version": "1.5.0",
      "model_name": "DescriptionStyleModel",
      "state": {
       "description_width": ""
      }
     },
     "e8fd79df412f4b329ca6a28d670cd75a": {
      "model_module": "@jupyter-widgets/base",
      "model_module_version": "1.2.0",
      "model_name": "LayoutModel",
      "state": {
       "margin": "0px 5px 0px 0px",
       "width": "32px"
      }
     },
     "e9b88237ee154e1e8b6970fd6580280a": {
      "model_module": "@jupyter-widgets/controls",
      "model_module_version": "1.5.0",
      "model_name": "HTMLModel",
      "state": {
       "layout": "IPY_MODEL_858354be3d5044f08030fefcfc8059e0",
       "style": "IPY_MODEL_2deb92d893da44b1a28d18f7e9725750",
       "value": "<font style='color:#34BC6E'>DONE</font>"
      }
     },
     "ea134eaf8d6942628370ea59423fb7cf": {
      "model_module": "@jupyter-widgets/output",
      "model_module_version": "1.0.0",
      "model_name": "OutputModel",
      "state": {
       "layout": "IPY_MODEL_fb977c12e72644d1a919b35956c39e9f",
       "outputs": [
        {
         "data": {
          "image/png": "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\n",
          "text/plain": "<Figure size 792x648 with 5 Axes>"
         },
         "metadata": {},
         "output_type": "display_data"
        }
       ]
      }
     },
     "ead5baf97baf4046a3a93b47266dfffe": {
      "model_module": "@jupyter-widgets/controls",
      "model_module_version": "1.5.0",
      "model_name": "HTMLModel",
      "state": {
       "layout": "IPY_MODEL_202dc28430144f798ea2033f47b0f1c8",
       "style": "IPY_MODEL_48fa511d6d174a66837bd073ad8a17e1",
       "value": "61a0f63dcbd506b3f1fefd40"
      }
     },
     "ead815ef3edc446e9c1ff57d3c2feb6c": {
      "model_module": "@jupyter-widgets/controls",
      "model_module_version": "1.5.0",
      "model_name": "DescriptionStyleModel",
      "state": {
       "description_width": ""
      }
     },
     "eadb5f8be4b942ae86e2885eb4654b69": {
      "model_module": "@jupyter-widgets/base",
      "model_module_version": "1.2.0",
      "model_name": "LayoutModel",
      "state": {
       "width": "70px"
      }
     },
     "ebccc0a928074a81b392a7a892a88443": {
      "model_module": "@jupyter-widgets/base",
      "model_module_version": "1.2.0",
      "model_name": "LayoutModel",
      "state": {
       "width": "95px"
      }
     },
     "ec1eb52b79aa4ee7b36cb9186b3b13c1": {
      "model_module": "@jupyter-widgets/controls",
      "model_module_version": "1.5.0",
      "model_name": "HTMLModel",
      "state": {
       "layout": "IPY_MODEL_070ecbb7bf124e7a8b684e8faf70baf3",
       "style": "IPY_MODEL_93724508f7694de1835ffc78971f74b3",
       "value": "61a10175a6ac307e03902fb8"
      }
     },
     "ec3e125650eb46faa1baaee1e4aae018": {
      "model_module": "@jupyter-widgets/controls",
      "model_module_version": "1.5.0",
      "model_name": "DescriptionStyleModel",
      "state": {
       "description_width": ""
      }
     },
     "ec90d676171b4306afe92ffead1e801c": {
      "model_module": "@jupyter-widgets/controls",
      "model_module_version": "1.5.0",
      "model_name": "GridBoxModel",
      "state": {
       "children": [
        "IPY_MODEL_2ee3e18515ca44468cea9175c1873176",
        "IPY_MODEL_6f0d7ebb71f4436292fe059abdd480ef",
        "IPY_MODEL_2db2cb0f7628444eb71cef8102bc6296"
       ],
       "layout": "IPY_MODEL_ee85dc9315104c3894fc9c3ef3d1aa79"
      }
     },
     "edf59d1fd21c4e9f8753b60d8c93ab50": {
      "model_module": "@jupyter-widgets/base",
      "model_module_version": "1.2.0",
      "model_name": "LayoutModel",
      "state": {
       "width": "95px"
      }
     },
     "ee85dc9315104c3894fc9c3ef3d1aa79": {
      "model_module": "@jupyter-widgets/base",
      "model_module_version": "1.2.0",
      "model_name": "LayoutModel",
      "state": {
       "grid_gap": "0px 0px",
       "grid_template_areas": "\n                               \"left right right right\"\n                               \"bottom bottom bottom bottom\"\n                               ",
       "grid_template_columns": "31% 23% 23% 23%",
       "grid_template_rows": "auto auto"
      }
     },
     "ef5ac27750ec483392c418099be3311d": {
      "model_module": "@jupyter-widgets/controls",
      "model_module_version": "1.5.0",
      "model_name": "DescriptionStyleModel",
      "state": {
       "description_width": ""
      }
     },
     "f063b7db8601470192c36d142fd76e72": {
      "model_module": "@jupyter-widgets/controls",
      "model_module_version": "1.5.0",
      "model_name": "TabModel",
      "state": {
       "_titles": {
        "0": "Year",
        "1": "Month",
        "2": "Week"
       },
       "children": [
        "IPY_MODEL_7a2aa3e56b6f4f7fad83e29234efe8f8",
        "IPY_MODEL_e3429fa061464cb587e2837549286268",
        "IPY_MODEL_d62575c01ac04655901309a1a0142577"
       ],
       "layout": "IPY_MODEL_38f0d2296e7e4b009706316d8680bac5",
       "selected_index": 1
      }
     },
     "f0f545736ece4d9998d5f066765a0888": {
      "model_module": "@jupyter-widgets/base",
      "model_module_version": "1.2.0",
      "model_name": "LayoutModel",
      "state": {
       "width": "145px"
      }
     },
     "f16ae8316ee14831b905ff332984bc05": {
      "model_module": "@jupyter-widgets/base",
      "model_module_version": "1.2.0",
      "model_name": "LayoutModel",
      "state": {
       "align_items": "center",
       "display": "flex-inline",
       "min_height": "400px"
      }
     },
     "f27429c6161741f19fd00e98f319e33a": {
      "model_module": "@jupyter-widgets/controls",
      "model_module_version": "1.5.0",
      "model_name": "HTMLModel",
      "state": {
       "layout": "IPY_MODEL_db29b3b3581944b6ae02b6f8538208c7",
       "style": "IPY_MODEL_abdca01c0b25494ea61b21348575a66b",
       "value": "<h1 style='color:#ffffff;background-color:#000000;padding-top: 1%;padding-bottom: 1%;padding-left: 1%; margin-top: 0px'>ibmq_belem</h1>"
      }
     },
     "f3a52c7451cf42ec85b4f97fd1b5c162": {
      "model_module": "@jupyter-widgets/base",
      "model_module_version": "1.2.0",
      "model_name": "LayoutModel",
      "state": {
       "grid_area": "middle"
      }
     },
     "f418babcb3f2451296bd88848da16e74": {
      "model_module": "@jupyter-widgets/base",
      "model_module_version": "1.2.0",
      "model_name": "LayoutModel",
      "state": {
       "width": "190px"
      }
     },
     "f46df290fc58426d86ad78212e41f0ea": {
      "model_module": "@jupyter-widgets/base",
      "model_module_version": "1.2.0",
      "model_name": "LayoutModel",
      "state": {}
     },
     "f4dcc4e4ec3646c19c4d345071c219bd": {
      "model_module": "@jupyter-widgets/controls",
      "model_module_version": "1.5.0",
      "model_name": "DescriptionStyleModel",
      "state": {
       "description_width": ""
      }
     },
     "f6132128c5014633b79924e8e5c637b1": {
      "model_module": "@jupyter-widgets/controls",
      "model_module_version": "1.5.0",
      "model_name": "TabModel",
      "state": {
       "_titles": {
        "0": "Configuration",
        "1": "Qubit Properties",
        "2": "Multi-Qubit Gates",
        "3": "Error Map",
        "4": "Job History"
       },
       "children": [
        "IPY_MODEL_7d3ce0f2fd594765b1dda48c7e06f719",
        "IPY_MODEL_26a73de0a418481da604ac34430510c1",
        "IPY_MODEL_b88a6e92876e4e1faa252124a44a1557",
        "IPY_MODEL_ea134eaf8d6942628370ea59423fb7cf",
        "IPY_MODEL_f063b7db8601470192c36d142fd76e72"
       ],
       "layout": "IPY_MODEL_0c226a86c8974bba9fe5f4f8b59c375d"
      }
     },
     "f6676d5f9b33449a8169fdbeea5aadba": {
      "model_module": "@jupyter-widgets/base",
      "model_module_version": "1.2.0",
      "model_name": "LayoutModel",
      "state": {
       "align_items": "center",
       "display": "flex-inline",
       "grid_area": "right",
       "max_height": "325px",
       "padding": "10px 10px 10px 10px",
       "width": "auto"
      }
     },
     "f6cf5854565646d6a2c2e14fdfb04b31": {
      "model_module": "@jupyter-widgets/base",
      "model_module_version": "1.2.0",
      "model_name": "LayoutModel",
      "state": {
       "grid_area": "bottom",
       "width": "auto"
      }
     },
     "f8d85bcc2d1a42548e4057ddf3659f86": {
      "model_module": "@jupyter-widgets/controls",
      "model_module_version": "1.5.0",
      "model_name": "DescriptionStyleModel",
      "state": {
       "description_width": ""
      }
     },
     "f9606752cec04216801f780f82c7d06c": {
      "model_module": "@jupyter-widgets/controls",
      "model_module_version": "1.5.0",
      "model_name": "DescriptionStyleModel",
      "state": {
       "description_width": ""
      }
     },
     "f99e93fcb936401aa1af4f66f8d69b2f": {
      "model_module": "@jupyter-widgets/controls",
      "model_module_version": "1.5.0",
      "model_name": "DescriptionStyleModel",
      "state": {
       "description_width": ""
      }
     },
     "fb977c12e72644d1a919b35956c39e9f": {
      "model_module": "@jupyter-widgets/base",
      "model_module_version": "1.2.0",
      "model_name": "LayoutModel",
      "state": {
       "align_items": "center",
       "display": "flex-inline"
      }
     },
     "fbc056000a0a4490926a4c1eca123d90": {
      "model_module": "@jupyter-widgets/controls",
      "model_module_version": "1.5.0",
      "model_name": "HTMLModel",
      "state": {
       "layout": "IPY_MODEL_fbe1a997fc194eeb93e359661ff65902",
       "style": "IPY_MODEL_61a642121e604410b4c6ccfb03a0bb1d",
       "value": "<table><style>\ntable {\n    border-collapse: collapse;\n    width: auto;\n}\n\nth, td {\n    text-align: left;\n    padding: 8px;\n}\n\ntr:nth-child(even) {background-color: #f6f6f6;}\n</style><tr><th></th><th>Frequency</th><th>T1</th><th>T2</th><th>RZ</th><th>SX</th><th>X</th><th>Readout error</th></tr><tr><td><font style='font-weight:bold'>Q0</font></td><td>5.00043 GHz</td><td>92.25003 us</td><td>142.52011 us</td><td>0</td><td>0.0002</td><td>0.0002</td><td>0.0227 </td><tr><td><font style='font-weight:bold'>Q1</font></td><td>4.84985 GHz</td><td>97.88404 us</td><td>35.39915 us</td><td>0</td><td>0.00019</td><td>0.00019</td><td>0.0358 </td><tr><td><font style='font-weight:bold'>Q2</font></td><td>4.78295 GHz</td><td>98.38128 us</td><td>176.19603 us</td><td>0</td><td>0.00026</td><td>0.00026</td><td>0.0157 </td><tr><td><font style='font-weight:bold'>Q3</font></td><td>4.85808 GHz</td><td>110.21319 us</td><td>154.16102 us</td><td>0</td><td>0.00099</td><td>0.00099</td><td>0.03 </td><tr><td><font style='font-weight:bold'>Q4</font></td><td>4.97836 GHz</td><td>97.70384 us</td><td>177.76583 us</td><td>0</td><td>0.00017</td><td>0.00017</td><td>0.0291 </td></table>"
      }
     },
     "fbe1a997fc194eeb93e359661ff65902": {
      "model_module": "@jupyter-widgets/base",
      "model_module_version": "1.2.0",
      "model_name": "LayoutModel",
      "state": {}
     },
     "fc0118e21cd24d54ae4b32795272e591": {
      "model_module": "@jupyter-widgets/controls",
      "model_module_version": "1.5.0",
      "model_name": "DescriptionStyleModel",
      "state": {
       "description_width": ""
      }
     },
     "fc2a5feb710847e2b3985a18c565729e": {
      "model_module": "@jupyter-widgets/controls",
      "model_module_version": "1.5.0",
      "model_name": "HTMLModel",
      "state": {
       "layout": "IPY_MODEL_d010ab5bb75c4de685914ada88d1f71f",
       "style": "IPY_MODEL_526c8f9b430f41a3b32d58fc5d03784b",
       "value": "job has successfully run"
      }
     }
    },
    "version_major": 2,
    "version_minor": 0
   }
  }
 },
 "nbformat": 4,
 "nbformat_minor": 4
}
